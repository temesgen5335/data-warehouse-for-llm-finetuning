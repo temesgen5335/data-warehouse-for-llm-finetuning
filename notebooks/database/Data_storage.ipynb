{
  "cells": [
    {
      "cell_type": "code",
      "execution_count": null,
      "metadata": {
        "colab": {
          "base_uri": "https://localhost:8080/"
        },
        "id": "b2gPnn3CzFlX",
        "outputId": "e91407a8-d1db-4c55-aa99-2b7e5df7396b"
      },
      "outputs": [
        {
          "name": "stdout",
          "output_type": "stream",
          "text": [
            "Requirement already satisfied: pandas in /usr/local/lib/python3.10/dist-packages (2.0.3)\n",
            "Collecting pymongo\n",
            "  Downloading pymongo-4.7.2-cp310-cp310-manylinux_2_17_x86_64.manylinux2014_x86_64.whl (670 kB)\n",
            "\u001b[2K     \u001b[90m━━━━━━━━━━━━━━━━━━━━━━━━━━━━━━━━━━━━━━━━\u001b[0m \u001b[32m670.0/670.0 kB\u001b[0m \u001b[31m11.9 MB/s\u001b[0m eta \u001b[36m0:00:00\u001b[0m\n",
            "\u001b[?25hRequirement already satisfied: python-dateutil>=2.8.2 in /usr/local/lib/python3.10/dist-packages (from pandas) (2.8.2)\n",
            "Requirement already satisfied: pytz>=2020.1 in /usr/local/lib/python3.10/dist-packages (from pandas) (2023.4)\n",
            "Requirement already satisfied: tzdata>=2022.1 in /usr/local/lib/python3.10/dist-packages (from pandas) (2024.1)\n",
            "Requirement already satisfied: numpy>=1.21.0 in /usr/local/lib/python3.10/dist-packages (from pandas) (1.25.2)\n",
            "Collecting dnspython<3.0.0,>=1.16.0 (from pymongo)\n",
            "  Downloading dnspython-2.6.1-py3-none-any.whl (307 kB)\n",
            "\u001b[2K     \u001b[90m━━━━━━━━━━━━━━━━━━━━━━━━━━━━━━━━━━━━━━━━\u001b[0m \u001b[32m307.7/307.7 kB\u001b[0m \u001b[31m34.0 MB/s\u001b[0m eta \u001b[36m0:00:00\u001b[0m\n",
            "\u001b[?25hRequirement already satisfied: six>=1.5 in /usr/local/lib/python3.10/dist-packages (from python-dateutil>=2.8.2->pandas) (1.16.0)\n",
            "Installing collected packages: dnspython, pymongo\n",
            "Successfully installed dnspython-2.6.1 pymongo-4.7.2\n"
          ]
        }
      ],
      "source": [
        "!pip install pandas pymongo"
      ]
    },
    {
      "cell_type": "code",
      "execution_count": 14,
      "metadata": {
        "colab": {
          "base_uri": "https://localhost:8080/"
        },
        "id": "MQXQU3O39wYN",
        "outputId": "77dcb673-7a6f-4932-d402-99acfaa9f8c8"
      },
      "outputs": [
        {
          "output_type": "stream",
          "name": "stdout",
          "text": [
            "Mounted at /content/drive\n"
          ]
        }
      ],
      "source": [
        "from google.colab import drive\n",
        "drive.mount('/content/drive')"
      ]
    },
    {
      "cell_type": "code",
      "execution_count": null,
      "metadata": {
        "id": "fG6qagCE4Lf_"
      },
      "outputs": [],
      "source": [
        "import pandas as pd\n",
        "from pymongo import MongoClient\n",
        "import os"
      ]
    },
    {
      "cell_type": "code",
      "execution_count": null,
      "metadata": {
        "id": "r5YAXK09zf8c"
      },
      "outputs": [],
      "source": [
        "# Function to read CSV file\n",
        "def read_csv(file_path):\n",
        "    try:\n",
        "        df = pd.read_csv(file_path)\n",
        "        return df\n",
        "    except Exception as e:\n",
        "        print(f\"Error reading CSV file: {e}\")\n",
        "        return None"
      ]
    },
    {
      "cell_type": "code",
      "execution_count": null,
      "metadata": {
        "id": "BCKgXWrPznjK"
      },
      "outputs": [],
      "source": [
        "# Function to connect to MongoDB\n",
        "def connect_mongodb(uri, db_name, collection_name):\n",
        "    try:\n",
        "        client = MongoClient(uri)\n",
        "        db = client[db_name]\n",
        "        collection = db[collection_name]\n",
        "        return collection\n",
        "    except Exception as e:\n",
        "        print(f\"Error connecting to MongoDB: {e}\")\n",
        "        return None"
      ]
    },
    {
      "cell_type": "code",
      "execution_count": null,
      "metadata": {
        "id": "XG4lUH-qzt7-"
      },
      "outputs": [],
      "source": [
        "# Function to insert data into MongoDB\n",
        "def insert_data(collection, data):\n",
        "    try:\n",
        "        collection.insert_many(data)\n",
        "        print(\"Data inserted successfully\")\n",
        "    except Exception as e:\n",
        "        print(f\"Error inserting data into MongoDB: {e}\")\n"
      ]
    },
    {
      "cell_type": "code",
      "execution_count": 15,
      "metadata": {
        "id": "z5HDo46Uz25D"
      },
      "outputs": [],
      "source": [
        "# Main function\n",
        "def main():\n",
        "    # Read the CSV file\n",
        "    file_path = '/content/drive/MyDrive/preprocessed.csv'  # Change this to the path of your CSV file\n",
        "    df = read_csv(file_path)\n",
        "\n",
        "    if df is not None:\n",
        "        # Convert DataFrame to a list of dictionaries\n",
        "        data = df.to_dict(orient='records')\n",
        "\n",
        "        # MongoDB connection parameters\n",
        "        uri = os.getenv('MONGODB_URI', 'mongodb://localhost:27017/')\n",
        "        db_name = 'api_database'\n",
        "        collection_name = 'articles_collection'\n",
        "\n",
        "        # Connect to MongoDB\n",
        "        collection = connect_mongodb(uri, db_name, collection_name)\n",
        "\n",
        "        if collection is not None:\n",
        "            # Insert data into MongoDB\n",
        "            insert_data(collection, data)\n"
      ]
    },
    {
      "cell_type": "code",
      "execution_count": 16,
      "metadata": {
        "colab": {
          "base_uri": "https://localhost:8080/"
        },
        "id": "QZ0qbeQb2UJ_",
        "outputId": "f9408e24-0b62-4973-d324-b69d8e83084a"
      },
      "outputs": [
        {
          "output_type": "stream",
          "name": "stdout",
          "text": [
            "Error inserting data into MongoDB: localhost:27017: [Errno 111] Connection refused (configured timeouts: socketTimeoutMS: 20000.0ms, connectTimeoutMS: 20000.0ms), Timeout: 30s, Topology Description: <TopologyDescription id: 665169926e6a1c8e4818fd9f, topology_type: Unknown, servers: [<ServerDescription ('localhost', 27017) server_type: Unknown, rtt: None, error=AutoReconnect('localhost:27017: [Errno 111] Connection refused (configured timeouts: socketTimeoutMS: 20000.0ms, connectTimeoutMS: 20000.0ms)')>]>\n"
          ]
        }
      ],
      "source": [
        "# Execute the main function\n",
        "main()"
      ]
    }
  ],
  "metadata": {
    "colab": {
      "provenance": []
    },
    "kernelspec": {
      "display_name": "Python 3",
      "name": "python3"
    },
    "language_info": {
      "name": "python"
    }
  },
  "nbformat": 4,
  "nbformat_minor": 0
}