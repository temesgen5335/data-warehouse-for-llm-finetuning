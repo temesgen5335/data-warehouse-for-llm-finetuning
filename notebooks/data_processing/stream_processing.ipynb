{
 "cells": [
  {
   "cell_type": "code",
   "execution_count": 1,
   "metadata": {},
   "outputs": [],
   "source": [
    "import faust"
   ]
  },
  {
   "cell_type": "code",
   "execution_count": 2,
   "metadata": {},
   "outputs": [],
   "source": [
    "app = faust.App('hello-world', broker='kafka://kafka:9092', value_seralizer='raw')"
   ]
  },
  {
   "cell_type": "code",
   "execution_count": 3,
   "metadata": {},
   "outputs": [],
   "source": [
    "greetings_topic = app.topic('greetings')"
   ]
  },
  {
   "cell_type": "code",
   "execution_count": 4,
   "metadata": {},
   "outputs": [],
   "source": [
    "@app.agent(greetings_topic)\n",
    "async def greet(greetings):\n",
    "    async for greeting in greetings:\n",
    "        print(f'{greeting}!')"
   ]
  },
  {
   "cell_type": "code",
   "execution_count": null,
   "metadata": {},
   "outputs": [],
   "source": [
    "\n",
    "class ScrapedData(faust.Record):\n",
    "    url: str\n",
    "    content: str\n",
    "\n",
    "scraped_data_topic = app.topic('scraped_data', value_type=ScrapedData)\n",
    "\n",
    "@app.agent(scraped_data_topic)\n",
    "async def process_scraped_data(data):\n",
    "    async for datum in data:\n",
    "        #process the scraped data and save it to MongoDB\n",
    "        pass"
   ]
  }
 ],
 "metadata": {
  "kernelspec": {
   "display_name": ".venv",
   "language": "python",
   "name": "python3"
  },
  "language_info": {
   "codemirror_mode": {
    "name": "ipython",
    "version": 3
   },
   "file_extension": ".py",
   "mimetype": "text/x-python",
   "name": "python",
   "nbconvert_exporter": "python",
   "pygments_lexer": "ipython3",
   "version": "3.9.19"
  }
 },
 "nbformat": 4,
 "nbformat_minor": 2
}
