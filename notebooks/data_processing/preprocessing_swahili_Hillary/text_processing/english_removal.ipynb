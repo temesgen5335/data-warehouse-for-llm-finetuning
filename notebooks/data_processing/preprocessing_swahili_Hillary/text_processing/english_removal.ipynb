{
 "cells": [
  {
   "cell_type": "code",
   "execution_count": 34,
   "id": "initial_id",
   "metadata": {
    "collapsed": true,
    "ExecuteTime": {
     "end_time": "2024-05-21T05:14:03.507430Z",
     "start_time": "2024-05-21T05:14:03.503659Z"
    }
   },
   "outputs": [],
   "source": [
    "from src.mongo_db import get_collection"
   ]
  },
  {
   "cell_type": "code",
   "outputs": [],
   "source": [
    "filter = {\"category\": \"text\"}"
   ],
   "metadata": {
    "collapsed": false,
    "ExecuteTime": {
     "end_time": "2024-05-21T05:14:03.696762Z",
     "start_time": "2024-05-21T05:14:03.689098Z"
    }
   },
   "id": "3910ed247df82d30",
   "execution_count": 35
  },
  {
   "cell_type": "code",
   "outputs": [],
   "source": [
    "swahili_collection = get_collection(\"web_scraper\", \"swahili_text\")"
   ],
   "metadata": {
    "collapsed": false,
    "ExecuteTime": {
     "end_time": "2024-05-21T05:14:03.841126Z",
     "start_time": "2024-05-21T05:14:03.833066Z"
    }
   },
   "id": "c55ac594fad14828",
   "execution_count": 36
  },
  {
   "cell_type": "code",
   "outputs": [],
   "source": [
    "def get_docs():\n",
    "    swa_docs = swahili_collection.find(filter)\n",
    "    return list(swa_docs)"
   ],
   "metadata": {
    "collapsed": false,
    "ExecuteTime": {
     "end_time": "2024-05-21T05:14:03.974823Z",
     "start_time": "2024-05-21T05:14:03.970830Z"
    }
   },
   "id": "c331497d0e905b21",
   "execution_count": 37
  },
  {
   "cell_type": "code",
   "outputs": [],
   "source": [
    "docs_list = get_docs()"
   ],
   "metadata": {
    "collapsed": false,
    "ExecuteTime": {
     "end_time": "2024-05-21T05:14:04.087100Z",
     "start_time": "2024-05-21T05:14:04.081233Z"
    }
   },
   "id": "6dbe277ed83980c0",
   "execution_count": 38
  },
  {
   "cell_type": "code",
   "outputs": [],
   "source": [
    "clean_content_nest_list = [doc.get(\"cleaned_content\") for doc in docs_list]"
   ],
   "metadata": {
    "collapsed": false,
    "ExecuteTime": {
     "end_time": "2024-05-21T05:14:04.260769Z",
     "start_time": "2024-05-21T05:14:04.257342Z"
    }
   },
   "id": "17dd7683d12a73c5",
   "execution_count": 39
  },
  {
   "cell_type": "code",
   "outputs": [],
   "source": [
    "clean_content_list = [item for sublist in docs_list for item in sublist.get(\"cleaned_content\", [])]\n"
   ],
   "metadata": {
    "collapsed": false,
    "ExecuteTime": {
     "end_time": "2024-05-21T05:14:04.428218Z",
     "start_time": "2024-05-21T05:14:04.415604Z"
    }
   },
   "id": "7ebc5b7c7ccbf489",
   "execution_count": 40
  },
  {
   "cell_type": "code",
   "outputs": [
    {
     "data": {
      "text/plain": "['',\n 'home',\n 'proverbs',\n 'cuisine',\n 'taraab',\n 'mashairi',\n 'dua',\n 'riddles',\n 'pictures',\n 'taraab lyrics',\n 'superstitions',\n 'visa na mikasa',\n 'music',\n 'articles',\n 'qasweeda',\n 'superstitions          kula gizani ni kula na shetani              to eat in the dark is to eat with the devil              this belief discourages eating in the dark for              obvious reasons          kushona nguo mwilini kunaleta ufukara tabia            hii aidha inajongeza kifo maana inakuwa kama            mtu anajishonea sanda yake mwenyewe              to mend a garment which is on ones body              brings poverty it also suggests preparing              ones own shroud which betokens death          kufagia usiku kunakimbiza baraka              to sweep at night is to chase away blessings              this belief contains some truth in that one              may sweep up and throw away something of              value unwittinglykutembea hali ya kuwa mtu amevaa kiatu            kimoja tu kunavimbisha ziwa la mama yake            mtu              walking about with only one shoe on causes              ones mothers breast to swell i suppose this              is simply to discourage the stupidity of going              about with only one shoe on          mtu akinywa maji usiku pasi na kuufumka mtu            ngi usiku roho yake itaingia ndani ya mtungi na            akitokea mtu akaufunika huo mtungi wakati            huo huo basi atakufa papo hapo              if a man drinks water at night and leaves the              vessel uncovered his soul will plunge into it              during the night and if someone accidentally              puts the lid on he will die at once          mtu akiona chungu ya wadudu sisimizi ukutani             basi atafikiwa na wageni wa ghafla              if a man sees a swarm of ants on the wall it               means that unexpected guests will arrive          kwenda kulala pasi na kuosha miguu basi hiyo             miguu italazwa katika moto wa jahannam               if one goes to bed without washing ones feet               they will lie in the fires of hell          mtu akilala pasipo kuosha miguu nyayo zake             zitarambwa na shetani               if a man goes to bed without washing his feet               the soles of his feet will be licked by the devil          mtu akila bila ya kupiga bismillahi   basi             baraka itaondoka na mtu hataweza kushiba               if a man eats without saying grace there will               be no blessing so the food will not suffice               this belief has a religious background islam               teaches its followers to allow religion to per               meate all their daily acts and the great               majority of the population of zanzibar and               pemba are muslims          mtoto mchanga akiachwa peke yake atageuzwa             na shetani               if a baby is left alone in a room it will be               changed by the devil for his own at is firmly               believed that albinos are changelings          mwenye kufanya mazowea ya kukaa kizingitini             atakawia kuoa              he who develops a habit of sitting on a door              step will be late in getting married          kula wima kizingitini mtu atapigwa dafrau na             shetani               he who eats while standing on the doorstep               will be knocked down by a devil in tended to               discourage the habit of eating in such abnormal places          kula kitu kitamu kinjianjia mtu atasibiwa na shetani               he who eats sweet food while walking will be               possessed of a devil it is regarded as bad               manners to eat while walking          mwenye kumcheka mkwewe hupata maradhi             ya chokea               he who laughs at his father or motherinlaw               will develop a stye          kumchungulia mtu mzima aliyekaa uchi kunaleta upofu               looking at a grownup person naked will               bring blindness          kuzaliwa na vidole sita ni mabruki               to be born with six fingers is to have good               fortune          ukiuonyesha mwezi mchanga kidole basi utakatika kidole               if you point at the new moon with a finger it              will get cut          mwenye kula miguu ya kuku atakuwa daima             katika mwendo tu he who eats a fowls legs will become a wan               derer          inakatazwa kunywa maji ndani ya kata pasi na             kuikunguta               it is forbidden to drink water from a ladle               without vigorously shaking it first to ensure               that it is clean and free from insects          kupeana mkasi mikono kwa mkono kunasabibisha kuchukiana bure               handing over a pair of scissors to someone               directly causes hatred          kukaa juu ya mto kunaleta majipu matakoni               sitting on cushions causes boils on the but               tocks          kukutana na paka mweusi usiku ni nuksi               meeting a black cat at night means bad luck          kunywa maji ya chooni kunapeleka mtu kuwa             mwongo               drinking water from the lavatory makes a               man a liar intended to discourage so unwholesome a habit          kutema mate ndani ya lindi kunaleta kuumwa             na koo               spitting into the cesspit causes sore throat          kumbusu mtoto usingizini kunasabibisha mtoto               huyo kuwa na majivuno ukubwani mwake               kissing a sleeping child will make it grow up               conceited          mwenye kuchukua quran kichwani ataingiliwa             na wazimu               carrying the holy quran on the head will               cause madness          kukaa kitini na kupunga miguu mbele na nyuma m kufukuza riziki               to sit on a chair swinging ones legs backwards and forwards will drive away ones               daily bread               this is regarded as bad manners by arabs as               it is a sign of contempt          kupiga uluzi ni kuita shetani               to whistle is to call the devil          ukikanyaga chakula makusudi utasibika na             maradhi ya matende               if you tread on food deliberately you will get               elephantiasis this belief has a religious               background and is based on an abhorrence               of waste          mwenye kuzowea kula ndani ya chungu atapata             mvua kubwa siku ya harusi yake              one who eats straight from a cookingpot will              have heavy rain on his wedding day          mtoto mwenye kuchezea kivuli chake cha taa             atakojoa kitandani               a child who plays with his shadow cast by a               lamp will wet his bed          kuuza chumvi usiku ni nuksi kwa mwenye duka               selling salt at night brings ill luck to the               shopkeeper this belief is so deeprooted',\n 'superstitions          kula gizani ni kula na shetani              to eat in the dark is to eat with the devil              this belief discourages eating in the dark for              obvious reasons          kushona nguo mwilini kunaleta ufukara tabia            hii aidha inajongeza kifo maana inakuwa kama            mtu anajishonea sanda yake mwenyewe              to mend a garment which is on ones body              brings poverty it also suggests preparing              ones own shroud which betokens death          kufagia usiku kunakimbiza baraka              to sweep at night is to chase away blessings              this belief contains some truth in that one              may sweep up and throw away something of              value unwittinglykutembea hali ya kuwa mtu amevaa kiatu            kimoja tu kunavimbisha ziwa la mama yake            mtu              walking about with only one shoe on causes              ones mothers breast to swell i suppose this              is simply to discourage the stupidity of going              about with only one shoe on          mtu akinywa maji usiku pasi na kuufumka mtu            ngi usiku roho yake itaingia ndani ya mtungi na            akitokea mtu akaufunika huo mtungi wakati            huo huo basi atakufa papo hapo              if a man drinks water at night and leaves the              vessel uncovered his soul will plunge into it              during the night and if someone accidentally              puts the lid on he will die at once          mtu akiona chungu ya wadudu sisimizi ukutani             basi atafikiwa na wageni wa ghafla              if a man sees a swarm of ants on the wall it               means that unexpected guests will arrive          kwenda kulala pasi na kuosha miguu basi hiyo             miguu italazwa katika moto wa jahannam               if one goes to bed without washing ones feet               they will lie in the fires of hell          mtu akilala pasipo kuosha miguu nyayo zake             zitarambwa na shetani               if a man goes to bed without washing his feet               the soles of his feet will be licked by the devil          mtu akila bila ya kupiga bismillahi   basi             baraka itaondoka na mtu hataweza kushiba               if a man eats without saying grace there will               be no blessing so the food will not suffice               this belief has a religious background islam               teaches its followers to allow religion to per               meate all their daily acts and the great               majority of the population of zanzibar and               pemba are muslims          mtoto mchanga akiachwa peke yake atageuzwa             na shetani               if a baby is left alone in a room it will be               changed by the devil for his own at is firmly               believed that albinos are changelings          mwenye kufanya mazowea ya kukaa kizingitini             atakawia kuoa              he who develops a habit of sitting on a door              step will be late in getting married          kula wima kizingitini mtu atapigwa dafrau na             shetani               he who eats while standing on the doorstep               will be knocked down by a devil in tended to               discourage the habit of eating in such abnormal places          kula kitu kitamu kinjianjia mtu atasibiwa na shetani               he who eats sweet food while walking will be               possessed of a devil it is regarded as bad               manners to eat while walking          mwenye kumcheka mkwewe hupata maradhi             ya chokea               he who laughs at his father or motherinlaw               will develop a stye          kumchungulia mtu mzima aliyekaa uchi kunaleta upofu               looking at a grownup person naked will               bring blindness          kuzaliwa na vidole sita ni mabruki               to be born with six fingers is to have good               fortune          ukiuonyesha mwezi mchanga kidole basi utakatika kidole               if you point at the new moon with a finger it              will get cut          mwenye kula miguu ya kuku atakuwa daima             katika mwendo tu he who eats a fowls legs will become a wan               derer          inakatazwa kunywa maji ndani ya kata pasi na             kuikunguta               it is forbidden to drink water from a ladle               without vigorously shaking it first to ensure               that it is clean and free from insects          kupeana mkasi mikono kwa mkono kunasabibisha kuchukiana bure               handing over a pair of scissors to someone               directly causes hatred          kukaa juu ya mto kunaleta majipu matakoni               sitting on cushions causes boils on the but               tocks          kukutana na paka mweusi usiku ni nuksi               meeting a black cat at night means bad luck          kunywa maji ya chooni kunapeleka mtu kuwa             mwongo               drinking water from the lavatory makes a               man a liar intended to discourage so unwholesome a habit          kutema mate ndani ya lindi kunaleta kuumwa             na koo               spitting into the cesspit causes sore throat          kumbusu mtoto usingizini kunasabibisha mtoto               huyo kuwa na majivuno ukubwani mwake               kissing a sleeping child will make it grow up               conceited          mwenye kuchukua quran kichwani ataingiliwa             na wazimu               carrying the holy quran on the head will               cause madness          kukaa kitini na kupunga miguu mbele na nyuma m kufukuza riziki               to sit on a chair swinging ones legs backwards and forwards will drive away ones               daily bread               this is regarded as bad manners by arabs as               it is a sign of contempt          kupiga uluzi ni kuita shetani               to whistle is to call the devil          ukikanyaga chakula makusudi utasibika na             maradhi ya matende               if you tread on food deliberately you will get               elephantiasis this belief has a religious               background and is based on an abhorrence               of waste          mwenye kuzowea kula ndani ya chungu atapata             mvua kubwa siku ya harusi yake              one who eats straight from a cookingpot will              have heavy rain on his wedding day          mtoto mwenye kuchezea kivuli chake cha taa             atakojoa kitandani               a child who plays with his shadow cast by a               lamp will wet his bed          kuuza chumvi usiku ni nuksi kwa mwenye duka               selling salt at night brings ill luck to the               shopkeeper this belief is so deeprooted',\n 'superstitions          kula gizani ni kula na shetani              to eat in the dark is to eat with the devil              this belief discourages eating in the dark for              obvious reasons          kushona nguo mwilini kunaleta ufukara tabia            hii aidha inajongeza kifo maana inakuwa kama            mtu anajishonea sanda yake mwenyewe              to mend a garment which is on ones body              brings poverty it also suggests preparing              ones own shroud which betokens death          kufagia usiku kunakimbiza baraka              to sweep at night is to chase away blessings              this belief contains some truth in that one              may sweep up and throw away something of              value unwittinglykutembea hali ya kuwa mtu amevaa kiatu            kimoja tu kunavimbisha ziwa la mama yake            mtu              walking about with only one shoe on causes              ones mothers breast to swell i suppose this              is simply to discourage the stupidity of going              about with only one shoe on          mtu akinywa maji usiku pasi na kuufumka mtu            ngi usiku roho yake itaingia ndani ya mtungi na            akitokea mtu akaufunika huo mtungi wakati            huo huo basi atakufa papo hapo              if a man drinks water at night and leaves the              vessel uncovered his soul will plunge into it              during the night and if someone accidentally              puts the lid on he will die at once          mtu akiona chungu ya wadudu sisimizi ukutani             basi atafikiwa na wageni wa ghafla              if a man sees a swarm of ants on the wall it               means that unexpected guests will arrive          kwenda kulala pasi na kuosha miguu basi hiyo             miguu italazwa katika moto wa jahannam               if one goes to bed without washing ones feet               they will lie in the fires of hell          mtu akilala pasipo kuosha miguu nyayo zake             zitarambwa na shetani               if a man goes to bed without washing his feet               the soles of his feet will be licked by the devil          mtu akila bila ya kupiga bismillahi   basi             baraka itaondoka na mtu hataweza kushiba               if a man eats without saying grace there will               be no blessing so the food will not suffice               this belief has a religious background islam               teaches its followers to allow religion to per               meate all their daily acts and the great               majority of the population of zanzibar and               pemba are muslims          mtoto mchanga akiachwa peke yake atageuzwa             na shetani               if a baby is left alone in a room it will be               changed by the devil for his own at is firmly               believed that albinos are changelings          mwenye kufanya mazowea ya kukaa kizingitini             atakawia kuoa              he who develops a habit of sitting on a door              step will be late in getting married          kula wima kizingitini mtu atapigwa dafrau na             shetani               he who eats while standing on the doorstep               will be knocked down by a devil in tended to               discourage the habit of eating in such abnormal places          kula kitu kitamu kinjianjia mtu atasibiwa na shetani               he who eats sweet food while walking will be               possessed of a devil it is regarded as bad               manners to eat while walking          mwenye kumcheka mkwewe hupata maradhi             ya chokea               he who laughs at his father or motherinlaw               will develop a stye          kumchungulia mtu mzima aliyekaa uchi kunaleta upofu               looking at a grownup person naked will               bring blindness          kuzaliwa na vidole sita ni mabruki               to be born with six fingers is to have good               fortune          ukiuonyesha mwezi mchanga kidole basi utakatika kidole               if you point at the new moon with a finger it              will get cut          mwenye kula miguu ya kuku atakuwa daima             katika mwendo tu he who eats a fowls legs will become a wan               derer          inakatazwa kunywa maji ndani ya kata pasi na             kuikunguta               it is forbidden to drink water from a ladle               without vigorously shaking it first to ensure               that it is clean and free from insects          kupeana mkasi mikono kwa mkono kunasabibisha kuchukiana bure               handing over a pair of scissors to someone               directly causes hatred          kukaa juu ya mto kunaleta majipu matakoni               sitting on cushions causes boils on the but               tocks          kukutana na paka mweusi usiku ni nuksi               meeting a black cat at night means bad luck          kunywa maji ya chooni kunapeleka mtu kuwa             mwongo               drinking water from the lavatory makes a               man a liar intended to discourage so unwholesome a habit          kutema mate ndani ya lindi kunaleta kuumwa             na koo               spitting into the cesspit causes sore throat          kumbusu mtoto usingizini kunasabibisha mtoto               huyo kuwa na majivuno ukubwani mwake               kissing a sleeping child will make it grow up               conceited          mwenye kuchukua quran kichwani ataingiliwa             na wazimu               carrying the holy quran on the head will               cause madness          kukaa kitini na kupunga miguu mbele na nyuma m kufukuza riziki               to sit on a chair swinging ones legs backwards and forwards will drive away ones               daily bread               this is regarded as bad manners by arabs as               it is a sign of contempt          kupiga uluzi ni kuita shetani               to whistle is to call the devil          ukikanyaga chakula makusudi utasibika na             maradhi ya matende               if you tread on food deliberately you will get               elephantiasis this belief has a religious               background and is based on an abhorrence               of waste          mwenye kuzowea kula ndani ya chungu atapata             mvua kubwa siku ya harusi yake              one who eats straight from a cookingpot will              have heavy rain on his wedding day          mtoto mwenye kuchezea kivuli chake cha taa             atakojoa kitandani               a child who plays with his shadow cast by a               lamp will wet his bed          kuuza chumvi usiku ni nuksi kwa mwenye duka               selling salt at night brings ill luck to the               shopkeeper this belief is so deeprooted',\n 'mtoto mwenye kuchezea kivuli chake cha taa             atakojoa kitandani               a child who plays with his shadow cast by a               lamp will wet his bed          kuuza chumvi usiku ni nuksi kwa mwenye duka               selling salt at night brings ill luck to the               shopkeeper this belief is so deeprooted',\n '',\n 'home',\n 'proverbs',\n 'cuisine',\n 'taraab',\n 'mashairi',\n 'dua',\n 'riddles',\n 'pictures',\n 'taraab lyrics',\n 'superstitions',\n 'visa na mikasa',\n 'music',\n 'articles',\n 'qasweeda',\n 'superstitions          kula gizani ni kula na shetani              to eat in the dark is to eat with the devil              this belief discourages eating in the dark for              obvious reasons          kushona nguo mwilini kunaleta ufukara tabia            hii aidha inajongeza kifo maana inakuwa kama            mtu anajishonea sanda yake mwenyewe              to mend a garment which is on ones body              brings poverty it also suggests preparing              ones own shroud which betokens death          kufagia usiku kunakimbiza baraka              to sweep at night is to chase away blessings              this belief contains some truth in that one              may sweep up and throw away something of              value unwittinglykutembea hali ya kuwa mtu amevaa kiatu            kimoja tu kunavimbisha ziwa la mama yake            mtu              walking about with only one shoe on causes              ones mothers breast to swell i suppose this              is simply to discourage the stupidity of going              about with only one shoe on          mtu akinywa maji usiku pasi na kuufumka mtu            ngi usiku roho yake itaingia ndani ya mtungi na            akitokea mtu akaufunika huo mtungi wakati            huo huo basi atakufa papo hapo              if a man drinks water at night and leaves the              vessel uncovered his soul will plunge into it              during the night and if someone accidentally              puts the lid on he will die at once          mtu akiona chungu ya wadudu sisimizi ukutani             basi atafikiwa na wageni wa ghafla              if a man sees a swarm of ants on the wall it               means that unexpected guests will arrive          kwenda kulala pasi na kuosha miguu basi hiyo             miguu italazwa katika moto wa jahannam               if one goes to bed without washing ones feet               they will lie in the fires of hell          mtu akilala pasipo kuosha miguu nyayo zake             zitarambwa na shetani               if a man goes to bed without washing his feet               the soles of his feet will be licked by the devil          mtu akila bila ya kupiga bismillahi   basi             baraka itaondoka na mtu hataweza kushiba               if a man eats without saying grace there will               be no blessing so the food will not suffice               this belief has a religious background islam               teaches its followers to allow religion to per               meate all their daily acts and the great               majority of the population of zanzibar and               pemba are muslims          mtoto mchanga akiachwa peke yake atageuzwa             na shetani               if a baby is left alone in a room it will be               changed by the devil for his own at is firmly               believed that albinos are changelings          mwenye kufanya mazowea ya kukaa kizingitini             atakawia kuoa              he who develops a habit of sitting on a door              step will be late in getting married          kula wima kizingitini mtu atapigwa dafrau na             shetani               he who eats while standing on the doorstep               will be knocked down by a devil in tended to               discourage the habit of eating in such abnormal places          kula kitu kitamu kinjianjia mtu atasibiwa na shetani               he who eats sweet food while walking will be               possessed of a devil it is regarded as bad               manners to eat while walking          mwenye kumcheka mkwewe hupata maradhi             ya chokea               he who laughs at his father or motherinlaw               will develop a stye          kumchungulia mtu mzima aliyekaa uchi kunaleta upofu               looking at a grownup person naked will               bring blindness          kuzaliwa na vidole sita ni mabruki               to be born with six fingers is to have good               fortune          ukiuonyesha mwezi mchanga kidole basi utakatika kidole               if you point at the new moon with a finger it              will get cut          mwenye kula miguu ya kuku atakuwa daima             katika mwendo tu he who eats a fowls legs will become a wan               derer          inakatazwa kunywa maji ndani ya kata pasi na             kuikunguta               it is forbidden to drink water from a ladle               without vigorously shaking it first to ensure               that it is clean and free from insects          kupeana mkasi mikono kwa mkono kunasabibisha kuchukiana bure               handing over a pair of scissors to someone               directly causes hatred          kukaa juu ya mto kunaleta majipu matakoni               sitting on cushions causes boils on the but               tocks          kukutana na paka mweusi usiku ni nuksi               meeting a black cat at night means bad luck          kunywa maji ya chooni kunapeleka mtu kuwa             mwongo               drinking water from the lavatory makes a               man a liar intended to discourage so unwholesome a habit          kutema mate ndani ya lindi kunaleta kuumwa             na koo               spitting into the cesspit causes sore throat          kumbusu mtoto usingizini kunasabibisha mtoto               huyo kuwa na majivuno ukubwani mwake               kissing a sleeping child will make it grow up               conceited          mwenye kuchukua quran kichwani ataingiliwa             na wazimu               carrying the holy quran on the head will               cause madness          kukaa kitini na kupunga miguu mbele na nyuma m kufukuza riziki               to sit on a chair swinging ones legs backwards and forwards will drive away ones               daily bread               this is regarded as bad manners by arabs as               it is a sign of contempt          kupiga uluzi ni kuita shetani               to whistle is to call the devil          ukikanyaga chakula makusudi utasibika na             maradhi ya matende               if you tread on food deliberately you will get               elephantiasis this belief has a religious               background and is based on an abhorrence               of waste          mwenye kuzowea kula ndani ya chungu atapata             mvua kubwa siku ya harusi yake              one who eats straight from a cookingpot will              have heavy rain on his wedding day          mtoto mwenye kuchezea kivuli chake cha taa             atakojoa kitandani               a child who plays with his shadow cast by a               lamp will wet his bed          kuuza chumvi usiku ni nuksi kwa mwenye duka               selling salt at night brings ill luck to the               shopkeeper this belief is so deeprooted',\n 'superstitions          kula gizani ni kula na shetani              to eat in the dark is to eat with the devil              this belief discourages eating in the dark for              obvious reasons          kushona nguo mwilini kunaleta ufukara tabia            hii aidha inajongeza kifo maana inakuwa kama            mtu anajishonea sanda yake mwenyewe              to mend a garment which is on ones body              brings poverty it also suggests preparing              ones own shroud which betokens death          kufagia usiku kunakimbiza baraka              to sweep at night is to chase away blessings              this belief contains some truth in that one              may sweep up and throw away something of              value unwittinglykutembea hali ya kuwa mtu amevaa kiatu            kimoja tu kunavimbisha ziwa la mama yake            mtu              walking about with only one shoe on causes              ones mothers breast to swell i suppose this              is simply to discourage the stupidity of going              about with only one shoe on          mtu akinywa maji usiku pasi na kuufumka mtu            ngi usiku roho yake itaingia ndani ya mtungi na            akitokea mtu akaufunika huo mtungi wakati            huo huo basi atakufa papo hapo              if a man drinks water at night and leaves the              vessel uncovered his soul will plunge into it              during the night and if someone accidentally              puts the lid on he will die at once          mtu akiona chungu ya wadudu sisimizi ukutani             basi atafikiwa na wageni wa ghafla              if a man sees a swarm of ants on the wall it               means that unexpected guests will arrive          kwenda kulala pasi na kuosha miguu basi hiyo             miguu italazwa katika moto wa jahannam               if one goes to bed without washing ones feet               they will lie in the fires of hell          mtu akilala pasipo kuosha miguu nyayo zake             zitarambwa na shetani               if a man goes to bed without washing his feet               the soles of his feet will be licked by the devil          mtu akila bila ya kupiga bismillahi   basi             baraka itaondoka na mtu hataweza kushiba               if a man eats without saying grace there will               be no blessing so the food will not suffice               this belief has a religious background islam               teaches its followers to allow religion to per               meate all their daily acts and the great               majority of the population of zanzibar and               pemba are muslims          mtoto mchanga akiachwa peke yake atageuzwa             na shetani               if a baby is left alone in a room it will be               changed by the devil for his own at is firmly               believed that albinos are changelings          mwenye kufanya mazowea ya kukaa kizingitini             atakawia kuoa              he who develops a habit of sitting on a door              step will be late in getting married          kula wima kizingitini mtu atapigwa dafrau na             shetani               he who eats while standing on the doorstep               will be knocked down by a devil in tended to               discourage the habit of eating in such abnormal places          kula kitu kitamu kinjianjia mtu atasibiwa na shetani               he who eats sweet food while walking will be               possessed of a devil it is regarded as bad               manners to eat while walking          mwenye kumcheka mkwewe hupata maradhi             ya chokea               he who laughs at his father or motherinlaw               will develop a stye          kumchungulia mtu mzima aliyekaa uchi kunaleta upofu               looking at a grownup person naked will               bring blindness          kuzaliwa na vidole sita ni mabruki               to be born with six fingers is to have good               fortune          ukiuonyesha mwezi mchanga kidole basi utakatika kidole               if you point at the new moon with a finger it              will get cut          mwenye kula miguu ya kuku atakuwa daima             katika mwendo tu he who eats a fowls legs will become a wan               derer          inakatazwa kunywa maji ndani ya kata pasi na             kuikunguta               it is forbidden to drink water from a ladle               without vigorously shaking it first to ensure               that it is clean and free from insects          kupeana mkasi mikono kwa mkono kunasabibisha kuchukiana bure               handing over a pair of scissors to someone               directly causes hatred          kukaa juu ya mto kunaleta majipu matakoni               sitting on cushions causes boils on the but               tocks          kukutana na paka mweusi usiku ni nuksi               meeting a black cat at night means bad luck          kunywa maji ya chooni kunapeleka mtu kuwa             mwongo               drinking water from the lavatory makes a               man a liar intended to discourage so unwholesome a habit          kutema mate ndani ya lindi kunaleta kuumwa             na koo               spitting into the cesspit causes sore throat          kumbusu mtoto usingizini kunasabibisha mtoto               huyo kuwa na majivuno ukubwani mwake               kissing a sleeping child will make it grow up               conceited          mwenye kuchukua quran kichwani ataingiliwa             na wazimu               carrying the holy quran on the head will               cause madness          kukaa kitini na kupunga miguu mbele na nyuma m kufukuza riziki               to sit on a chair swinging ones legs backwards and forwards will drive away ones               daily bread               this is regarded as bad manners by arabs as               it is a sign of contempt          kupiga uluzi ni kuita shetani               to whistle is to call the devil          ukikanyaga chakula makusudi utasibika na             maradhi ya matende               if you tread on food deliberately you will get               elephantiasis this belief has a religious               background and is based on an abhorrence               of waste          mwenye kuzowea kula ndani ya chungu atapata             mvua kubwa siku ya harusi yake              one who eats straight from a cookingpot will              have heavy rain on his wedding day          mtoto mwenye kuchezea kivuli chake cha taa             atakojoa kitandani               a child who plays with his shadow cast by a               lamp will wet his bed          kuuza chumvi usiku ni nuksi kwa mwenye duka               selling salt at night brings ill luck to the               shopkeeper this belief is so deeprooted',\n 'superstitions          kula gizani ni kula na shetani              to eat in the dark is to eat with the devil              this belief discourages eating in the dark for              obvious reasons          kushona nguo mwilini kunaleta ufukara tabia            hii aidha inajongeza kifo maana inakuwa kama            mtu anajishonea sanda yake mwenyewe              to mend a garment which is on ones body              brings poverty it also suggests preparing              ones own shroud which betokens death          kufagia usiku kunakimbiza baraka              to sweep at night is to chase away blessings              this belief contains some truth in that one              may sweep up and throw away something of              value unwittinglykutembea hali ya kuwa mtu amevaa kiatu            kimoja tu kunavimbisha ziwa la mama yake            mtu              walking about with only one shoe on causes              ones mothers breast to swell i suppose this              is simply to discourage the stupidity of going              about with only one shoe on          mtu akinywa maji usiku pasi na kuufumka mtu            ngi usiku roho yake itaingia ndani ya mtungi na            akitokea mtu akaufunika huo mtungi wakati            huo huo basi atakufa papo hapo              if a man drinks water at night and leaves the              vessel uncovered his soul will plunge into it              during the night and if someone accidentally              puts the lid on he will die at once          mtu akiona chungu ya wadudu sisimizi ukutani             basi atafikiwa na wageni wa ghafla              if a man sees a swarm of ants on the wall it               means that unexpected guests will arrive          kwenda kulala pasi na kuosha miguu basi hiyo             miguu italazwa katika moto wa jahannam               if one goes to bed without washing ones feet               they will lie in the fires of hell          mtu akilala pasipo kuosha miguu nyayo zake             zitarambwa na shetani               if a man goes to bed without washing his feet               the soles of his feet will be licked by the devil          mtu akila bila ya kupiga bismillahi   basi             baraka itaondoka na mtu hataweza kushiba               if a man eats without saying grace there will               be no blessing so the food will not suffice               this belief has a religious background islam               teaches its followers to allow religion to per               meate all their daily acts and the great               majority of the population of zanzibar and               pemba are muslims          mtoto mchanga akiachwa peke yake atageuzwa             na shetani               if a baby is left alone in a room it will be               changed by the devil for his own at is firmly               believed that albinos are changelings          mwenye kufanya mazowea ya kukaa kizingitini             atakawia kuoa              he who develops a habit of sitting on a door              step will be late in getting married          kula wima kizingitini mtu atapigwa dafrau na             shetani               he who eats while standing on the doorstep               will be knocked down by a devil in tended to               discourage the habit of eating in such abnormal places          kula kitu kitamu kinjianjia mtu atasibiwa na shetani               he who eats sweet food while walking will be               possessed of a devil it is regarded as bad               manners to eat while walking          mwenye kumcheka mkwewe hupata maradhi             ya chokea               he who laughs at his father or motherinlaw               will develop a stye          kumchungulia mtu mzima aliyekaa uchi kunaleta upofu               looking at a grownup person naked will               bring blindness          kuzaliwa na vidole sita ni mabruki               to be born with six fingers is to have good               fortune          ukiuonyesha mwezi mchanga kidole basi utakatika kidole               if you point at the new moon with a finger it              will get cut          mwenye kula miguu ya kuku atakuwa daima             katika mwendo tu he who eats a fowls legs will become a wan               derer          inakatazwa kunywa maji ndani ya kata pasi na             kuikunguta               it is forbidden to drink water from a ladle               without vigorously shaking it first to ensure               that it is clean and free from insects          kupeana mkasi mikono kwa mkono kunasabibisha kuchukiana bure               handing over a pair of scissors to someone               directly causes hatred          kukaa juu ya mto kunaleta majipu matakoni               sitting on cushions causes boils on the but               tocks          kukutana na paka mweusi usiku ni nuksi               meeting a black cat at night means bad luck          kunywa maji ya chooni kunapeleka mtu kuwa             mwongo               drinking water from the lavatory makes a               man a liar intended to discourage so unwholesome a habit          kutema mate ndani ya lindi kunaleta kuumwa             na koo               spitting into the cesspit causes sore throat          kumbusu mtoto usingizini kunasabibisha mtoto               huyo kuwa na majivuno ukubwani mwake               kissing a sleeping child will make it grow up               conceited          mwenye kuchukua quran kichwani ataingiliwa             na wazimu               carrying the holy quran on the head will               cause madness          kukaa kitini na kupunga miguu mbele na nyuma m kufukuza riziki               to sit on a chair swinging ones legs backwards and forwards will drive away ones               daily bread               this is regarded as bad manners by arabs as               it is a sign of contempt          kupiga uluzi ni kuita shetani               to whistle is to call the devil          ukikanyaga chakula makusudi utasibika na             maradhi ya matende               if you tread on food deliberately you will get               elephantiasis this belief has a religious               background and is based on an abhorrence               of waste          mwenye kuzowea kula ndani ya chungu atapata             mvua kubwa siku ya harusi yake              one who eats straight from a cookingpot will              have heavy rain on his wedding day          mtoto mwenye kuchezea kivuli chake cha taa             atakojoa kitandani               a child who plays with his shadow cast by a               lamp will wet his bed          kuuza chumvi usiku ni nuksi kwa mwenye duka               selling salt at night brings ill luck to the               shopkeeper this belief is so deeprooted',\n 'mtoto mwenye kuchezea kivuli chake cha taa             atakojoa kitandani               a child who plays with his shadow cast by a               lamp will wet his bed          kuuza chumvi usiku ni nuksi kwa mwenye duka               selling salt at night brings ill luck to the               shopkeeper this belief is so deeprooted']"
     },
     "execution_count": 41,
     "metadata": {},
     "output_type": "execute_result"
    }
   ],
   "source": [
    "clean_content_list"
   ],
   "metadata": {
    "collapsed": false,
    "ExecuteTime": {
     "end_time": "2024-05-21T05:14:04.767904Z",
     "start_time": "2024-05-21T05:14:04.755588Z"
    }
   },
   "id": "4ed5c3f9322294de",
   "execution_count": 41
  },
  {
   "cell_type": "code",
   "outputs": [],
   "source": [
    "text = clean_content_list[-1]"
   ],
   "metadata": {
    "collapsed": false,
    "ExecuteTime": {
     "end_time": "2024-05-21T05:14:15.796582Z",
     "start_time": "2024-05-21T05:14:15.793198Z"
    }
   },
   "id": "8c6fa1e7c05d7579",
   "execution_count": 42
  },
  {
   "cell_type": "code",
   "outputs": [
    {
     "data": {
      "text/plain": "'mtoto mwenye kuchezea kivuli chake cha taa             atakojoa kitandani               a child who plays with his shadow cast by a               lamp will wet his bed          kuuza chumvi usiku ni nuksi kwa mwenye duka               selling salt at night brings ill luck to the               shopkeeper this belief is so deeprooted'"
     },
     "execution_count": 43,
     "metadata": {},
     "output_type": "execute_result"
    }
   ],
   "source": [
    "text"
   ],
   "metadata": {
    "collapsed": false,
    "ExecuteTime": {
     "end_time": "2024-05-21T05:14:17.263094Z",
     "start_time": "2024-05-21T05:14:17.258Z"
    }
   },
   "id": "f0b6fd006e9b7761",
   "execution_count": 43
  },
  {
   "cell_type": "code",
   "outputs": [
    {
     "name": "stderr",
     "output_type": "stream",
     "text": [
      "[nltk_data] Downloading package words to /home/hilla/nltk_data...\n",
      "[nltk_data]   Unzipping corpora/words.zip.\n"
     ]
    },
    {
     "data": {
      "text/plain": "True"
     },
     "execution_count": 58,
     "metadata": {},
     "output_type": "execute_result"
    }
   ],
   "source": [
    "import nltk\n",
    "from nltk.corpus import words\n",
    "nltk.download('words')"
   ],
   "metadata": {
    "collapsed": false,
    "ExecuteTime": {
     "end_time": "2024-05-21T05:35:42.491471Z",
     "start_time": "2024-05-21T05:35:36.341369Z"
    }
   },
   "id": "f8b942102d71a941",
   "execution_count": 58
  },
  {
   "cell_type": "code",
   "outputs": [
    {
     "ename": "SyntaxError",
     "evalue": "invalid syntax (3699932095.py, line 7)",
     "output_type": "error",
     "traceback": [
      "\u001B[0;36m  Cell \u001B[0;32mIn[59], line 7\u001B[0;36m\u001B[0m\n\u001B[0;31m    filtered_words = [word for word in swahili_words if word.lower() not in web2lowerset or not in words]\u001B[0m\n\u001B[0m                                                                                                ^\u001B[0m\n\u001B[0;31mSyntaxError\u001B[0m\u001B[0;31m:\u001B[0m invalid syntax\n"
     ]
    }
   ],
   "source": [
    "from english_words import get_english_words_set\n",
    "\n",
    "def remove_english_words(swahili_text):\n",
    "    web2lowerset = get_english_words_set(['web2', 'gcide'], lower=True)\n",
    "    \n",
    "    swahili_words = swahili_text.split()\n",
    "    filtered_words = [word for word in swahili_words if word.lower() not in web2lowerset]\n",
    "    return \" \".join(filtered_words)"
   ],
   "metadata": {
    "collapsed": false,
    "ExecuteTime": {
     "end_time": "2024-05-21T05:36:18.916330Z",
     "start_time": "2024-05-21T05:36:18.911665Z"
    }
   },
   "id": "a95f56dde0279468",
   "execution_count": 59
  },
  {
   "cell_type": "code",
   "outputs": [],
   "source": [
    "swahili_text_with_english = clean_content_list[-2]"
   ],
   "metadata": {
    "collapsed": false,
    "ExecuteTime": {
     "end_time": "2024-05-21T05:27:25.767777Z",
     "start_time": "2024-05-21T05:27:25.764807Z"
    }
   },
   "id": "93d754b26a614393",
   "execution_count": 53
  },
  {
   "cell_type": "code",
   "outputs": [
    {
     "data": {
      "text/plain": "'superstitions gizani shetani discourages reasons kushona nguo mwilini kunaleta ufukara tabia hii aidha inajongeza kifo maana inakuwa mtu anajishonea sanda yake mwenyewe brings suggests preparing betokens kufagia usiku kunakimbiza baraka blessings contains unwittinglykutembea hali kuwa mtu amevaa kiatu kimoja kunavimbisha ziwa yake mtu causes mothers mtu akinywa maji usiku kuufumka mtu ngi usiku roho yake itaingia ndani mtungi akitokea mtu akaufunika huo mtungi wakati huo huo basi atakufa papo hapo drinks puts mtu akiona chungu wadudu sisimizi ukutani basi atafikiwa wageni ghafla sees ants means guests kwenda kulala kuosha miguu basi hiyo miguu italazwa katika jahannam fires mtu akilala pasipo kuosha miguu nyayo zake zitarambwa shetani licked mtu akila bila kupiga bismillahi basi baraka itaondoka mtu hataweza kushiba teaches followers meate zanzibar pemba muslims mtoto mchanga akiachwa yake atageuzwa shetani changed believed albinos changelings mwenye kufanya mazowea kukaa kizingitini atakawia kuoa develops wima kizingitini mtu atapigwa dafrau shetani knocked tended places kitu kitamu kinjianjia mtu atasibiwa shetani regarded mwenye kumcheka mkwewe hupata maradhi chokea laughs motherinlaw kumchungulia mtu mzima aliyekaa uchi kunaleta upofu kuzaliwa vidole mabruki fingers ukiuonyesha mwezi mchanga kidole basi utakatika kidole mwenye miguu atakuwa daima katika mwendo fowls legs derer inakatazwa kunywa maji ndani kata kuikunguta insects kupeana mkasi mikono kwa mkono kunasabibisha kuchukiana handing causes kukaa juu mto kunaleta majipu matakoni cushions causes boils tocks kukutana paka mweusi usiku nuksi means kunywa maji chooni kunapeleka mtu kuwa mwongo makes kutema ndani lindi kunaleta kuumwa koo causes kumbusu mtoto usingizini kunasabibisha mtoto huyo kuwa majivuno ukubwani mwake mwenye kuchukua kichwani ataingiliwa wazimu kukaa kitini kupunga miguu mbele nyuma kufukuza riziki legs regarded arabs kupiga uluzi kuita shetani ukikanyaga chakula makusudi utasibika maradhi matende mwenye kuzowea ndani chungu atapata mvua kubwa siku harusi yake cookingpot mtoto mwenye kuchezea kivuli chake atakojoa kitandani plays kuuza chumvi usiku nuksi kwa mwenye duka brings deeprooted'"
     },
     "execution_count": 54,
     "metadata": {},
     "output_type": "execute_result"
    }
   ],
   "source": [
    "filtered_swahili_text = remove_english_words(swahili_text_with_english)\n",
    "filtered_swahili_text"
   ],
   "metadata": {
    "collapsed": false,
    "ExecuteTime": {
     "end_time": "2024-05-21T05:27:26.436912Z",
     "start_time": "2024-05-21T05:27:26.246196Z"
    }
   },
   "id": "ba3c88d2dc82b4fa",
   "execution_count": 54
  },
  {
   "cell_type": "code",
   "outputs": [],
   "source": [],
   "metadata": {
    "collapsed": false
   },
   "id": "10ac21bcb5c0eaa5"
  },
  {
   "cell_type": "markdown",
   "source": [
    "## Save the preprocessed data back to the database Mongodb"
   ],
   "metadata": {
    "collapsed": false
   },
   "id": "47bc172f54f7026a"
  },
  {
   "cell_type": "code",
   "outputs": [],
   "source": [
    "new_values = {\"$set\": {\"clean_from_english\": filtered_swahili_text}}"
   ],
   "metadata": {
    "collapsed": false,
    "ExecuteTime": {
     "end_time": "2024-05-21T07:14:40.553876Z",
     "start_time": "2024-05-21T07:14:40.549026Z"
    }
   },
   "id": "b9a03833fa10e4de",
   "execution_count": 60
  },
  {
   "cell_type": "code",
   "outputs": [
    {
     "data": {
      "text/plain": "UpdateResult({'n': 1, 'nModified': 1, 'ok': 1.0, 'updatedExisting': True}, acknowledged=True)"
     },
     "execution_count": 61,
     "metadata": {},
     "output_type": "execute_result"
    }
   ],
   "source": [
    "swahili_collection.update_one(filter, new_values)"
   ],
   "metadata": {
    "collapsed": false,
    "ExecuteTime": {
     "end_time": "2024-05-21T07:14:45.176343Z",
     "start_time": "2024-05-21T07:14:45.169231Z"
    }
   },
   "id": "e37a85870ef028d8",
   "execution_count": 61
  },
  {
   "cell_type": "code",
   "outputs": [],
   "source": [],
   "metadata": {
    "collapsed": false
   },
   "id": "cf7e7af716728bb4"
  }
 ],
 "metadata": {
  "kernelspec": {
   "display_name": "Python 3",
   "language": "python",
   "name": "python3"
  },
  "language_info": {
   "codemirror_mode": {
    "name": "ipython",
    "version": 2
   },
   "file_extension": ".py",
   "mimetype": "text/x-python",
   "name": "python",
   "nbconvert_exporter": "python",
   "pygments_lexer": "ipython2",
   "version": "2.7.6"
  }
 },
 "nbformat": 4,
 "nbformat_minor": 5
}
