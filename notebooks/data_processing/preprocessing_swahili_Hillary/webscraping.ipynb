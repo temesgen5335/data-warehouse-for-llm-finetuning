{
 "cells": [
  {
   "cell_type": "code",
   "execution_count": 1,
   "id": "initial_id",
   "metadata": {
    "collapsed": true,
    "ExecuteTime": {
     "end_time": "2024-05-20T13:40:55.788144Z",
     "start_time": "2024-05-20T13:40:55.685588Z"
    }
   },
   "outputs": [],
   "source": [
    "import requests\n",
    "from bs4 import BeautifulSoup"
   ]
  },
  {
   "cell_type": "markdown",
   "source": [
    "### Beautiful Soup Usage example"
   ],
   "metadata": {
    "collapsed": false
   },
   "id": "60e320c538df11cb"
  },
  {
   "cell_type": "code",
   "outputs": [
    {
     "name": "stdout",
     "output_type": "stream",
     "text": [
      "<p>\n",
      " Some\n",
      " <b>\n",
      "  bad\n",
      "  <i>\n",
      "   HTML\n",
      "  </i>\n",
      " </b>\n",
      "</p>\n"
     ]
    }
   ],
   "source": [
    "soup = BeautifulSoup(\"<p>Some<b>bad<i>HTML\", features=\"html.parser\")\n",
    "print(soup.prettify())"
   ],
   "metadata": {
    "collapsed": false,
    "ExecuteTime": {
     "end_time": "2024-05-20T13:40:55.793017Z",
     "start_time": "2024-05-20T13:40:55.789785Z"
    }
   },
   "id": "f44c1ec6ae4cec93",
   "execution_count": 2
  },
  {
   "cell_type": "code",
   "outputs": [
    {
     "name": "stdout",
     "output_type": "stream",
     "text": [
      "bad\n",
      "<i>HTML</i>\n"
     ]
    }
   ],
   "source": [
    "print(soup.find(string=\"bad\"))\n",
    "print(soup.i)"
   ],
   "metadata": {
    "collapsed": false,
    "ExecuteTime": {
     "end_time": "2024-05-20T13:40:55.798226Z",
     "start_time": "2024-05-20T13:40:55.794527Z"
    }
   },
   "id": "b52bebf8441c626b",
   "execution_count": 3
  },
  {
   "cell_type": "code",
   "outputs": [],
   "source": [],
   "metadata": {
    "collapsed": false,
    "ExecuteTime": {
     "end_time": "2024-05-20T13:40:55.801791Z",
     "start_time": "2024-05-20T13:40:55.799825Z"
    }
   },
   "id": "82feaa087be41040",
   "execution_count": 3
  },
  {
   "cell_type": "markdown",
   "source": [
    "### Example of scraping a website"
   ],
   "metadata": {
    "collapsed": false
   },
   "id": "71ebc16e8e8e0ea2"
  },
  {
   "cell_type": "code",
   "outputs": [],
   "source": [
    "url = \"https://www.mwambao.com/super.htm\""
   ],
   "metadata": {
    "collapsed": false,
    "ExecuteTime": {
     "end_time": "2024-05-20T15:33:57.810383Z",
     "start_time": "2024-05-20T15:33:57.805988Z"
    }
   },
   "id": "ebea9c628ee896ce",
   "execution_count": 33
  },
  {
   "cell_type": "code",
   "outputs": [],
   "source": [
    "response = requests.get(url)"
   ],
   "metadata": {
    "collapsed": false,
    "ExecuteTime": {
     "end_time": "2024-05-20T15:33:59.824029Z",
     "start_time": "2024-05-20T15:33:58.252627Z"
    }
   },
   "id": "5def45cb3dd621e8",
   "execution_count": 34
  },
  {
   "cell_type": "markdown",
   "source": [],
   "metadata": {
    "collapsed": false
   },
   "id": "cb1cbaabe5a0ff55"
  },
  {
   "cell_type": "code",
   "outputs": [],
   "source": [
    "# Bypass the website's bot detection by adding headers with a user agent to make the request look like it's coming from a browser\n",
    "headers = {\n",
    "    'User-Agent': 'Mozilla/5.0 (Windows NT 10.0; Win64; x64) AppleWebKit/537.36 (KHTML, like Gecko) Chrome/58.0.3029.110 Safari/537.3'\n",
    "}\n",
    "\n",
    "response = requests.get(url, headers=headers)"
   ],
   "metadata": {
    "collapsed": false,
    "ExecuteTime": {
     "end_time": "2024-05-20T15:34:01.696013Z",
     "start_time": "2024-05-20T15:34:00.630715Z"
    }
   },
   "id": "685905cef70c55a0",
   "execution_count": 35
  },
  {
   "cell_type": "code",
   "outputs": [
    {
     "data": {
      "text/plain": "'<html>\\r\\n\\r\\n<head>\\r\\n<meta http-equiv=\"Content-Type\" content=\"text/html; charset=windows-1252\">\\r\\n<title>superstitions</title>\\r\\n<meta name=\"GENERATOR\" content=\"Microsoft FrontPage 5.0\">\\r\\n<meta name=\"ProgId\" content=\"FrontPage.Editor.Document\">\\r\\n<meta name=\"Microsoft Border\" content=\"tl, default\">\\r\\n</head>\\r\\n\\r\\n<body><!--msnavigation--><table border=\"0\" cellpadding=\"0\" cellspacing=\"0\" width=\"100%\"><tr><td>\\r\\n\\r\\n<p>&nbsp;&nbsp;&nbsp;&nbsp;&nbsp;&nbsp;&nbsp;&nbsp;&nbsp;&nbsp;&nbsp;&nbsp;&nbsp;&nbsp;&nbsp;&nbsp;&nbsp;&nbsp;&nbsp;&nbsp;&nbsp;&nbsp;&nbsp;&nbsp;&nbsp;&nbsp;&nbsp;&nbsp;&nbsp;&nbsp;&nbsp; &nbsp;&nbsp;&nbsp;&nbsp;\\r\\n&nbsp;<img border=\"0\" src=\"coconut.gif\" width=\"70\" height=\"82\"> <img border=\"0\" src=\"moto.gif\" width=\"200\" height=\"50\"><img border=\"0\" src=\"coconut.gif\" width=\"70\" height=\"82\"> </p>\\r\\n\\r\\n</td></tr><!--msnavigation--></table><!--msnavigation--><table dir=\"ltr\" border=\"0\" cellpadding=\"0\" cellspacing=\"0\" width=\"100%\"><tr><td valign=\"top\" width=\"1%\">\\r\\n<p style=\"margin-top: 0; margin-bottom: 0\">\\r\\n<a href=\"index.htm\">HOME</a></p>\\r\\n<p style=\"margin-top: 0; margin-bottom: 0\"><a href=\"methali.htm\">\\r\\n<font size=\"2\">PROVERBS</font></a></p>\\r\\n<p style=\"margin-top: 0; margin-bottom: 0\"><a href=\"dishes.htm\">\\r\\n<font size=\"2\">CUISINE</font></a></p>\\r\\n<p style=\"margin-top: 0; margin-bottom: 0\"><a href=\"tarab.htm\">\\r\\n<font size=\"2\">TARAAB</font></a></p>\\r\\n<p style=\"margin-top: 0; margin-bottom: 0\"><a href=\"mashairi.htm\">\\r\\n<font size=\"2\">MASHAIRI</font></a></p>\\r\\n<p style=\"margin-top: 0; margin-bottom: 0\"><a href=\"dua.htm\"><font size=\"2\">\\r\\nDUA</font></a></p>\\r\\n<p style=\"margin-top: 0; margin-bottom: 0\"><a href=\"riddles.htm\">\\r\\n<font size=\"2\">RIDDLES</font></a></p>\\r\\n<p style=\"margin-top: 0; margin-bottom: 0\"><a href=\"photo.htm\">\\r\\n<font size=\"2\">PICTURES</font></a></p>\\r\\n<p style=\"margin-top: 0; margin-bottom: 0\"><a href=\"lyrics.htm\">\\r\\n<font size=\"2\">TARAAB LYRICS</font></a></p>\\r\\n<p style=\"margin-top: 0; margin-bottom: 0\"><a href=\"super.htm\">\\r\\n<font size=\"2\">SUPERSTITIONS</font></a></p>\\r\\n<p style=\"margin-top: 0; margin-bottom: 0\"><a href=\"visa.htm\"><font size=\"2\">\\r\\nVISA NA MIKASA</font></a></p>\\r\\n<p style=\"margin-top: 0; margin-bottom: 0\"><a href=\"audio.htm\">\\r\\n<font size=\"2\">MUSIC</font></a></p>\\r\\n<p style=\"margin-top: 0; margin-bottom: 0\"><a href=\"articles.htm\">\\r\\n<font size=\"2\">ARTICLES</font></a></p>\\r\\n<p style=\"margin-top: 0; margin-bottom: 0\"><a href=\"qaswida.htm\">\\r\\n<font size=\"2\">QASWEEDA</font></a></p>\\r\\n\\r\\n</td><td valign=\"top\" width=\"24\"></td><!--msnavigation--><td valign=\"top\">\\r\\n<p>&nbsp;\\r\\n<p><img src=\"super.gif\" width=\"349\" height=\"57\">\\r\\n<p>&nbsp;&nbsp;&nbsp;&nbsp;&nbsp;&nbsp;&nbsp;&nbsp;&nbsp;&nbsp;&nbsp;&nbsp;&nbsp;&nbsp;&nbsp;&nbsp;&nbsp;&nbsp;&nbsp;&nbsp;&nbsp;&nbsp;&nbsp;&nbsp;&nbsp;&nbsp;&nbsp;&nbsp;&nbsp;&nbsp;&nbsp;\\r\\nSUPERSTITIONS<br>\\r\\n<br>\\r\\n<font face=\"Courier New\" size=\"2\">          Kula gizani ni kula na shetani.<br>\\r\\n              To eat in the dark is to eat with the devil.<br>\\r\\n              This belief discourages eating In the dark, for<br>\\r\\n              obvious reasons.<br>\\r\\n<br>\\r\\n          Kushona nguo mwilini kunaleta ufukara; tabia<br>\\r\\n            hii aidha inajongeza kifo, maana inakuwa kama<br>\\r\\n            mtu anajishonea sanda yake mwenyewe.<br>\\r\\n              To mend a garment which is on one\\x92s body<br>\\r\\n              brings poverty: it also suggests preparing<br>\\r\\n              one\\x92s own shroud, which betokens death.<br>\\r\\n<br>\\r\\n          Kufagia usiku kunakimbiza baraka.<br>\\r\\n              To sweep at night is to chase away blessings.<br>\\r\\n              (This belief contains some truth, in that one<br>\\r\\n              may sweep up and throw away something of<br>\\r\\n              value unwittingly.)<br>\\r\\n<br>\\r\\nKutembea hali ya kuwa mtu amevaa kiatu<br>\\r\\n            kimoja tu kunavimbisha ziwa la mama yake<br>\\r\\n            mtu.<br>\\r\\n              Walking about with only one shoe on causes<br>\\r\\n              one\\x92s mother\\x92s breast to swell. (I suppose this<br>\\r\\n              is simply to discourage the stupidity of going<br>\\r\\n              about with only one shoe on.)<br>\\r\\n<br>\\r\\n          Mtu akinywa maji usiku pasi na kuufumka mtu-<br>\\r\\n            ngi, usiku roho yake itaingia ndani ya mtungi na<br>\\r\\n            akitokea mtu akaufunika huo mtungi wakati<br>\\r\\n            huo huo, basi atakufa papo hapo.<br>\\r\\n              If a man drinks water at night and leaves the<br>\\r\\n              vessel uncovered, his soul will plunge into it<br>\\r\\n<br>\\r\\n              during the night, and if someone accidentally<br>\\r\\n              puts the lid on, he will die at once.<br>\\r\\n<br>\\r\\n          Mtu akiona. chungu ya wadudu sisimizi ukutani<br>\\r\\n             basi atafikiwa na wageni wa ghafla.<br>\\r\\n              If a man sees a swarm of ants on the wall it<br>\\r\\n               means that unexpected guests will arrive.<br>\\r\\n<br>\\r\\n          Kwenda kulala pasi na kuosha miguu, basi hiyo<br>\\r\\n             miguu italazwa katika moto wa Jahannam.<br>\\r\\n               If one goes to bed without washing one\\x92s feet,<br>\\r\\n               they will lie In the fires of Hell.<br>\\r\\n<br>\\r\\n          Mtu akilala pasipo kuosha miguu, nyayo zake<br>\\r\\n             zitarambwa na shetani.<br>\\r\\n               If a man goes to bed without washing his feet,<br>\\r\\n               the soles of his feet will be licked by the devil.<br>\\r\\n<br>\\r\\n          Mtu akila bila ya kupiga Bismillahi . . basi<br>\\r\\n             baraka itaondoka na mtu hataweza kushiba.<br>\\r\\n               If a man eats without saying grace, there will<br>\\r\\n               be no blessing, so the food will not suffice.<br>\\r\\n               (This belief has a religious background. Islam<br>\\r\\n               teaches its followers to allow religion to per-<br>\\r\\n               meate all their daily acts: and the great<br>\\r\\n               majority of the population of Zanzibar and<br>\\r\\n               Pemba are Muslims.)<br>\\r\\n<br>\\r\\n          Mtoto mchanga akiachwa peke yake, atageuzwa<br>\\r\\n             na shetani.<br>\\r\\n               If a baby is left alone in a room it will be<br>\\r\\n               changed by the devil for his own. at is firmly<br>\\r\\n               believed that Albinos are \\x91changelings\\x92.)<br>\\r\\n<br>\\r\\n          Mwenye kufanya mazowea ya kukaa kizingitini<br>\\r\\n             atakawia kuoa.<br>\\r\\n<br>\\r\\n              He who develops a habit of sitting on a door-<br>\\r\\n              step will be late in getting married.<br>\\r\\n<br>\\r\\n          Kula wima kizingitini, mtu atapigwa dafrau na<br>\\r\\n             shetani.<br>\\r\\n               He who eats while standing on the door-step<br>\\r\\n               will be knocked down by a devil. in tended to<br>\\r\\n               discourage the habit of eating in such abnormal places.)<br>\\r\\n<br>\\r\\n          Kula kitu kitamu kinjianjia mtu atasibiwa na shetani.<br>\\r\\n               He who eats sweet food while walking will be<br>\\r\\n               possessed of a devil. (It is regarded as bad<br>\\r\\n               manners to eat while walking.)<br>\\r\\n<br>\\r\\n          Mwenye kumcheka mkwewe hupata maradhi<br>\\r\\n             ya chokea.<br>\\r\\n               He who laughs at his father or mother-in-law<br>\\r\\n               will develop a stye.<br>\\r\\n<br>\\r\\n          Kumchungulia mtu mzima aliyekaa uchi kunaleta upofu.<br>\\r\\n<br>\\r\\n               Looking at a grown-up person naked will<br>\\r\\n               bring blindness.<br>\\r\\n<br>\\r\\n          Kuzaliwa na vidole sita ni mabruki.<br>\\r\\n               To be born with six fingers Is to have good<br>\\r\\n               fortune.<br>\\r\\n<br>\\r\\n          Ukiuonyesha mwezi mchanga kidole. basi utakatika kidole.<br>\\r\\n               If you point at the new moon with a finger It<br>\\r\\n<br>\\r\\n              will get cut.<br>\\r\\n          Mwenye kula miguu ya kuku atakuwa daima<br>\\r\\n             katika mwendo tu<br>\\r\\n He who eats a fowl\\x92s legs will become a wan-<br>\\r\\n               derer.<br>\\r\\n<br>\\r\\n          Inakatazwa kunywa maji ndani ya kata pasi na<br>\\r\\n             kuikung\\x92uta.<br>\\r\\n               It Is forbidden to drink water from a ladle<br>\\r\\n               without vigorously shaking It first. (To ensure<br>\\r\\n               that it is clean and free from Insects.)<br>\\r\\n<br>\\r\\n          Kupeana mkasi mikono kwa mkono kunasabibisha kuchukiana bure.<br>\\r\\n               Handing over a pair of scissors to someone<br>\\r\\n               directly causes hatred.<br>\\r\\n<br>\\r\\n          Kukaa juu ya mto kunaleta majipu matakoni.<br>\\r\\n               Sitting on cushions causes boils on the but-<br>\\r\\n               tocks.<br>\\r\\n<br>\\r\\n          Kukutana na paka mweusi usiku ni nuksi.<br>\\r\\n               Meeting a black cat at night means bad luck.<br>\\r\\n<br>\\r\\n          Kunywa maji ya chooni kunapeleka mtu kuwa<br>\\r\\n             mwongo.<br>\\r\\n               Drinking water from the lavatory makes a<br>\\r\\n               man a liar. (Intended to discourage so unwholesome a habit.)<br>\\r\\n<br>\\r\\n          Kutema mate ndani ya lindi kunaleta kuumwa<br>\\r\\n             na koo.<br>\\r\\n               Spitting into the cess-pit causes sore throat.<br>\\r\\n<br>\\r\\n          Kumbusu mtoto usingizini kunasabibisha mtoto<br>\\r\\n               huyo kuwa na majivuno ukubwani mwake<br>\\r\\n               Kissing a sleeping child will make It grow up<br>\\r\\n               conceited.<br>\\r\\n          Mwenye kuchukua Quran kichwani ataingiliwa<br>\\r\\n             na wazimu<br>\\r\\n               Carrying the Holy Quran on the head will<br>\\r\\n               cause madness.<br>\\r\\n<br>\\r\\n          Kukaa kitini na kupunga miguu mbele na nyuma m kufukuza riziki.<br>\\r\\n               To sit on a chair swinging one\\x92s legs backwards and forwards will drive away one\\x92s<br>\\r\\n               daily bread.<br>\\r\\n               (This is regarded as bad manners by Arabs as<br>\\r\\n               it is a sign of contempt.)<br>\\r\\n          Kupiga uluzi ni kuita shetani.<br>\\r\\n               To whistle is to call the devil.<br>\\r\\n          Ukikanyaga chakula makusudi utasibika na<br>\\r\\n             maradhi ya matende.<br>\\r\\n               if you tread on food deliberately you will get<br>\\r\\n               elephantiasis. (This belief has a religious<br>\\r\\n               background, and is based on an abhorrence<br>\\r\\n               of waste.)<br>\\r\\n<br>\\r\\n          Mwenye kuzowea kula ndani ya chungu atapata<br>\\r\\n             mvua kubwa siku ya harusi yake.<br>\\r\\n              One who eats straight from a cooking-pot will<br>\\r\\n              have heavy rain on his wedding day.</font>\\r\\n<p><font face=\"Courier New\" size=\"2\"><br>\\r\\n          Mtoto mwenye kuchezea kivuli chake cha taa<br>\\r\\n             atakojoa kitandani.<br>\\r\\n               A child who plays with his shadow cast by a<br>\\r\\n               lamp will wet his bed.<br>\\r\\n          Kuuza chumvi usiku ni nuksi kwa mwenye duka.<br>\\r\\n               Selling salt at night brings ill luck to the<br>\\r\\n               shopkeeper. (This belief is so deep-rooted) <br>\\r\\n</font><!--msnavigation--></td></tr><!--msnavigation--></table></body>\\r\\n\\r\\n</html>'"
     },
     "execution_count": 36,
     "metadata": {},
     "output_type": "execute_result"
    }
   ],
   "source": [
    "response.text"
   ],
   "metadata": {
    "collapsed": false,
    "ExecuteTime": {
     "end_time": "2024-05-20T15:34:01.702018Z",
     "start_time": "2024-05-20T15:34:01.697770Z"
    }
   },
   "id": "d933477bdd98ebef",
   "execution_count": 36
  },
  {
   "cell_type": "code",
   "outputs": [
    {
     "data": {
      "text/plain": "b'<html>\\r\\n\\r\\n<head>\\r\\n<meta http-equiv=\"Content-Type\" content=\"text/html; charset=windows-1252\">\\r\\n<title>superstitions</title>\\r\\n<meta name=\"GENERATOR\" content=\"Microsoft FrontPage 5.0\">\\r\\n<meta name=\"ProgId\" content=\"FrontPage.Editor.Document\">\\r\\n<meta name=\"Microsoft Border\" content=\"tl, default\">\\r\\n</head>\\r\\n\\r\\n<body><!--msnavigation--><table border=\"0\" cellpadding=\"0\" cellspacing=\"0\" width=\"100%\"><tr><td>\\r\\n\\r\\n<p>&nbsp;&nbsp;&nbsp;&nbsp;&nbsp;&nbsp;&nbsp;&nbsp;&nbsp;&nbsp;&nbsp;&nbsp;&nbsp;&nbsp;&nbsp;&nbsp;&nbsp;&nbsp;&nbsp;&nbsp;&nbsp;&nbsp;&nbsp;&nbsp;&nbsp;&nbsp;&nbsp;&nbsp;&nbsp;&nbsp;&nbsp; &nbsp;&nbsp;&nbsp;&nbsp;\\r\\n&nbsp;<img border=\"0\" src=\"coconut.gif\" width=\"70\" height=\"82\"> <img border=\"0\" src=\"moto.gif\" width=\"200\" height=\"50\"><img border=\"0\" src=\"coconut.gif\" width=\"70\" height=\"82\"> </p>\\r\\n\\r\\n</td></tr><!--msnavigation--></table><!--msnavigation--><table dir=\"ltr\" border=\"0\" cellpadding=\"0\" cellspacing=\"0\" width=\"100%\"><tr><td valign=\"top\" width=\"1%\">\\r\\n<p style=\"margin-top: 0; margin-bottom: 0\">\\r\\n<a href=\"index.htm\">HOME</a></p>\\r\\n<p style=\"margin-top: 0; margin-bottom: 0\"><a href=\"methali.htm\">\\r\\n<font size=\"2\">PROVERBS</font></a></p>\\r\\n<p style=\"margin-top: 0; margin-bottom: 0\"><a href=\"dishes.htm\">\\r\\n<font size=\"2\">CUISINE</font></a></p>\\r\\n<p style=\"margin-top: 0; margin-bottom: 0\"><a href=\"tarab.htm\">\\r\\n<font size=\"2\">TARAAB</font></a></p>\\r\\n<p style=\"margin-top: 0; margin-bottom: 0\"><a href=\"mashairi.htm\">\\r\\n<font size=\"2\">MASHAIRI</font></a></p>\\r\\n<p style=\"margin-top: 0; margin-bottom: 0\"><a href=\"dua.htm\"><font size=\"2\">\\r\\nDUA</font></a></p>\\r\\n<p style=\"margin-top: 0; margin-bottom: 0\"><a href=\"riddles.htm\">\\r\\n<font size=\"2\">RIDDLES</font></a></p>\\r\\n<p style=\"margin-top: 0; margin-bottom: 0\"><a href=\"photo.htm\">\\r\\n<font size=\"2\">PICTURES</font></a></p>\\r\\n<p style=\"margin-top: 0; margin-bottom: 0\"><a href=\"lyrics.htm\">\\r\\n<font size=\"2\">TARAAB LYRICS</font></a></p>\\r\\n<p style=\"margin-top: 0; margin-bottom: 0\"><a href=\"super.htm\">\\r\\n<font size=\"2\">SUPERSTITIONS</font></a></p>\\r\\n<p style=\"margin-top: 0; margin-bottom: 0\"><a href=\"visa.htm\"><font size=\"2\">\\r\\nVISA NA MIKASA</font></a></p>\\r\\n<p style=\"margin-top: 0; margin-bottom: 0\"><a href=\"audio.htm\">\\r\\n<font size=\"2\">MUSIC</font></a></p>\\r\\n<p style=\"margin-top: 0; margin-bottom: 0\"><a href=\"articles.htm\">\\r\\n<font size=\"2\">ARTICLES</font></a></p>\\r\\n<p style=\"margin-top: 0; margin-bottom: 0\"><a href=\"qaswida.htm\">\\r\\n<font size=\"2\">QASWEEDA</font></a></p>\\r\\n\\r\\n</td><td valign=\"top\" width=\"24\"></td><!--msnavigation--><td valign=\"top\">\\r\\n<p>&nbsp;\\r\\n<p><img src=\"super.gif\" width=\"349\" height=\"57\">\\r\\n<p>&nbsp;&nbsp;&nbsp;&nbsp;&nbsp;&nbsp;&nbsp;&nbsp;&nbsp;&nbsp;&nbsp;&nbsp;&nbsp;&nbsp;&nbsp;&nbsp;&nbsp;&nbsp;&nbsp;&nbsp;&nbsp;&nbsp;&nbsp;&nbsp;&nbsp;&nbsp;&nbsp;&nbsp;&nbsp;&nbsp;&nbsp;\\r\\nSUPERSTITIONS<br>\\r\\n<br>\\r\\n<font face=\"Courier New\" size=\"2\">          Kula gizani ni kula na shetani.<br>\\r\\n              To eat in the dark is to eat with the devil.<br>\\r\\n              This belief discourages eating In the dark, for<br>\\r\\n              obvious reasons.<br>\\r\\n<br>\\r\\n          Kushona nguo mwilini kunaleta ufukara; tabia<br>\\r\\n            hii aidha inajongeza kifo, maana inakuwa kama<br>\\r\\n            mtu anajishonea sanda yake mwenyewe.<br>\\r\\n              To mend a garment which is on one\\x92s body<br>\\r\\n              brings poverty: it also suggests preparing<br>\\r\\n              one\\x92s own shroud, which betokens death.<br>\\r\\n<br>\\r\\n          Kufagia usiku kunakimbiza baraka.<br>\\r\\n              To sweep at night is to chase away blessings.<br>\\r\\n              (This belief contains some truth, in that one<br>\\r\\n              may sweep up and throw away something of<br>\\r\\n              value unwittingly.)<br>\\r\\n<br>\\r\\nKutembea hali ya kuwa mtu amevaa kiatu<br>\\r\\n            kimoja tu kunavimbisha ziwa la mama yake<br>\\r\\n            mtu.<br>\\r\\n              Walking about with only one shoe on causes<br>\\r\\n              one\\x92s mother\\x92s breast to swell. (I suppose this<br>\\r\\n              is simply to discourage the stupidity of going<br>\\r\\n              about with only one shoe on.)<br>\\r\\n<br>\\r\\n          Mtu akinywa maji usiku pasi na kuufumka mtu-<br>\\r\\n            ngi, usiku roho yake itaingia ndani ya mtungi na<br>\\r\\n            akitokea mtu akaufunika huo mtungi wakati<br>\\r\\n            huo huo, basi atakufa papo hapo.<br>\\r\\n              If a man drinks water at night and leaves the<br>\\r\\n              vessel uncovered, his soul will plunge into it<br>\\r\\n<br>\\r\\n              during the night, and if someone accidentally<br>\\r\\n              puts the lid on, he will die at once.<br>\\r\\n<br>\\r\\n          Mtu akiona. chungu ya wadudu sisimizi ukutani<br>\\r\\n             basi atafikiwa na wageni wa ghafla.<br>\\r\\n              If a man sees a swarm of ants on the wall it<br>\\r\\n               means that unexpected guests will arrive.<br>\\r\\n<br>\\r\\n          Kwenda kulala pasi na kuosha miguu, basi hiyo<br>\\r\\n             miguu italazwa katika moto wa Jahannam.<br>\\r\\n               If one goes to bed without washing one\\x92s feet,<br>\\r\\n               they will lie In the fires of Hell.<br>\\r\\n<br>\\r\\n          Mtu akilala pasipo kuosha miguu, nyayo zake<br>\\r\\n             zitarambwa na shetani.<br>\\r\\n               If a man goes to bed without washing his feet,<br>\\r\\n               the soles of his feet will be licked by the devil.<br>\\r\\n<br>\\r\\n          Mtu akila bila ya kupiga Bismillahi . . basi<br>\\r\\n             baraka itaondoka na mtu hataweza kushiba.<br>\\r\\n               If a man eats without saying grace, there will<br>\\r\\n               be no blessing, so the food will not suffice.<br>\\r\\n               (This belief has a religious background. Islam<br>\\r\\n               teaches its followers to allow religion to per-<br>\\r\\n               meate all their daily acts: and the great<br>\\r\\n               majority of the population of Zanzibar and<br>\\r\\n               Pemba are Muslims.)<br>\\r\\n<br>\\r\\n          Mtoto mchanga akiachwa peke yake, atageuzwa<br>\\r\\n             na shetani.<br>\\r\\n               If a baby is left alone in a room it will be<br>\\r\\n               changed by the devil for his own. at is firmly<br>\\r\\n               believed that Albinos are \\x91changelings\\x92.)<br>\\r\\n<br>\\r\\n          Mwenye kufanya mazowea ya kukaa kizingitini<br>\\r\\n             atakawia kuoa.<br>\\r\\n<br>\\r\\n              He who develops a habit of sitting on a door-<br>\\r\\n              step will be late in getting married.<br>\\r\\n<br>\\r\\n          Kula wima kizingitini, mtu atapigwa dafrau na<br>\\r\\n             shetani.<br>\\r\\n               He who eats while standing on the door-step<br>\\r\\n               will be knocked down by a devil. in tended to<br>\\r\\n               discourage the habit of eating in such abnormal places.)<br>\\r\\n<br>\\r\\n          Kula kitu kitamu kinjianjia mtu atasibiwa na shetani.<br>\\r\\n               He who eats sweet food while walking will be<br>\\r\\n               possessed of a devil. (It is regarded as bad<br>\\r\\n               manners to eat while walking.)<br>\\r\\n<br>\\r\\n          Mwenye kumcheka mkwewe hupata maradhi<br>\\r\\n             ya chokea.<br>\\r\\n               He who laughs at his father or mother-in-law<br>\\r\\n               will develop a stye.<br>\\r\\n<br>\\r\\n          Kumchungulia mtu mzima aliyekaa uchi kunaleta upofu.<br>\\r\\n<br>\\r\\n               Looking at a grown-up person naked will<br>\\r\\n               bring blindness.<br>\\r\\n<br>\\r\\n          Kuzaliwa na vidole sita ni mabruki.<br>\\r\\n               To be born with six fingers Is to have good<br>\\r\\n               fortune.<br>\\r\\n<br>\\r\\n          Ukiuonyesha mwezi mchanga kidole. basi utakatika kidole.<br>\\r\\n               If you point at the new moon with a finger It<br>\\r\\n<br>\\r\\n              will get cut.<br>\\r\\n          Mwenye kula miguu ya kuku atakuwa daima<br>\\r\\n             katika mwendo tu<br>\\r\\n He who eats a fowl\\x92s legs will become a wan-<br>\\r\\n               derer.<br>\\r\\n<br>\\r\\n          Inakatazwa kunywa maji ndani ya kata pasi na<br>\\r\\n             kuikung\\x92uta.<br>\\r\\n               It Is forbidden to drink water from a ladle<br>\\r\\n               without vigorously shaking It first. (To ensure<br>\\r\\n               that it is clean and free from Insects.)<br>\\r\\n<br>\\r\\n          Kupeana mkasi mikono kwa mkono kunasabibisha kuchukiana bure.<br>\\r\\n               Handing over a pair of scissors to someone<br>\\r\\n               directly causes hatred.<br>\\r\\n<br>\\r\\n          Kukaa juu ya mto kunaleta majipu matakoni.<br>\\r\\n               Sitting on cushions causes boils on the but-<br>\\r\\n               tocks.<br>\\r\\n<br>\\r\\n          Kukutana na paka mweusi usiku ni nuksi.<br>\\r\\n               Meeting a black cat at night means bad luck.<br>\\r\\n<br>\\r\\n          Kunywa maji ya chooni kunapeleka mtu kuwa<br>\\r\\n             mwongo.<br>\\r\\n               Drinking water from the lavatory makes a<br>\\r\\n               man a liar. (Intended to discourage so unwholesome a habit.)<br>\\r\\n<br>\\r\\n          Kutema mate ndani ya lindi kunaleta kuumwa<br>\\r\\n             na koo.<br>\\r\\n               Spitting into the cess-pit causes sore throat.<br>\\r\\n<br>\\r\\n          Kumbusu mtoto usingizini kunasabibisha mtoto<br>\\r\\n               huyo kuwa na majivuno ukubwani mwake<br>\\r\\n               Kissing a sleeping child will make It grow up<br>\\r\\n               conceited.<br>\\r\\n          Mwenye kuchukua Quran kichwani ataingiliwa<br>\\r\\n             na wazimu<br>\\r\\n               Carrying the Holy Quran on the head will<br>\\r\\n               cause madness.<br>\\r\\n<br>\\r\\n          Kukaa kitini na kupunga miguu mbele na nyuma m kufukuza riziki.<br>\\r\\n               To sit on a chair swinging one\\x92s legs backwards and forwards will drive away one\\x92s<br>\\r\\n               daily bread.<br>\\r\\n               (This is regarded as bad manners by Arabs as<br>\\r\\n               it is a sign of contempt.)<br>\\r\\n          Kupiga uluzi ni kuita shetani.<br>\\r\\n               To whistle is to call the devil.<br>\\r\\n          Ukikanyaga chakula makusudi utasibika na<br>\\r\\n             maradhi ya matende.<br>\\r\\n               if you tread on food deliberately you will get<br>\\r\\n               elephantiasis. (This belief has a religious<br>\\r\\n               background, and is based on an abhorrence<br>\\r\\n               of waste.)<br>\\r\\n<br>\\r\\n          Mwenye kuzowea kula ndani ya chungu atapata<br>\\r\\n             mvua kubwa siku ya harusi yake.<br>\\r\\n              One who eats straight from a cooking-pot will<br>\\r\\n              have heavy rain on his wedding day.</font>\\r\\n<p><font face=\"Courier New\" size=\"2\"><br>\\r\\n          Mtoto mwenye kuchezea kivuli chake cha taa<br>\\r\\n             atakojoa kitandani.<br>\\r\\n               A child who plays with his shadow cast by a<br>\\r\\n               lamp will wet his bed.<br>\\r\\n          Kuuza chumvi usiku ni nuksi kwa mwenye duka.<br>\\r\\n               Selling salt at night brings ill luck to the<br>\\r\\n               shopkeeper. (This belief is so deep-rooted) <br>\\r\\n</font><!--msnavigation--></td></tr><!--msnavigation--></table></body>\\r\\n\\r\\n</html>'"
     },
     "execution_count": 37,
     "metadata": {},
     "output_type": "execute_result"
    }
   ],
   "source": [
    "response.content"
   ],
   "metadata": {
    "collapsed": false,
    "ExecuteTime": {
     "end_time": "2024-05-20T15:34:02.617175Z",
     "start_time": "2024-05-20T15:34:02.612792Z"
    }
   },
   "id": "6fe5959c4e37e88a",
   "execution_count": 37
  },
  {
   "cell_type": "code",
   "outputs": [],
   "source": [],
   "metadata": {
    "collapsed": false,
    "ExecuteTime": {
     "end_time": "2024-05-20T15:55:22.640320Z",
     "start_time": "2024-05-20T15:55:22.638347Z"
    }
   },
   "id": "bd8a4a93a770fe0f",
   "execution_count": 52
  },
  {
   "cell_type": "code",
   "outputs": [],
   "source": [
    "soup = BeautifulSoup(response.content, \"html.parser\")"
   ],
   "metadata": {
    "collapsed": false,
    "ExecuteTime": {
     "end_time": "2024-05-20T15:55:22.816955Z",
     "start_time": "2024-05-20T15:55:22.805270Z"
    }
   },
   "id": "faef7c7508b5f409",
   "execution_count": 53
  },
  {
   "cell_type": "code",
   "outputs": [],
   "source": [
    "# Extract the data you need\n",
    "data = soup.find_all('p')"
   ],
   "metadata": {
    "collapsed": false,
    "ExecuteTime": {
     "end_time": "2024-05-20T15:55:23.440065Z",
     "start_time": "2024-05-20T15:55:23.436252Z"
    }
   },
   "id": "d1843aed3c3631c6",
   "execution_count": 54
  },
  {
   "cell_type": "code",
   "outputs": [
    {
     "name": "stdout",
     "output_type": "stream",
     "text": [
      "<html>\n",
      " <head>\n",
      "  <meta content=\"text/html; charset=utf-8\" http-equiv=\"Content-Type\"/>\n",
      "  <title>\n",
      "   superstitions\n",
      "  </title>\n",
      "  <meta content=\"Microsoft FrontPage 5.0\" name=\"GENERATOR\"/>\n",
      "  <meta content=\"FrontPage.Editor.Document\" name=\"ProgId\"/>\n",
      "  <meta content=\"tl, default\" name=\"Microsoft Border\"/>\n",
      " </head>\n",
      " <body>\n",
      "  <!--msnavigation-->\n",
      "  <table border=\"0\" cellpadding=\"0\" cellspacing=\"0\" width=\"100%\">\n",
      "   <tr>\n",
      "    <td>\n",
      "     <p>\n",
      "      <img border=\"0\" height=\"82\" src=\"coconut.gif\" width=\"70\"/>\n",
      "      <img border=\"0\" height=\"50\" src=\"moto.gif\" width=\"200\"/>\n",
      "      <img border=\"0\" height=\"82\" src=\"coconut.gif\" width=\"70\"/>\n",
      "     </p>\n",
      "    </td>\n",
      "   </tr>\n",
      "   <!--msnavigation-->\n",
      "  </table>\n",
      "  <!--msnavigation-->\n",
      "  <table border=\"0\" cellpadding=\"0\" cellspacing=\"0\" dir=\"ltr\" width=\"100%\">\n",
      "   <tr>\n",
      "    <td valign=\"top\" width=\"1%\">\n",
      "     <p style=\"margin-top: 0; margin-bottom: 0\">\n",
      "      <a href=\"index.htm\">\n",
      "       HOME\n",
      "      </a>\n",
      "     </p>\n",
      "     <p style=\"margin-top: 0; margin-bottom: 0\">\n",
      "      <a href=\"methali.htm\">\n",
      "       <font size=\"2\">\n",
      "        PROVERBS\n",
      "       </font>\n",
      "      </a>\n",
      "     </p>\n",
      "     <p style=\"margin-top: 0; margin-bottom: 0\">\n",
      "      <a href=\"dishes.htm\">\n",
      "       <font size=\"2\">\n",
      "        CUISINE\n",
      "       </font>\n",
      "      </a>\n",
      "     </p>\n",
      "     <p style=\"margin-top: 0; margin-bottom: 0\">\n",
      "      <a href=\"tarab.htm\">\n",
      "       <font size=\"2\">\n",
      "        TARAAB\n",
      "       </font>\n",
      "      </a>\n",
      "     </p>\n",
      "     <p style=\"margin-top: 0; margin-bottom: 0\">\n",
      "      <a href=\"mashairi.htm\">\n",
      "       <font size=\"2\">\n",
      "        MASHAIRI\n",
      "       </font>\n",
      "      </a>\n",
      "     </p>\n",
      "     <p style=\"margin-top: 0; margin-bottom: 0\">\n",
      "      <a href=\"dua.htm\">\n",
      "       <font size=\"2\">\n",
      "        DUA\n",
      "       </font>\n",
      "      </a>\n",
      "     </p>\n",
      "     <p style=\"margin-top: 0; margin-bottom: 0\">\n",
      "      <a href=\"riddles.htm\">\n",
      "       <font size=\"2\">\n",
      "        RIDDLES\n",
      "       </font>\n",
      "      </a>\n",
      "     </p>\n",
      "     <p style=\"margin-top: 0; margin-bottom: 0\">\n",
      "      <a href=\"photo.htm\">\n",
      "       <font size=\"2\">\n",
      "        PICTURES\n",
      "       </font>\n",
      "      </a>\n",
      "     </p>\n",
      "     <p style=\"margin-top: 0; margin-bottom: 0\">\n",
      "      <a href=\"lyrics.htm\">\n",
      "       <font size=\"2\">\n",
      "        TARAAB LYRICS\n",
      "       </font>\n",
      "      </a>\n",
      "     </p>\n",
      "     <p style=\"margin-top: 0; margin-bottom: 0\">\n",
      "      <a href=\"super.htm\">\n",
      "       <font size=\"2\">\n",
      "        SUPERSTITIONS\n",
      "       </font>\n",
      "      </a>\n",
      "     </p>\n",
      "     <p style=\"margin-top: 0; margin-bottom: 0\">\n",
      "      <a href=\"visa.htm\">\n",
      "       <font size=\"2\">\n",
      "        VISA NA MIKASA\n",
      "       </font>\n",
      "      </a>\n",
      "     </p>\n",
      "     <p style=\"margin-top: 0; margin-bottom: 0\">\n",
      "      <a href=\"audio.htm\">\n",
      "       <font size=\"2\">\n",
      "        MUSIC\n",
      "       </font>\n",
      "      </a>\n",
      "     </p>\n",
      "     <p style=\"margin-top: 0; margin-bottom: 0\">\n",
      "      <a href=\"articles.htm\">\n",
      "       <font size=\"2\">\n",
      "        ARTICLES\n",
      "       </font>\n",
      "      </a>\n",
      "     </p>\n",
      "     <p style=\"margin-top: 0; margin-bottom: 0\">\n",
      "      <a href=\"qaswida.htm\">\n",
      "       <font size=\"2\">\n",
      "        QASWEEDA\n",
      "       </font>\n",
      "      </a>\n",
      "     </p>\n",
      "    </td>\n",
      "    <td valign=\"top\" width=\"24\">\n",
      "    </td>\n",
      "    <!--msnavigation-->\n",
      "    <td valign=\"top\">\n",
      "     <p>\n",
      "      <p>\n",
      "       <img height=\"57\" src=\"super.gif\" width=\"349\"/>\n",
      "       <p>\n",
      "        SUPERSTITIONS\n",
      "        <br/>\n",
      "        <br/>\n",
      "        <font face=\"Courier New\" size=\"2\">\n",
      "         Kula gizani ni kula na shetani.\n",
      "         <br/>\n",
      "         To eat in the dark is to eat with the devil.\n",
      "         <br/>\n",
      "         This belief discourages eating In the dark, for\n",
      "         <br/>\n",
      "         obvious reasons.\n",
      "         <br/>\n",
      "         <br/>\n",
      "         Kushona nguo mwilini kunaleta ufukara; tabia\n",
      "         <br/>\n",
      "         hii aidha inajongeza kifo, maana inakuwa kama\n",
      "         <br/>\n",
      "         mtu anajishonea sanda yake mwenyewe.\n",
      "         <br/>\n",
      "         To mend a garment which is on one’s body\n",
      "         <br/>\n",
      "         brings poverty: it also suggests preparing\n",
      "         <br/>\n",
      "         one’s own shroud, which betokens death.\n",
      "         <br/>\n",
      "         <br/>\n",
      "         Kufagia usiku kunakimbiza baraka.\n",
      "         <br/>\n",
      "         To sweep at night is to chase away blessings.\n",
      "         <br/>\n",
      "         (This belief contains some truth, in that one\n",
      "         <br/>\n",
      "         may sweep up and throw away something of\n",
      "         <br/>\n",
      "         value unwittingly.)\n",
      "         <br/>\n",
      "         <br/>\n",
      "         Kutembea hali ya kuwa mtu amevaa kiatu\n",
      "         <br/>\n",
      "         kimoja tu kunavimbisha ziwa la mama yake\n",
      "         <br/>\n",
      "         mtu.\n",
      "         <br/>\n",
      "         Walking about with only one shoe on causes\n",
      "         <br/>\n",
      "         one’s mother’s breast to swell. (I suppose this\n",
      "         <br/>\n",
      "         is simply to discourage the stupidity of going\n",
      "         <br/>\n",
      "         about with only one shoe on.)\n",
      "         <br/>\n",
      "         <br/>\n",
      "         Mtu akinywa maji usiku pasi na kuufumka mtu-\n",
      "         <br/>\n",
      "         ngi, usiku roho yake itaingia ndani ya mtungi na\n",
      "         <br/>\n",
      "         akitokea mtu akaufunika huo mtungi wakati\n",
      "         <br/>\n",
      "         huo huo, basi atakufa papo hapo.\n",
      "         <br/>\n",
      "         If a man drinks water at night and leaves the\n",
      "         <br/>\n",
      "         vessel uncovered, his soul will plunge into it\n",
      "         <br/>\n",
      "         <br/>\n",
      "         during the night, and if someone accidentally\n",
      "         <br/>\n",
      "         puts the lid on, he will die at once.\n",
      "         <br/>\n",
      "         <br/>\n",
      "         Mtu akiona. chungu ya wadudu sisimizi ukutani\n",
      "         <br/>\n",
      "         basi atafikiwa na wageni wa ghafla.\n",
      "         <br/>\n",
      "         If a man sees a swarm of ants on the wall it\n",
      "         <br/>\n",
      "         means that unexpected guests will arrive.\n",
      "         <br/>\n",
      "         <br/>\n",
      "         Kwenda kulala pasi na kuosha miguu, basi hiyo\n",
      "         <br/>\n",
      "         miguu italazwa katika moto wa Jahannam.\n",
      "         <br/>\n",
      "         If one goes to bed without washing one’s feet,\n",
      "         <br/>\n",
      "         they will lie In the fires of Hell.\n",
      "         <br/>\n",
      "         <br/>\n",
      "         Mtu akilala pasipo kuosha miguu, nyayo zake\n",
      "         <br/>\n",
      "         zitarambwa na shetani.\n",
      "         <br/>\n",
      "         If a man goes to bed without washing his feet,\n",
      "         <br/>\n",
      "         the soles of his feet will be licked by the devil.\n",
      "         <br/>\n",
      "         <br/>\n",
      "         Mtu akila bila ya kupiga Bismillahi . . basi\n",
      "         <br/>\n",
      "         baraka itaondoka na mtu hataweza kushiba.\n",
      "         <br/>\n",
      "         If a man eats without saying grace, there will\n",
      "         <br/>\n",
      "         be no blessing, so the food will not suffice.\n",
      "         <br/>\n",
      "         (This belief has a religious background. Islam\n",
      "         <br/>\n",
      "         teaches its followers to allow religion to per-\n",
      "         <br/>\n",
      "         meate all their daily acts: and the great\n",
      "         <br/>\n",
      "         majority of the population of Zanzibar and\n",
      "         <br/>\n",
      "         Pemba are Muslims.)\n",
      "         <br/>\n",
      "         <br/>\n",
      "         Mtoto mchanga akiachwa peke yake, atageuzwa\n",
      "         <br/>\n",
      "         na shetani.\n",
      "         <br/>\n",
      "         If a baby is left alone in a room it will be\n",
      "         <br/>\n",
      "         changed by the devil for his own. at is firmly\n",
      "         <br/>\n",
      "         believed that Albinos are ‘changelings’.)\n",
      "         <br/>\n",
      "         <br/>\n",
      "         Mwenye kufanya mazowea ya kukaa kizingitini\n",
      "         <br/>\n",
      "         atakawia kuoa.\n",
      "         <br/>\n",
      "         <br/>\n",
      "         He who develops a habit of sitting on a door-\n",
      "         <br/>\n",
      "         step will be late in getting married.\n",
      "         <br/>\n",
      "         <br/>\n",
      "         Kula wima kizingitini, mtu atapigwa dafrau na\n",
      "         <br/>\n",
      "         shetani.\n",
      "         <br/>\n",
      "         He who eats while standing on the door-step\n",
      "         <br/>\n",
      "         will be knocked down by a devil. in tended to\n",
      "         <br/>\n",
      "         discourage the habit of eating in such abnormal places.)\n",
      "         <br/>\n",
      "         <br/>\n",
      "         Kula kitu kitamu kinjianjia mtu atasibiwa na shetani.\n",
      "         <br/>\n",
      "         He who eats sweet food while walking will be\n",
      "         <br/>\n",
      "         possessed of a devil. (It is regarded as bad\n",
      "         <br/>\n",
      "         manners to eat while walking.)\n",
      "         <br/>\n",
      "         <br/>\n",
      "         Mwenye kumcheka mkwewe hupata maradhi\n",
      "         <br/>\n",
      "         ya chokea.\n",
      "         <br/>\n",
      "         He who laughs at his father or mother-in-law\n",
      "         <br/>\n",
      "         will develop a stye.\n",
      "         <br/>\n",
      "         <br/>\n",
      "         Kumchungulia mtu mzima aliyekaa uchi kunaleta upofu.\n",
      "         <br/>\n",
      "         <br/>\n",
      "         Looking at a grown-up person naked will\n",
      "         <br/>\n",
      "         bring blindness.\n",
      "         <br/>\n",
      "         <br/>\n",
      "         Kuzaliwa na vidole sita ni mabruki.\n",
      "         <br/>\n",
      "         To be born with six fingers Is to have good\n",
      "         <br/>\n",
      "         fortune.\n",
      "         <br/>\n",
      "         <br/>\n",
      "         Ukiuonyesha mwezi mchanga kidole. basi utakatika kidole.\n",
      "         <br/>\n",
      "         If you point at the new moon with a finger It\n",
      "         <br/>\n",
      "         <br/>\n",
      "         will get cut.\n",
      "         <br/>\n",
      "         Mwenye kula miguu ya kuku atakuwa daima\n",
      "         <br/>\n",
      "         katika mwendo tu\n",
      "         <br/>\n",
      "         He who eats a fowl’s legs will become a wan-\n",
      "         <br/>\n",
      "         derer.\n",
      "         <br/>\n",
      "         <br/>\n",
      "         Inakatazwa kunywa maji ndani ya kata pasi na\n",
      "         <br/>\n",
      "         kuikung’uta.\n",
      "         <br/>\n",
      "         It Is forbidden to drink water from a ladle\n",
      "         <br/>\n",
      "         without vigorously shaking It first. (To ensure\n",
      "         <br/>\n",
      "         that it is clean and free from Insects.)\n",
      "         <br/>\n",
      "         <br/>\n",
      "         Kupeana mkasi mikono kwa mkono kunasabibisha kuchukiana bure.\n",
      "         <br/>\n",
      "         Handing over a pair of scissors to someone\n",
      "         <br/>\n",
      "         directly causes hatred.\n",
      "         <br/>\n",
      "         <br/>\n",
      "         Kukaa juu ya mto kunaleta majipu matakoni.\n",
      "         <br/>\n",
      "         Sitting on cushions causes boils on the but-\n",
      "         <br/>\n",
      "         tocks.\n",
      "         <br/>\n",
      "         <br/>\n",
      "         Kukutana na paka mweusi usiku ni nuksi.\n",
      "         <br/>\n",
      "         Meeting a black cat at night means bad luck.\n",
      "         <br/>\n",
      "         <br/>\n",
      "         Kunywa maji ya chooni kunapeleka mtu kuwa\n",
      "         <br/>\n",
      "         mwongo.\n",
      "         <br/>\n",
      "         Drinking water from the lavatory makes a\n",
      "         <br/>\n",
      "         man a liar. (Intended to discourage so unwholesome a habit.)\n",
      "         <br/>\n",
      "         <br/>\n",
      "         Kutema mate ndani ya lindi kunaleta kuumwa\n",
      "         <br/>\n",
      "         na koo.\n",
      "         <br/>\n",
      "         Spitting into the cess-pit causes sore throat.\n",
      "         <br/>\n",
      "         <br/>\n",
      "         Kumbusu mtoto usingizini kunasabibisha mtoto\n",
      "         <br/>\n",
      "         huyo kuwa na majivuno ukubwani mwake\n",
      "         <br/>\n",
      "         Kissing a sleeping child will make It grow up\n",
      "         <br/>\n",
      "         conceited.\n",
      "         <br/>\n",
      "         Mwenye kuchukua Quran kichwani ataingiliwa\n",
      "         <br/>\n",
      "         na wazimu\n",
      "         <br/>\n",
      "         Carrying the Holy Quran on the head will\n",
      "         <br/>\n",
      "         cause madness.\n",
      "         <br/>\n",
      "         <br/>\n",
      "         Kukaa kitini na kupunga miguu mbele na nyuma m kufukuza riziki.\n",
      "         <br/>\n",
      "         To sit on a chair swinging one’s legs backwards and forwards will drive away one’s\n",
      "         <br/>\n",
      "         daily bread.\n",
      "         <br/>\n",
      "         (This is regarded as bad manners by Arabs as\n",
      "         <br/>\n",
      "         it is a sign of contempt.)\n",
      "         <br/>\n",
      "         Kupiga uluzi ni kuita shetani.\n",
      "         <br/>\n",
      "         To whistle is to call the devil.\n",
      "         <br/>\n",
      "         Ukikanyaga chakula makusudi utasibika na\n",
      "         <br/>\n",
      "         maradhi ya matende.\n",
      "         <br/>\n",
      "         if you tread on food deliberately you will get\n",
      "         <br/>\n",
      "         elephantiasis. (This belief has a religious\n",
      "         <br/>\n",
      "         background, and is based on an abhorrence\n",
      "         <br/>\n",
      "         of waste.)\n",
      "         <br/>\n",
      "         <br/>\n",
      "         Mwenye kuzowea kula ndani ya chungu atapata\n",
      "         <br/>\n",
      "         mvua kubwa siku ya harusi yake.\n",
      "         <br/>\n",
      "         One who eats straight from a cooking-pot will\n",
      "         <br/>\n",
      "         have heavy rain on his wedding day.\n",
      "        </font>\n",
      "        <p>\n",
      "         <font face=\"Courier New\" size=\"2\">\n",
      "          <br/>\n",
      "          Mtoto mwenye kuchezea kivuli chake cha taa\n",
      "          <br/>\n",
      "          atakojoa kitandani.\n",
      "          <br/>\n",
      "          A child who plays with his shadow cast by a\n",
      "          <br/>\n",
      "          lamp will wet his bed.\n",
      "          <br/>\n",
      "          Kuuza chumvi usiku ni nuksi kwa mwenye duka.\n",
      "          <br/>\n",
      "          Selling salt at night brings ill luck to the\n",
      "          <br/>\n",
      "          shopkeeper. (This belief is so deep-rooted)\n",
      "          <br/>\n",
      "         </font>\n",
      "         <!--msnavigation-->\n",
      "        </p>\n",
      "       </p>\n",
      "      </p>\n",
      "     </p>\n",
      "    </td>\n",
      "   </tr>\n",
      "   <!--msnavigation-->\n",
      "  </table>\n",
      " </body>\n",
      "</html>\n"
     ]
    }
   ],
   "source": [
    "print(soup.prettify())"
   ],
   "metadata": {
    "collapsed": false,
    "ExecuteTime": {
     "end_time": "2024-05-20T15:55:23.771973Z",
     "start_time": "2024-05-20T15:55:23.758920Z"
    }
   },
   "id": "ff1566240701cc12",
   "execution_count": 55
  },
  {
   "cell_type": "code",
   "outputs": [],
   "source": [],
   "metadata": {
    "collapsed": false,
    "ExecuteTime": {
     "end_time": "2024-05-20T15:55:24.208881Z",
     "start_time": "2024-05-20T15:55:24.205796Z"
    }
   },
   "id": "df043b51c32674b4",
   "execution_count": 55
  },
  {
   "cell_type": "code",
   "outputs": [
    {
     "data": {
      "text/plain": "[<p>                                    \n  <img border=\"0\" height=\"82\" src=\"coconut.gif\" width=\"70\"/> <img border=\"0\" height=\"50\" src=\"moto.gif\" width=\"200\"/><img border=\"0\" height=\"82\" src=\"coconut.gif\" width=\"70\"/> </p>,\n <p style=\"margin-top: 0; margin-bottom: 0\">\n <a href=\"index.htm\">HOME</a></p>,\n <p style=\"margin-top: 0; margin-bottom: 0\"><a href=\"methali.htm\">\n <font size=\"2\">PROVERBS</font></a></p>,\n <p style=\"margin-top: 0; margin-bottom: 0\"><a href=\"dishes.htm\">\n <font size=\"2\">CUISINE</font></a></p>,\n <p style=\"margin-top: 0; margin-bottom: 0\"><a href=\"tarab.htm\">\n <font size=\"2\">TARAAB</font></a></p>,\n <p style=\"margin-top: 0; margin-bottom: 0\"><a href=\"mashairi.htm\">\n <font size=\"2\">MASHAIRI</font></a></p>,\n <p style=\"margin-top: 0; margin-bottom: 0\"><a href=\"dua.htm\"><font size=\"2\">\n DUA</font></a></p>,\n <p style=\"margin-top: 0; margin-bottom: 0\"><a href=\"riddles.htm\">\n <font size=\"2\">RIDDLES</font></a></p>,\n <p style=\"margin-top: 0; margin-bottom: 0\"><a href=\"photo.htm\">\n <font size=\"2\">PICTURES</font></a></p>,\n <p style=\"margin-top: 0; margin-bottom: 0\"><a href=\"lyrics.htm\">\n <font size=\"2\">TARAAB LYRICS</font></a></p>,\n <p style=\"margin-top: 0; margin-bottom: 0\"><a href=\"super.htm\">\n <font size=\"2\">SUPERSTITIONS</font></a></p>,\n <p style=\"margin-top: 0; margin-bottom: 0\"><a href=\"visa.htm\"><font size=\"2\">\n VISA NA MIKASA</font></a></p>,\n <p style=\"margin-top: 0; margin-bottom: 0\"><a href=\"audio.htm\">\n <font size=\"2\">MUSIC</font></a></p>,\n <p style=\"margin-top: 0; margin-bottom: 0\"><a href=\"articles.htm\">\n <font size=\"2\">ARTICLES</font></a></p>,\n <p style=\"margin-top: 0; margin-bottom: 0\"><a href=\"qaswida.htm\">\n <font size=\"2\">QASWEEDA</font></a></p>,\n <p> \n <p><img height=\"57\" src=\"super.gif\" width=\"349\"/>\n <p>                               \n SUPERSTITIONS<br/>\n <br/>\n <font face=\"Courier New\" size=\"2\">          Kula gizani ni kula na shetani.<br/>\n               To eat in the dark is to eat with the devil.<br/>\n               This belief discourages eating In the dark, for<br/>\n               obvious reasons.<br/>\n <br/>\n           Kushona nguo mwilini kunaleta ufukara; tabia<br/>\n             hii aidha inajongeza kifo, maana inakuwa kama<br/>\n             mtu anajishonea sanda yake mwenyewe.<br/>\n               To mend a garment which is on one’s body<br/>\n               brings poverty: it also suggests preparing<br/>\n               one’s own shroud, which betokens death.<br/>\n <br/>\n           Kufagia usiku kunakimbiza baraka.<br/>\n               To sweep at night is to chase away blessings.<br/>\n               (This belief contains some truth, in that one<br/>\n               may sweep up and throw away something of<br/>\n               value unwittingly.)<br/>\n <br/>\n Kutembea hali ya kuwa mtu amevaa kiatu<br/>\n             kimoja tu kunavimbisha ziwa la mama yake<br/>\n             mtu.<br/>\n               Walking about with only one shoe on causes<br/>\n               one’s mother’s breast to swell. (I suppose this<br/>\n               is simply to discourage the stupidity of going<br/>\n               about with only one shoe on.)<br/>\n <br/>\n           Mtu akinywa maji usiku pasi na kuufumka mtu-<br/>\n             ngi, usiku roho yake itaingia ndani ya mtungi na<br/>\n             akitokea mtu akaufunika huo mtungi wakati<br/>\n             huo huo, basi atakufa papo hapo.<br/>\n               If a man drinks water at night and leaves the<br/>\n               vessel uncovered, his soul will plunge into it<br/>\n <br/>\n               during the night, and if someone accidentally<br/>\n               puts the lid on, he will die at once.<br/>\n <br/>\n           Mtu akiona. chungu ya wadudu sisimizi ukutani<br/>\n              basi atafikiwa na wageni wa ghafla.<br/>\n               If a man sees a swarm of ants on the wall it<br/>\n                means that unexpected guests will arrive.<br/>\n <br/>\n           Kwenda kulala pasi na kuosha miguu, basi hiyo<br/>\n              miguu italazwa katika moto wa Jahannam.<br/>\n                If one goes to bed without washing one’s feet,<br/>\n                they will lie In the fires of Hell.<br/>\n <br/>\n           Mtu akilala pasipo kuosha miguu, nyayo zake<br/>\n              zitarambwa na shetani.<br/>\n                If a man goes to bed without washing his feet,<br/>\n                the soles of his feet will be licked by the devil.<br/>\n <br/>\n           Mtu akila bila ya kupiga Bismillahi . . basi<br/>\n              baraka itaondoka na mtu hataweza kushiba.<br/>\n                If a man eats without saying grace, there will<br/>\n                be no blessing, so the food will not suffice.<br/>\n                (This belief has a religious background. Islam<br/>\n                teaches its followers to allow religion to per-<br/>\n                meate all their daily acts: and the great<br/>\n                majority of the population of Zanzibar and<br/>\n                Pemba are Muslims.)<br/>\n <br/>\n           Mtoto mchanga akiachwa peke yake, atageuzwa<br/>\n              na shetani.<br/>\n                If a baby is left alone in a room it will be<br/>\n                changed by the devil for his own. at is firmly<br/>\n                believed that Albinos are ‘changelings’.)<br/>\n <br/>\n           Mwenye kufanya mazowea ya kukaa kizingitini<br/>\n              atakawia kuoa.<br/>\n <br/>\n               He who develops a habit of sitting on a door-<br/>\n               step will be late in getting married.<br/>\n <br/>\n           Kula wima kizingitini, mtu atapigwa dafrau na<br/>\n              shetani.<br/>\n                He who eats while standing on the door-step<br/>\n                will be knocked down by a devil. in tended to<br/>\n                discourage the habit of eating in such abnormal places.)<br/>\n <br/>\n           Kula kitu kitamu kinjianjia mtu atasibiwa na shetani.<br/>\n                He who eats sweet food while walking will be<br/>\n                possessed of a devil. (It is regarded as bad<br/>\n                manners to eat while walking.)<br/>\n <br/>\n           Mwenye kumcheka mkwewe hupata maradhi<br/>\n              ya chokea.<br/>\n                He who laughs at his father or mother-in-law<br/>\n                will develop a stye.<br/>\n <br/>\n           Kumchungulia mtu mzima aliyekaa uchi kunaleta upofu.<br/>\n <br/>\n                Looking at a grown-up person naked will<br/>\n                bring blindness.<br/>\n <br/>\n           Kuzaliwa na vidole sita ni mabruki.<br/>\n                To be born with six fingers Is to have good<br/>\n                fortune.<br/>\n <br/>\n           Ukiuonyesha mwezi mchanga kidole. basi utakatika kidole.<br/>\n                If you point at the new moon with a finger It<br/>\n <br/>\n               will get cut.<br/>\n           Mwenye kula miguu ya kuku atakuwa daima<br/>\n              katika mwendo tu<br/>\n  He who eats a fowl’s legs will become a wan-<br/>\n                derer.<br/>\n <br/>\n           Inakatazwa kunywa maji ndani ya kata pasi na<br/>\n              kuikung’uta.<br/>\n                It Is forbidden to drink water from a ladle<br/>\n                without vigorously shaking It first. (To ensure<br/>\n                that it is clean and free from Insects.)<br/>\n <br/>\n           Kupeana mkasi mikono kwa mkono kunasabibisha kuchukiana bure.<br/>\n                Handing over a pair of scissors to someone<br/>\n                directly causes hatred.<br/>\n <br/>\n           Kukaa juu ya mto kunaleta majipu matakoni.<br/>\n                Sitting on cushions causes boils on the but-<br/>\n                tocks.<br/>\n <br/>\n           Kukutana na paka mweusi usiku ni nuksi.<br/>\n                Meeting a black cat at night means bad luck.<br/>\n <br/>\n           Kunywa maji ya chooni kunapeleka mtu kuwa<br/>\n              mwongo.<br/>\n                Drinking water from the lavatory makes a<br/>\n                man a liar. (Intended to discourage so unwholesome a habit.)<br/>\n <br/>\n           Kutema mate ndani ya lindi kunaleta kuumwa<br/>\n              na koo.<br/>\n                Spitting into the cess-pit causes sore throat.<br/>\n <br/>\n           Kumbusu mtoto usingizini kunasabibisha mtoto<br/>\n                huyo kuwa na majivuno ukubwani mwake<br/>\n                Kissing a sleeping child will make It grow up<br/>\n                conceited.<br/>\n           Mwenye kuchukua Quran kichwani ataingiliwa<br/>\n              na wazimu<br/>\n                Carrying the Holy Quran on the head will<br/>\n                cause madness.<br/>\n <br/>\n           Kukaa kitini na kupunga miguu mbele na nyuma m kufukuza riziki.<br/>\n                To sit on a chair swinging one’s legs backwards and forwards will drive away one’s<br/>\n                daily bread.<br/>\n                (This is regarded as bad manners by Arabs as<br/>\n                it is a sign of contempt.)<br/>\n           Kupiga uluzi ni kuita shetani.<br/>\n                To whistle is to call the devil.<br/>\n           Ukikanyaga chakula makusudi utasibika na<br/>\n              maradhi ya matende.<br/>\n                if you tread on food deliberately you will get<br/>\n                elephantiasis. (This belief has a religious<br/>\n                background, and is based on an abhorrence<br/>\n                of waste.)<br/>\n <br/>\n           Mwenye kuzowea kula ndani ya chungu atapata<br/>\n              mvua kubwa siku ya harusi yake.<br/>\n               One who eats straight from a cooking-pot will<br/>\n               have heavy rain on his wedding day.</font>\n <p><font face=\"Courier New\" size=\"2\"><br/>\n           Mtoto mwenye kuchezea kivuli chake cha taa<br/>\n              atakojoa kitandani.<br/>\n                A child who plays with his shadow cast by a<br/>\n                lamp will wet his bed.<br/>\n           Kuuza chumvi usiku ni nuksi kwa mwenye duka.<br/>\n                Selling salt at night brings ill luck to the<br/>\n                shopkeeper. (This belief is so deep-rooted) <br/>\n </font><!--msnavigation--></p></p></p></p>,\n <p><img height=\"57\" src=\"super.gif\" width=\"349\"/>\n <p>                               \n SUPERSTITIONS<br/>\n <br/>\n <font face=\"Courier New\" size=\"2\">          Kula gizani ni kula na shetani.<br/>\n               To eat in the dark is to eat with the devil.<br/>\n               This belief discourages eating In the dark, for<br/>\n               obvious reasons.<br/>\n <br/>\n           Kushona nguo mwilini kunaleta ufukara; tabia<br/>\n             hii aidha inajongeza kifo, maana inakuwa kama<br/>\n             mtu anajishonea sanda yake mwenyewe.<br/>\n               To mend a garment which is on one’s body<br/>\n               brings poverty: it also suggests preparing<br/>\n               one’s own shroud, which betokens death.<br/>\n <br/>\n           Kufagia usiku kunakimbiza baraka.<br/>\n               To sweep at night is to chase away blessings.<br/>\n               (This belief contains some truth, in that one<br/>\n               may sweep up and throw away something of<br/>\n               value unwittingly.)<br/>\n <br/>\n Kutembea hali ya kuwa mtu amevaa kiatu<br/>\n             kimoja tu kunavimbisha ziwa la mama yake<br/>\n             mtu.<br/>\n               Walking about with only one shoe on causes<br/>\n               one’s mother’s breast to swell. (I suppose this<br/>\n               is simply to discourage the stupidity of going<br/>\n               about with only one shoe on.)<br/>\n <br/>\n           Mtu akinywa maji usiku pasi na kuufumka mtu-<br/>\n             ngi, usiku roho yake itaingia ndani ya mtungi na<br/>\n             akitokea mtu akaufunika huo mtungi wakati<br/>\n             huo huo, basi atakufa papo hapo.<br/>\n               If a man drinks water at night and leaves the<br/>\n               vessel uncovered, his soul will plunge into it<br/>\n <br/>\n               during the night, and if someone accidentally<br/>\n               puts the lid on, he will die at once.<br/>\n <br/>\n           Mtu akiona. chungu ya wadudu sisimizi ukutani<br/>\n              basi atafikiwa na wageni wa ghafla.<br/>\n               If a man sees a swarm of ants on the wall it<br/>\n                means that unexpected guests will arrive.<br/>\n <br/>\n           Kwenda kulala pasi na kuosha miguu, basi hiyo<br/>\n              miguu italazwa katika moto wa Jahannam.<br/>\n                If one goes to bed without washing one’s feet,<br/>\n                they will lie In the fires of Hell.<br/>\n <br/>\n           Mtu akilala pasipo kuosha miguu, nyayo zake<br/>\n              zitarambwa na shetani.<br/>\n                If a man goes to bed without washing his feet,<br/>\n                the soles of his feet will be licked by the devil.<br/>\n <br/>\n           Mtu akila bila ya kupiga Bismillahi . . basi<br/>\n              baraka itaondoka na mtu hataweza kushiba.<br/>\n                If a man eats without saying grace, there will<br/>\n                be no blessing, so the food will not suffice.<br/>\n                (This belief has a religious background. Islam<br/>\n                teaches its followers to allow religion to per-<br/>\n                meate all their daily acts: and the great<br/>\n                majority of the population of Zanzibar and<br/>\n                Pemba are Muslims.)<br/>\n <br/>\n           Mtoto mchanga akiachwa peke yake, atageuzwa<br/>\n              na shetani.<br/>\n                If a baby is left alone in a room it will be<br/>\n                changed by the devil for his own. at is firmly<br/>\n                believed that Albinos are ‘changelings’.)<br/>\n <br/>\n           Mwenye kufanya mazowea ya kukaa kizingitini<br/>\n              atakawia kuoa.<br/>\n <br/>\n               He who develops a habit of sitting on a door-<br/>\n               step will be late in getting married.<br/>\n <br/>\n           Kula wima kizingitini, mtu atapigwa dafrau na<br/>\n              shetani.<br/>\n                He who eats while standing on the door-step<br/>\n                will be knocked down by a devil. in tended to<br/>\n                discourage the habit of eating in such abnormal places.)<br/>\n <br/>\n           Kula kitu kitamu kinjianjia mtu atasibiwa na shetani.<br/>\n                He who eats sweet food while walking will be<br/>\n                possessed of a devil. (It is regarded as bad<br/>\n                manners to eat while walking.)<br/>\n <br/>\n           Mwenye kumcheka mkwewe hupata maradhi<br/>\n              ya chokea.<br/>\n                He who laughs at his father or mother-in-law<br/>\n                will develop a stye.<br/>\n <br/>\n           Kumchungulia mtu mzima aliyekaa uchi kunaleta upofu.<br/>\n <br/>\n                Looking at a grown-up person naked will<br/>\n                bring blindness.<br/>\n <br/>\n           Kuzaliwa na vidole sita ni mabruki.<br/>\n                To be born with six fingers Is to have good<br/>\n                fortune.<br/>\n <br/>\n           Ukiuonyesha mwezi mchanga kidole. basi utakatika kidole.<br/>\n                If you point at the new moon with a finger It<br/>\n <br/>\n               will get cut.<br/>\n           Mwenye kula miguu ya kuku atakuwa daima<br/>\n              katika mwendo tu<br/>\n  He who eats a fowl’s legs will become a wan-<br/>\n                derer.<br/>\n <br/>\n           Inakatazwa kunywa maji ndani ya kata pasi na<br/>\n              kuikung’uta.<br/>\n                It Is forbidden to drink water from a ladle<br/>\n                without vigorously shaking It first. (To ensure<br/>\n                that it is clean and free from Insects.)<br/>\n <br/>\n           Kupeana mkasi mikono kwa mkono kunasabibisha kuchukiana bure.<br/>\n                Handing over a pair of scissors to someone<br/>\n                directly causes hatred.<br/>\n <br/>\n           Kukaa juu ya mto kunaleta majipu matakoni.<br/>\n                Sitting on cushions causes boils on the but-<br/>\n                tocks.<br/>\n <br/>\n           Kukutana na paka mweusi usiku ni nuksi.<br/>\n                Meeting a black cat at night means bad luck.<br/>\n <br/>\n           Kunywa maji ya chooni kunapeleka mtu kuwa<br/>\n              mwongo.<br/>\n                Drinking water from the lavatory makes a<br/>\n                man a liar. (Intended to discourage so unwholesome a habit.)<br/>\n <br/>\n           Kutema mate ndani ya lindi kunaleta kuumwa<br/>\n              na koo.<br/>\n                Spitting into the cess-pit causes sore throat.<br/>\n <br/>\n           Kumbusu mtoto usingizini kunasabibisha mtoto<br/>\n                huyo kuwa na majivuno ukubwani mwake<br/>\n                Kissing a sleeping child will make It grow up<br/>\n                conceited.<br/>\n           Mwenye kuchukua Quran kichwani ataingiliwa<br/>\n              na wazimu<br/>\n                Carrying the Holy Quran on the head will<br/>\n                cause madness.<br/>\n <br/>\n           Kukaa kitini na kupunga miguu mbele na nyuma m kufukuza riziki.<br/>\n                To sit on a chair swinging one’s legs backwards and forwards will drive away one’s<br/>\n                daily bread.<br/>\n                (This is regarded as bad manners by Arabs as<br/>\n                it is a sign of contempt.)<br/>\n           Kupiga uluzi ni kuita shetani.<br/>\n                To whistle is to call the devil.<br/>\n           Ukikanyaga chakula makusudi utasibika na<br/>\n              maradhi ya matende.<br/>\n                if you tread on food deliberately you will get<br/>\n                elephantiasis. (This belief has a religious<br/>\n                background, and is based on an abhorrence<br/>\n                of waste.)<br/>\n <br/>\n           Mwenye kuzowea kula ndani ya chungu atapata<br/>\n              mvua kubwa siku ya harusi yake.<br/>\n               One who eats straight from a cooking-pot will<br/>\n               have heavy rain on his wedding day.</font>\n <p><font face=\"Courier New\" size=\"2\"><br/>\n           Mtoto mwenye kuchezea kivuli chake cha taa<br/>\n              atakojoa kitandani.<br/>\n                A child who plays with his shadow cast by a<br/>\n                lamp will wet his bed.<br/>\n           Kuuza chumvi usiku ni nuksi kwa mwenye duka.<br/>\n                Selling salt at night brings ill luck to the<br/>\n                shopkeeper. (This belief is so deep-rooted) <br/>\n </font><!--msnavigation--></p></p></p>,\n <p>                               \n SUPERSTITIONS<br/>\n <br/>\n <font face=\"Courier New\" size=\"2\">          Kula gizani ni kula na shetani.<br/>\n               To eat in the dark is to eat with the devil.<br/>\n               This belief discourages eating In the dark, for<br/>\n               obvious reasons.<br/>\n <br/>\n           Kushona nguo mwilini kunaleta ufukara; tabia<br/>\n             hii aidha inajongeza kifo, maana inakuwa kama<br/>\n             mtu anajishonea sanda yake mwenyewe.<br/>\n               To mend a garment which is on one’s body<br/>\n               brings poverty: it also suggests preparing<br/>\n               one’s own shroud, which betokens death.<br/>\n <br/>\n           Kufagia usiku kunakimbiza baraka.<br/>\n               To sweep at night is to chase away blessings.<br/>\n               (This belief contains some truth, in that one<br/>\n               may sweep up and throw away something of<br/>\n               value unwittingly.)<br/>\n <br/>\n Kutembea hali ya kuwa mtu amevaa kiatu<br/>\n             kimoja tu kunavimbisha ziwa la mama yake<br/>\n             mtu.<br/>\n               Walking about with only one shoe on causes<br/>\n               one’s mother’s breast to swell. (I suppose this<br/>\n               is simply to discourage the stupidity of going<br/>\n               about with only one shoe on.)<br/>\n <br/>\n           Mtu akinywa maji usiku pasi na kuufumka mtu-<br/>\n             ngi, usiku roho yake itaingia ndani ya mtungi na<br/>\n             akitokea mtu akaufunika huo mtungi wakati<br/>\n             huo huo, basi atakufa papo hapo.<br/>\n               If a man drinks water at night and leaves the<br/>\n               vessel uncovered, his soul will plunge into it<br/>\n <br/>\n               during the night, and if someone accidentally<br/>\n               puts the lid on, he will die at once.<br/>\n <br/>\n           Mtu akiona. chungu ya wadudu sisimizi ukutani<br/>\n              basi atafikiwa na wageni wa ghafla.<br/>\n               If a man sees a swarm of ants on the wall it<br/>\n                means that unexpected guests will arrive.<br/>\n <br/>\n           Kwenda kulala pasi na kuosha miguu, basi hiyo<br/>\n              miguu italazwa katika moto wa Jahannam.<br/>\n                If one goes to bed without washing one’s feet,<br/>\n                they will lie In the fires of Hell.<br/>\n <br/>\n           Mtu akilala pasipo kuosha miguu, nyayo zake<br/>\n              zitarambwa na shetani.<br/>\n                If a man goes to bed without washing his feet,<br/>\n                the soles of his feet will be licked by the devil.<br/>\n <br/>\n           Mtu akila bila ya kupiga Bismillahi . . basi<br/>\n              baraka itaondoka na mtu hataweza kushiba.<br/>\n                If a man eats without saying grace, there will<br/>\n                be no blessing, so the food will not suffice.<br/>\n                (This belief has a religious background. Islam<br/>\n                teaches its followers to allow religion to per-<br/>\n                meate all their daily acts: and the great<br/>\n                majority of the population of Zanzibar and<br/>\n                Pemba are Muslims.)<br/>\n <br/>\n           Mtoto mchanga akiachwa peke yake, atageuzwa<br/>\n              na shetani.<br/>\n                If a baby is left alone in a room it will be<br/>\n                changed by the devil for his own. at is firmly<br/>\n                believed that Albinos are ‘changelings’.)<br/>\n <br/>\n           Mwenye kufanya mazowea ya kukaa kizingitini<br/>\n              atakawia kuoa.<br/>\n <br/>\n               He who develops a habit of sitting on a door-<br/>\n               step will be late in getting married.<br/>\n <br/>\n           Kula wima kizingitini, mtu atapigwa dafrau na<br/>\n              shetani.<br/>\n                He who eats while standing on the door-step<br/>\n                will be knocked down by a devil. in tended to<br/>\n                discourage the habit of eating in such abnormal places.)<br/>\n <br/>\n           Kula kitu kitamu kinjianjia mtu atasibiwa na shetani.<br/>\n                He who eats sweet food while walking will be<br/>\n                possessed of a devil. (It is regarded as bad<br/>\n                manners to eat while walking.)<br/>\n <br/>\n           Mwenye kumcheka mkwewe hupata maradhi<br/>\n              ya chokea.<br/>\n                He who laughs at his father or mother-in-law<br/>\n                will develop a stye.<br/>\n <br/>\n           Kumchungulia mtu mzima aliyekaa uchi kunaleta upofu.<br/>\n <br/>\n                Looking at a grown-up person naked will<br/>\n                bring blindness.<br/>\n <br/>\n           Kuzaliwa na vidole sita ni mabruki.<br/>\n                To be born with six fingers Is to have good<br/>\n                fortune.<br/>\n <br/>\n           Ukiuonyesha mwezi mchanga kidole. basi utakatika kidole.<br/>\n                If you point at the new moon with a finger It<br/>\n <br/>\n               will get cut.<br/>\n           Mwenye kula miguu ya kuku atakuwa daima<br/>\n              katika mwendo tu<br/>\n  He who eats a fowl’s legs will become a wan-<br/>\n                derer.<br/>\n <br/>\n           Inakatazwa kunywa maji ndani ya kata pasi na<br/>\n              kuikung’uta.<br/>\n                It Is forbidden to drink water from a ladle<br/>\n                without vigorously shaking It first. (To ensure<br/>\n                that it is clean and free from Insects.)<br/>\n <br/>\n           Kupeana mkasi mikono kwa mkono kunasabibisha kuchukiana bure.<br/>\n                Handing over a pair of scissors to someone<br/>\n                directly causes hatred.<br/>\n <br/>\n           Kukaa juu ya mto kunaleta majipu matakoni.<br/>\n                Sitting on cushions causes boils on the but-<br/>\n                tocks.<br/>\n <br/>\n           Kukutana na paka mweusi usiku ni nuksi.<br/>\n                Meeting a black cat at night means bad luck.<br/>\n <br/>\n           Kunywa maji ya chooni kunapeleka mtu kuwa<br/>\n              mwongo.<br/>\n                Drinking water from the lavatory makes a<br/>\n                man a liar. (Intended to discourage so unwholesome a habit.)<br/>\n <br/>\n           Kutema mate ndani ya lindi kunaleta kuumwa<br/>\n              na koo.<br/>\n                Spitting into the cess-pit causes sore throat.<br/>\n <br/>\n           Kumbusu mtoto usingizini kunasabibisha mtoto<br/>\n                huyo kuwa na majivuno ukubwani mwake<br/>\n                Kissing a sleeping child will make It grow up<br/>\n                conceited.<br/>\n           Mwenye kuchukua Quran kichwani ataingiliwa<br/>\n              na wazimu<br/>\n                Carrying the Holy Quran on the head will<br/>\n                cause madness.<br/>\n <br/>\n           Kukaa kitini na kupunga miguu mbele na nyuma m kufukuza riziki.<br/>\n                To sit on a chair swinging one’s legs backwards and forwards will drive away one’s<br/>\n                daily bread.<br/>\n                (This is regarded as bad manners by Arabs as<br/>\n                it is a sign of contempt.)<br/>\n           Kupiga uluzi ni kuita shetani.<br/>\n                To whistle is to call the devil.<br/>\n           Ukikanyaga chakula makusudi utasibika na<br/>\n              maradhi ya matende.<br/>\n                if you tread on food deliberately you will get<br/>\n                elephantiasis. (This belief has a religious<br/>\n                background, and is based on an abhorrence<br/>\n                of waste.)<br/>\n <br/>\n           Mwenye kuzowea kula ndani ya chungu atapata<br/>\n              mvua kubwa siku ya harusi yake.<br/>\n               One who eats straight from a cooking-pot will<br/>\n               have heavy rain on his wedding day.</font>\n <p><font face=\"Courier New\" size=\"2\"><br/>\n           Mtoto mwenye kuchezea kivuli chake cha taa<br/>\n              atakojoa kitandani.<br/>\n                A child who plays with his shadow cast by a<br/>\n                lamp will wet his bed.<br/>\n           Kuuza chumvi usiku ni nuksi kwa mwenye duka.<br/>\n                Selling salt at night brings ill luck to the<br/>\n                shopkeeper. (This belief is so deep-rooted) <br/>\n </font><!--msnavigation--></p></p>,\n <p><font face=\"Courier New\" size=\"2\"><br/>\n           Mtoto mwenye kuchezea kivuli chake cha taa<br/>\n              atakojoa kitandani.<br/>\n                A child who plays with his shadow cast by a<br/>\n                lamp will wet his bed.<br/>\n           Kuuza chumvi usiku ni nuksi kwa mwenye duka.<br/>\n                Selling salt at night brings ill luck to the<br/>\n                shopkeeper. (This belief is so deep-rooted) <br/>\n </font><!--msnavigation--></p>]"
     },
     "execution_count": 56,
     "metadata": {},
     "output_type": "execute_result"
    }
   ],
   "source": [
    "data"
   ],
   "metadata": {
    "collapsed": false,
    "ExecuteTime": {
     "end_time": "2024-05-20T15:55:25.149277Z",
     "start_time": "2024-05-20T15:55:25.126803Z"
    }
   },
   "id": "1135e8bcab9cf728",
   "execution_count": 56
  },
  {
   "cell_type": "code",
   "outputs": [],
   "source": [
    "# save the data in a txt file\n",
    "\n",
    "with open(\"../data/scraped_data.txt\", \"w\") as file:\n",
    "    for item in data:\n",
    "        file.write(item.text)"
   ],
   "metadata": {
    "collapsed": false,
    "ExecuteTime": {
     "end_time": "2024-05-20T15:55:25.808711Z",
     "start_time": "2024-05-20T15:55:25.802244Z"
    }
   },
   "id": "b07e6639aaa4f5c0",
   "execution_count": 57
  },
  {
   "cell_type": "markdown",
   "source": [
    "### Save the data in a MongoDB database"
   ],
   "metadata": {
    "collapsed": false
   },
   "id": "1e5cda5955b3fc7a"
  },
  {
   "cell_type": "code",
   "outputs": [],
   "source": [
    "from src.mongo_db import get_database"
   ],
   "metadata": {
    "collapsed": false,
    "ExecuteTime": {
     "end_time": "2024-05-20T15:55:26.457773Z",
     "start_time": "2024-05-20T15:55:26.453854Z"
    }
   },
   "id": "d9ed648bea362420",
   "execution_count": 58
  },
  {
   "cell_type": "code",
   "outputs": [],
   "source": [
    "web_scraper_db = get_database(\"web_scraper\")"
   ],
   "metadata": {
    "collapsed": false,
    "ExecuteTime": {
     "end_time": "2024-05-20T15:55:26.930669Z",
     "start_time": "2024-05-20T15:55:26.923692Z"
    }
   },
   "id": "1f135590fb4979f4",
   "execution_count": 59
  },
  {
   "cell_type": "code",
   "outputs": [],
   "source": [
    "swahili_text = web_scraper_db[\"swahili_text\"]"
   ],
   "metadata": {
    "collapsed": false,
    "ExecuteTime": {
     "end_time": "2024-05-20T15:55:27.271124Z",
     "start_time": "2024-05-20T15:55:27.266873Z"
    }
   },
   "id": "53ba2ff37e9d5715",
   "execution_count": 60
  },
  {
   "cell_type": "code",
   "outputs": [],
   "source": [
    "# Convert beautiful soup object to string\n",
    "data = [str(item) for item in data]"
   ],
   "metadata": {
    "collapsed": false,
    "ExecuteTime": {
     "end_time": "2024-05-20T15:55:27.645385Z",
     "start_time": "2024-05-20T15:55:27.630601Z"
    }
   },
   "id": "888677a65122852d",
   "execution_count": 61
  },
  {
   "cell_type": "code",
   "outputs": [],
   "source": [
    "item_1 = {\n",
    "    \"title\": \"Swahili Text 1\",\n",
    "    \"category\": \"text\",\n",
    "    \"content\": data\n",
    "}"
   ],
   "metadata": {
    "collapsed": false,
    "ExecuteTime": {
     "end_time": "2024-05-20T15:55:28.011373Z",
     "start_time": "2024-05-20T15:55:28.007564Z"
    }
   },
   "id": "58a6555fdb688b3c",
   "execution_count": 62
  },
  {
   "cell_type": "code",
   "outputs": [
    {
     "data": {
      "text/plain": "InsertOneResult(ObjectId('664b7270d9a5c8c1ecde24c8'), acknowledged=True)"
     },
     "execution_count": 63,
     "metadata": {},
     "output_type": "execute_result"
    }
   ],
   "source": [
    "swahili_text.insert_one(item_1)"
   ],
   "metadata": {
    "collapsed": false,
    "ExecuteTime": {
     "end_time": "2024-05-20T15:55:28.438392Z",
     "start_time": "2024-05-20T15:55:28.430673Z"
    }
   },
   "id": "10e08ee6568e13e1",
   "execution_count": 63
  },
  {
   "cell_type": "code",
   "outputs": [],
   "source": [],
   "metadata": {
    "collapsed": false
   },
   "id": "22665febebcf2ed7"
  }
 ],
 "metadata": {
  "kernelspec": {
   "display_name": "Python 3",
   "language": "python",
   "name": "python3"
  },
  "language_info": {
   "codemirror_mode": {
    "name": "ipython",
    "version": 2
   },
   "file_extension": ".py",
   "mimetype": "text/x-python",
   "name": "python",
   "nbconvert_exporter": "python",
   "pygments_lexer": "ipython2",
   "version": "2.7.6"
  }
 },
 "nbformat": 4,
 "nbformat_minor": 5
}
