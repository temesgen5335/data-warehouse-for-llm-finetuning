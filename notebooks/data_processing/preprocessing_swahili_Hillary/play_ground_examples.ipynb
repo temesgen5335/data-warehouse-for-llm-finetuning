{
 "cells": [
  {
   "cell_type": "code",
   "execution_count": 2,
   "id": "6a8ff749d204307b",
   "metadata": {
    "ExecuteTime": {
     "end_time": "2024-05-21T03:36:22.996458Z",
     "start_time": "2024-05-21T03:36:22.993378Z"
    },
    "collapsed": false
   },
   "outputs": [
    {
     "ename": "ModuleNotFoundError",
     "evalue": "No module named 'nltk'",
     "output_type": "error",
     "traceback": [
      "\u001b[0;31m---------------------------------------------------------------------------\u001b[0m",
      "\u001b[0;31mModuleNotFoundError\u001b[0m                       Traceback (most recent call last)",
      "Cell \u001b[0;32mIn[2], line 2\u001b[0m\n\u001b[1;32m      1\u001b[0m \u001b[38;5;28;01mimport\u001b[39;00m \u001b[38;5;21;01mre\u001b[39;00m\n\u001b[0;32m----> 2\u001b[0m \u001b[38;5;28;01mimport\u001b[39;00m \u001b[38;5;21;01mnltk\u001b[39;00m\n",
      "\u001b[0;31mModuleNotFoundError\u001b[0m: No module named 'nltk'"
     ]
    }
   ],
   "source": [
    "import re\n",
    "import nltk"
   ]
  },
  {
   "cell_type": "markdown",
   "id": "24606d204a52807e",
   "metadata": {
    "collapsed": false
   },
   "source": [
    "## Fetch the data from MongoDB database"
   ]
  },
  {
   "cell_type": "code",
   "execution_count": 95,
   "id": "38c87ef9a009bd53",
   "metadata": {
    "ExecuteTime": {
     "end_time": "2024-05-21T03:36:23.263851Z",
     "start_time": "2024-05-21T03:36:23.258864Z"
    },
    "collapsed": false
   },
   "outputs": [],
   "source": [
    "from src.mongo_db import get_collection"
   ]
  },
  {
   "cell_type": "code",
   "execution_count": 96,
   "id": "bc6b3b2318122990",
   "metadata": {
    "ExecuteTime": {
     "end_time": "2024-05-21T03:36:23.294614Z",
     "start_time": "2024-05-21T03:36:23.284971Z"
    },
    "collapsed": false
   },
   "outputs": [],
   "source": [
    "swahili_collection = get_collection('web_scraper', 'swahili_text')"
   ]
  },
  {
   "cell_type": "code",
   "execution_count": 97,
   "id": "a66f8e6d9ce6602",
   "metadata": {
    "ExecuteTime": {
     "end_time": "2024-05-21T03:36:23.376080Z",
     "start_time": "2024-05-21T03:36:23.371660Z"
    },
    "collapsed": false
   },
   "outputs": [],
   "source": [
    "def get_data():\n",
    "    swa_docs = swahili_collection.find({\"category\": \"text\"})\n",
    "    return list(swa_docs)"
   ]
  },
  {
   "cell_type": "code",
   "execution_count": 98,
   "id": "711aa2f1784c9e8a",
   "metadata": {
    "ExecuteTime": {
     "end_time": "2024-05-21T03:36:23.495607Z",
     "start_time": "2024-05-21T03:36:23.485979Z"
    },
    "collapsed": false
   },
   "outputs": [],
   "source": [
    "data = get_data()"
   ]
  },
  {
   "cell_type": "code",
   "execution_count": 99,
   "id": "5f09d6412dce6540",
   "metadata": {
    "ExecuteTime": {
     "end_time": "2024-05-21T03:36:23.549397Z",
     "start_time": "2024-05-21T03:36:23.545175Z"
    },
    "collapsed": false
   },
   "outputs": [],
   "source": [
    "string = data[-1].get(\"content\")[-2]"
   ]
  },
  {
   "cell_type": "code",
   "execution_count": 100,
   "id": "f19d57f907c6d7d5",
   "metadata": {
    "ExecuteTime": {
     "end_time": "2024-05-21T03:36:23.625538Z",
     "start_time": "2024-05-21T03:36:23.620719Z"
    },
    "collapsed": false
   },
   "outputs": [
    {
     "data": {
      "text/plain": [
       "'<p>\\xa0\\xa0\\xa0\\xa0\\xa0\\xa0\\xa0\\xa0\\xa0\\xa0\\xa0\\xa0\\xa0\\xa0\\xa0\\xa0\\xa0\\xa0\\xa0\\xa0\\xa0\\xa0\\xa0\\xa0\\xa0\\xa0\\xa0\\xa0\\xa0\\xa0\\xa0\\r\\nSUPERSTITIONS<br/>\\n<br/>\\n<font face=\"Courier New\" size=\"2\">          Kula gizani ni kula na shetani.<br/>\\r\\n              To eat in the dark is to eat with the devil.<br/>\\r\\n              This belief discourages eating In the dark, for<br/>\\r\\n              obvious reasons.<br/>\\n<br/>\\r\\n          Kushona nguo mwilini kunaleta ufukara; tabia<br/>\\r\\n            hii aidha inajongeza kifo, maana inakuwa kama<br/>\\r\\n            mtu anajishonea sanda yake mwenyewe.<br/>\\r\\n              To mend a garment which is on one’s body<br/>\\r\\n              brings poverty: it also suggests preparing<br/>\\r\\n              one’s own shroud, which betokens death.<br/>\\n<br/>\\r\\n          Kufagia usiku kunakimbiza baraka.<br/>\\r\\n              To sweep at night is to chase away blessings.<br/>\\r\\n              (This belief contains some truth, in that one<br/>\\r\\n              may sweep up and throw away something of<br/>\\r\\n              value unwittingly.)<br/>\\n<br/>\\r\\nKutembea hali ya kuwa mtu amevaa kiatu<br/>\\r\\n            kimoja tu kunavimbisha ziwa la mama yake<br/>\\r\\n            mtu.<br/>\\r\\n              Walking about with only one shoe on causes<br/>\\r\\n              one’s mother’s breast to swell. (I suppose this<br/>\\r\\n              is simply to discourage the stupidity of going<br/>\\r\\n              about with only one shoe on.)<br/>\\n<br/>\\r\\n          Mtu akinywa maji usiku pasi na kuufumka mtu-<br/>\\r\\n            ngi, usiku roho yake itaingia ndani ya mtungi na<br/>\\r\\n            akitokea mtu akaufunika huo mtungi wakati<br/>\\r\\n            huo huo, basi atakufa papo hapo.<br/>\\r\\n              If a man drinks water at night and leaves the<br/>\\r\\n              vessel uncovered, his soul will plunge into it<br/>\\n<br/>\\r\\n              during the night, and if someone accidentally<br/>\\r\\n              puts the lid on, he will die at once.<br/>\\n<br/>\\r\\n          Mtu akiona. chungu ya wadudu sisimizi ukutani<br/>\\r\\n             basi atafikiwa na wageni wa ghafla.<br/>\\r\\n              If a man sees a swarm of ants on the wall it<br/>\\r\\n               means that unexpected guests will arrive.<br/>\\n<br/>\\r\\n          Kwenda kulala pasi na kuosha miguu, basi hiyo<br/>\\r\\n             miguu italazwa katika moto wa Jahannam.<br/>\\r\\n               If one goes to bed without washing one’s feet,<br/>\\r\\n               they will lie In the fires of Hell.<br/>\\n<br/>\\r\\n          Mtu akilala pasipo kuosha miguu, nyayo zake<br/>\\r\\n             zitarambwa na shetani.<br/>\\r\\n               If a man goes to bed without washing his feet,<br/>\\r\\n               the soles of his feet will be licked by the devil.<br/>\\n<br/>\\r\\n          Mtu akila bila ya kupiga Bismillahi . . basi<br/>\\r\\n             baraka itaondoka na mtu hataweza kushiba.<br/>\\r\\n               If a man eats without saying grace, there will<br/>\\r\\n               be no blessing, so the food will not suffice.<br/>\\r\\n               (This belief has a religious background. Islam<br/>\\r\\n               teaches its followers to allow religion to per-<br/>\\r\\n               meate all their daily acts: and the great<br/>\\r\\n               majority of the population of Zanzibar and<br/>\\r\\n               Pemba are Muslims.)<br/>\\n<br/>\\r\\n          Mtoto mchanga akiachwa peke yake, atageuzwa<br/>\\r\\n             na shetani.<br/>\\r\\n               If a baby is left alone in a room it will be<br/>\\r\\n               changed by the devil for his own. at is firmly<br/>\\r\\n               believed that Albinos are ‘changelings’.)<br/>\\n<br/>\\r\\n          Mwenye kufanya mazowea ya kukaa kizingitini<br/>\\r\\n             atakawia kuoa.<br/>\\n<br/>\\r\\n              He who develops a habit of sitting on a door-<br/>\\r\\n              step will be late in getting married.<br/>\\n<br/>\\r\\n          Kula wima kizingitini, mtu atapigwa dafrau na<br/>\\r\\n             shetani.<br/>\\r\\n               He who eats while standing on the door-step<br/>\\r\\n               will be knocked down by a devil. in tended to<br/>\\r\\n               discourage the habit of eating in such abnormal places.)<br/>\\n<br/>\\r\\n          Kula kitu kitamu kinjianjia mtu atasibiwa na shetani.<br/>\\r\\n               He who eats sweet food while walking will be<br/>\\r\\n               possessed of a devil. (It is regarded as bad<br/>\\r\\n               manners to eat while walking.)<br/>\\n<br/>\\r\\n          Mwenye kumcheka mkwewe hupata maradhi<br/>\\r\\n             ya chokea.<br/>\\r\\n               He who laughs at his father or mother-in-law<br/>\\r\\n               will develop a stye.<br/>\\n<br/>\\r\\n          Kumchungulia mtu mzima aliyekaa uchi kunaleta upofu.<br/>\\n<br/>\\r\\n               Looking at a grown-up person naked will<br/>\\r\\n               bring blindness.<br/>\\n<br/>\\r\\n          Kuzaliwa na vidole sita ni mabruki.<br/>\\r\\n               To be born with six fingers Is to have good<br/>\\r\\n               fortune.<br/>\\n<br/>\\r\\n          Ukiuonyesha mwezi mchanga kidole. basi utakatika kidole.<br/>\\r\\n               If you point at the new moon with a finger It<br/>\\n<br/>\\r\\n              will get cut.<br/>\\r\\n          Mwenye kula miguu ya kuku atakuwa daima<br/>\\r\\n             katika mwendo tu<br/>\\r\\n He who eats a fowl’s legs will become a wan-<br/>\\r\\n               derer.<br/>\\n<br/>\\r\\n          Inakatazwa kunywa maji ndani ya kata pasi na<br/>\\r\\n             kuikung’uta.<br/>\\r\\n               It Is forbidden to drink water from a ladle<br/>\\r\\n               without vigorously shaking It first. (To ensure<br/>\\r\\n               that it is clean and free from Insects.)<br/>\\n<br/>\\r\\n          Kupeana mkasi mikono kwa mkono kunasabibisha kuchukiana bure.<br/>\\r\\n               Handing over a pair of scissors to someone<br/>\\r\\n               directly causes hatred.<br/>\\n<br/>\\r\\n          Kukaa juu ya mto kunaleta majipu matakoni.<br/>\\r\\n               Sitting on cushions causes boils on the but-<br/>\\r\\n               tocks.<br/>\\n<br/>\\r\\n          Kukutana na paka mweusi usiku ni nuksi.<br/>\\r\\n               Meeting a black cat at night means bad luck.<br/>\\n<br/>\\r\\n          Kunywa maji ya chooni kunapeleka mtu kuwa<br/>\\r\\n             mwongo.<br/>\\r\\n               Drinking water from the lavatory makes a<br/>\\r\\n               man a liar. (Intended to discourage so unwholesome a habit.)<br/>\\n<br/>\\r\\n          Kutema mate ndani ya lindi kunaleta kuumwa<br/>\\r\\n             na koo.<br/>\\r\\n               Spitting into the cess-pit causes sore throat.<br/>\\n<br/>\\r\\n          Kumbusu mtoto usingizini kunasabibisha mtoto<br/>\\r\\n               huyo kuwa na majivuno ukubwani mwake<br/>\\r\\n               Kissing a sleeping child will make It grow up<br/>\\r\\n               conceited.<br/>\\r\\n          Mwenye kuchukua Quran kichwani ataingiliwa<br/>\\r\\n             na wazimu<br/>\\r\\n               Carrying the Holy Quran on the head will<br/>\\r\\n               cause madness.<br/>\\n<br/>\\r\\n          Kukaa kitini na kupunga miguu mbele na nyuma m kufukuza riziki.<br/>\\r\\n               To sit on a chair swinging one’s legs backwards and forwards will drive away one’s<br/>\\r\\n               daily bread.<br/>\\r\\n               (This is regarded as bad manners by Arabs as<br/>\\r\\n               it is a sign of contempt.)<br/>\\r\\n          Kupiga uluzi ni kuita shetani.<br/>\\r\\n               To whistle is to call the devil.<br/>\\r\\n          Ukikanyaga chakula makusudi utasibika na<br/>\\r\\n             maradhi ya matende.<br/>\\r\\n               if you tread on food deliberately you will get<br/>\\r\\n               elephantiasis. (This belief has a religious<br/>\\r\\n               background, and is based on an abhorrence<br/>\\r\\n               of waste.)<br/>\\n<br/>\\r\\n          Mwenye kuzowea kula ndani ya chungu atapata<br/>\\r\\n             mvua kubwa siku ya harusi yake.<br/>\\r\\n              One who eats straight from a cooking-pot will<br/>\\r\\n              have heavy rain on his wedding day.</font>\\n<p><font face=\"Courier New\" size=\"2\"><br/>\\r\\n          Mtoto mwenye kuchezea kivuli chake cha taa<br/>\\r\\n             atakojoa kitandani.<br/>\\r\\n               A child who plays with his shadow cast by a<br/>\\r\\n               lamp will wet his bed.<br/>\\r\\n          Kuuza chumvi usiku ni nuksi kwa mwenye duka.<br/>\\r\\n               Selling salt at night brings ill luck to the<br/>\\r\\n               shopkeeper. (This belief is so deep-rooted) <br/>\\n</font><!--msnavigation--></p></p>'"
      ]
     },
     "execution_count": 100,
     "metadata": {},
     "output_type": "execute_result"
    }
   ],
   "source": [
    "string"
   ]
  },
  {
   "cell_type": "markdown",
   "id": "deab9943075d0be2",
   "metadata": {
    "collapsed": false
   },
   "source": [
    "using str.isalnum()\n",
    "Here we will Remove Special Characters from String Python using String isalnum() method checks whether all the characters in a given string are alphanumeric or not. It returns a boolean as True – If all the characters are alphanumeric or else false – If one or more characters are not alphanumeric."
   ]
  },
  {
   "cell_type": "markdown",
   "id": "8843e8b9225f168d",
   "metadata": {
    "collapsed": false
   },
   "source": [
    "### Remove html tags"
   ]
  },
  {
   "cell_type": "code",
   "execution_count": 101,
   "id": "2b198b48b7688eeb",
   "metadata": {
    "ExecuteTime": {
     "end_time": "2024-05-21T03:36:23.690433Z",
     "start_time": "2024-05-21T03:36:23.686047Z"
    },
    "collapsed": false
   },
   "outputs": [],
   "source": [
    "def removeHtmlTags(string):\n",
    "    clean = re.compile('<.*?>')\n",
    "    cleantext = re.sub(clean, '', string)\n",
    "    return cleantext"
   ]
  },
  {
   "cell_type": "code",
   "execution_count": 102,
   "id": "971fdc226ecd58a9",
   "metadata": {
    "ExecuteTime": {
     "end_time": "2024-05-21T03:36:23.786467Z",
     "start_time": "2024-05-21T03:36:23.782882Z"
    },
    "collapsed": false
   },
   "outputs": [],
   "source": [
    "string_clean_from_html = removeHtmlTags(string)"
   ]
  },
  {
   "cell_type": "code",
   "execution_count": 103,
   "id": "8a3ffc442e9291ed",
   "metadata": {
    "ExecuteTime": {
     "end_time": "2024-05-21T03:36:23.819267Z",
     "start_time": "2024-05-21T03:36:23.813492Z"
    },
    "collapsed": false
   },
   "outputs": [
    {
     "data": {
      "text/plain": [
       "'\\xa0\\xa0\\xa0\\xa0\\xa0\\xa0\\xa0\\xa0\\xa0\\xa0\\xa0\\xa0\\xa0\\xa0\\xa0\\xa0\\xa0\\xa0\\xa0\\xa0\\xa0\\xa0\\xa0\\xa0\\xa0\\xa0\\xa0\\xa0\\xa0\\xa0\\xa0\\r\\nSUPERSTITIONS\\n\\n          Kula gizani ni kula na shetani.\\r\\n              To eat in the dark is to eat with the devil.\\r\\n              This belief discourages eating In the dark, for\\r\\n              obvious reasons.\\n\\r\\n          Kushona nguo mwilini kunaleta ufukara; tabia\\r\\n            hii aidha inajongeza kifo, maana inakuwa kama\\r\\n            mtu anajishonea sanda yake mwenyewe.\\r\\n              To mend a garment which is on one’s body\\r\\n              brings poverty: it also suggests preparing\\r\\n              one’s own shroud, which betokens death.\\n\\r\\n          Kufagia usiku kunakimbiza baraka.\\r\\n              To sweep at night is to chase away blessings.\\r\\n              (This belief contains some truth, in that one\\r\\n              may sweep up and throw away something of\\r\\n              value unwittingly.)\\n\\r\\nKutembea hali ya kuwa mtu amevaa kiatu\\r\\n            kimoja tu kunavimbisha ziwa la mama yake\\r\\n            mtu.\\r\\n              Walking about with only one shoe on causes\\r\\n              one’s mother’s breast to swell. (I suppose this\\r\\n              is simply to discourage the stupidity of going\\r\\n              about with only one shoe on.)\\n\\r\\n          Mtu akinywa maji usiku pasi na kuufumka mtu-\\r\\n            ngi, usiku roho yake itaingia ndani ya mtungi na\\r\\n            akitokea mtu akaufunika huo mtungi wakati\\r\\n            huo huo, basi atakufa papo hapo.\\r\\n              If a man drinks water at night and leaves the\\r\\n              vessel uncovered, his soul will plunge into it\\n\\r\\n              during the night, and if someone accidentally\\r\\n              puts the lid on, he will die at once.\\n\\r\\n          Mtu akiona. chungu ya wadudu sisimizi ukutani\\r\\n             basi atafikiwa na wageni wa ghafla.\\r\\n              If a man sees a swarm of ants on the wall it\\r\\n               means that unexpected guests will arrive.\\n\\r\\n          Kwenda kulala pasi na kuosha miguu, basi hiyo\\r\\n             miguu italazwa katika moto wa Jahannam.\\r\\n               If one goes to bed without washing one’s feet,\\r\\n               they will lie In the fires of Hell.\\n\\r\\n          Mtu akilala pasipo kuosha miguu, nyayo zake\\r\\n             zitarambwa na shetani.\\r\\n               If a man goes to bed without washing his feet,\\r\\n               the soles of his feet will be licked by the devil.\\n\\r\\n          Mtu akila bila ya kupiga Bismillahi . . basi\\r\\n             baraka itaondoka na mtu hataweza kushiba.\\r\\n               If a man eats without saying grace, there will\\r\\n               be no blessing, so the food will not suffice.\\r\\n               (This belief has a religious background. Islam\\r\\n               teaches its followers to allow religion to per-\\r\\n               meate all their daily acts: and the great\\r\\n               majority of the population of Zanzibar and\\r\\n               Pemba are Muslims.)\\n\\r\\n          Mtoto mchanga akiachwa peke yake, atageuzwa\\r\\n             na shetani.\\r\\n               If a baby is left alone in a room it will be\\r\\n               changed by the devil for his own. at is firmly\\r\\n               believed that Albinos are ‘changelings’.)\\n\\r\\n          Mwenye kufanya mazowea ya kukaa kizingitini\\r\\n             atakawia kuoa.\\n\\r\\n              He who develops a habit of sitting on a door-\\r\\n              step will be late in getting married.\\n\\r\\n          Kula wima kizingitini, mtu atapigwa dafrau na\\r\\n             shetani.\\r\\n               He who eats while standing on the door-step\\r\\n               will be knocked down by a devil. in tended to\\r\\n               discourage the habit of eating in such abnormal places.)\\n\\r\\n          Kula kitu kitamu kinjianjia mtu atasibiwa na shetani.\\r\\n               He who eats sweet food while walking will be\\r\\n               possessed of a devil. (It is regarded as bad\\r\\n               manners to eat while walking.)\\n\\r\\n          Mwenye kumcheka mkwewe hupata maradhi\\r\\n             ya chokea.\\r\\n               He who laughs at his father or mother-in-law\\r\\n               will develop a stye.\\n\\r\\n          Kumchungulia mtu mzima aliyekaa uchi kunaleta upofu.\\n\\r\\n               Looking at a grown-up person naked will\\r\\n               bring blindness.\\n\\r\\n          Kuzaliwa na vidole sita ni mabruki.\\r\\n               To be born with six fingers Is to have good\\r\\n               fortune.\\n\\r\\n          Ukiuonyesha mwezi mchanga kidole. basi utakatika kidole.\\r\\n               If you point at the new moon with a finger It\\n\\r\\n              will get cut.\\r\\n          Mwenye kula miguu ya kuku atakuwa daima\\r\\n             katika mwendo tu\\r\\n He who eats a fowl’s legs will become a wan-\\r\\n               derer.\\n\\r\\n          Inakatazwa kunywa maji ndani ya kata pasi na\\r\\n             kuikung’uta.\\r\\n               It Is forbidden to drink water from a ladle\\r\\n               without vigorously shaking It first. (To ensure\\r\\n               that it is clean and free from Insects.)\\n\\r\\n          Kupeana mkasi mikono kwa mkono kunasabibisha kuchukiana bure.\\r\\n               Handing over a pair of scissors to someone\\r\\n               directly causes hatred.\\n\\r\\n          Kukaa juu ya mto kunaleta majipu matakoni.\\r\\n               Sitting on cushions causes boils on the but-\\r\\n               tocks.\\n\\r\\n          Kukutana na paka mweusi usiku ni nuksi.\\r\\n               Meeting a black cat at night means bad luck.\\n\\r\\n          Kunywa maji ya chooni kunapeleka mtu kuwa\\r\\n             mwongo.\\r\\n               Drinking water from the lavatory makes a\\r\\n               man a liar. (Intended to discourage so unwholesome a habit.)\\n\\r\\n          Kutema mate ndani ya lindi kunaleta kuumwa\\r\\n             na koo.\\r\\n               Spitting into the cess-pit causes sore throat.\\n\\r\\n          Kumbusu mtoto usingizini kunasabibisha mtoto\\r\\n               huyo kuwa na majivuno ukubwani mwake\\r\\n               Kissing a sleeping child will make It grow up\\r\\n               conceited.\\r\\n          Mwenye kuchukua Quran kichwani ataingiliwa\\r\\n             na wazimu\\r\\n               Carrying the Holy Quran on the head will\\r\\n               cause madness.\\n\\r\\n          Kukaa kitini na kupunga miguu mbele na nyuma m kufukuza riziki.\\r\\n               To sit on a chair swinging one’s legs backwards and forwards will drive away one’s\\r\\n               daily bread.\\r\\n               (This is regarded as bad manners by Arabs as\\r\\n               it is a sign of contempt.)\\r\\n          Kupiga uluzi ni kuita shetani.\\r\\n               To whistle is to call the devil.\\r\\n          Ukikanyaga chakula makusudi utasibika na\\r\\n             maradhi ya matende.\\r\\n               if you tread on food deliberately you will get\\r\\n               elephantiasis. (This belief has a religious\\r\\n               background, and is based on an abhorrence\\r\\n               of waste.)\\n\\r\\n          Mwenye kuzowea kula ndani ya chungu atapata\\r\\n             mvua kubwa siku ya harusi yake.\\r\\n              One who eats straight from a cooking-pot will\\r\\n              have heavy rain on his wedding day.\\n\\r\\n          Mtoto mwenye kuchezea kivuli chake cha taa\\r\\n             atakojoa kitandani.\\r\\n               A child who plays with his shadow cast by a\\r\\n               lamp will wet his bed.\\r\\n          Kuuza chumvi usiku ni nuksi kwa mwenye duka.\\r\\n               Selling salt at night brings ill luck to the\\r\\n               shopkeeper. (This belief is so deep-rooted) \\n'"
      ]
     },
     "execution_count": 103,
     "metadata": {},
     "output_type": "execute_result"
    }
   ],
   "source": [
    "string_clean_from_html"
   ]
  },
  {
   "cell_type": "markdown",
   "id": "c1e6f7881db6138d",
   "metadata": {
    "collapsed": false
   },
   "source": [
    "### Remove special characters"
   ]
  },
  {
   "cell_type": "code",
   "execution_count": 103,
   "id": "9db6ecb93c8289f3",
   "metadata": {
    "ExecuteTime": {
     "end_time": "2024-05-21T03:36:23.883379Z",
     "start_time": "2024-05-21T03:36:23.879687Z"
    },
    "collapsed": false
   },
   "outputs": [],
   "source": []
  },
  {
   "cell_type": "code",
   "execution_count": 104,
   "id": "initial_id",
   "metadata": {
    "ExecuteTime": {
     "end_time": "2024-05-21T03:36:23.927995Z",
     "start_time": "2024-05-21T03:36:23.923140Z"
    },
    "collapsed": false
   },
   "outputs": [],
   "source": [
    "# string = \"Ge;ek * s:fo ! r;Ge * e*k:s !\""
   ]
  },
  {
   "cell_type": "code",
   "execution_count": 105,
   "id": "b191a6621d48bcbd",
   "metadata": {
    "ExecuteTime": {
     "end_time": "2024-05-21T03:36:24.007367Z",
     "start_time": "2024-05-21T03:36:23.998038Z"
    },
    "collapsed": false
   },
   "outputs": [],
   "source": [
    "test_str = ''.join(letter for letter in string_clean_from_html if letter.isalnum() or letter == ' ')"
   ]
  },
  {
   "cell_type": "code",
   "execution_count": 106,
   "id": "653b398075cf0753",
   "metadata": {
    "ExecuteTime": {
     "end_time": "2024-05-21T03:36:24.087932Z",
     "start_time": "2024-05-21T03:36:24.080180Z"
    },
    "collapsed": false
   },
   "outputs": [],
   "source": [
    "test_str = test_str.lower()"
   ]
  },
  {
   "cell_type": "code",
   "execution_count": 107,
   "id": "a7f1194c27b9e6cf",
   "metadata": {
    "ExecuteTime": {
     "end_time": "2024-05-21T03:36:24.170456Z",
     "start_time": "2024-05-21T03:36:24.164876Z"
    },
    "collapsed": false
   },
   "outputs": [
    {
     "data": {
      "text/plain": [
       "'superstitions          kula gizani ni kula na shetani              to eat in the dark is to eat with the devil              this belief discourages eating in the dark for              obvious reasons          kushona nguo mwilini kunaleta ufukara tabia            hii aidha inajongeza kifo maana inakuwa kama            mtu anajishonea sanda yake mwenyewe              to mend a garment which is on ones body              brings poverty it also suggests preparing              ones own shroud which betokens death          kufagia usiku kunakimbiza baraka              to sweep at night is to chase away blessings              this belief contains some truth in that one              may sweep up and throw away something of              value unwittinglykutembea hali ya kuwa mtu amevaa kiatu            kimoja tu kunavimbisha ziwa la mama yake            mtu              walking about with only one shoe on causes              ones mothers breast to swell i suppose this              is simply to discourage the stupidity of going              about with only one shoe on          mtu akinywa maji usiku pasi na kuufumka mtu            ngi usiku roho yake itaingia ndani ya mtungi na            akitokea mtu akaufunika huo mtungi wakati            huo huo basi atakufa papo hapo              if a man drinks water at night and leaves the              vessel uncovered his soul will plunge into it              during the night and if someone accidentally              puts the lid on he will die at once          mtu akiona chungu ya wadudu sisimizi ukutani             basi atafikiwa na wageni wa ghafla              if a man sees a swarm of ants on the wall it               means that unexpected guests will arrive          kwenda kulala pasi na kuosha miguu basi hiyo             miguu italazwa katika moto wa jahannam               if one goes to bed without washing ones feet               they will lie in the fires of hell          mtu akilala pasipo kuosha miguu nyayo zake             zitarambwa na shetani               if a man goes to bed without washing his feet               the soles of his feet will be licked by the devil          mtu akila bila ya kupiga bismillahi   basi             baraka itaondoka na mtu hataweza kushiba               if a man eats without saying grace there will               be no blessing so the food will not suffice               this belief has a religious background islam               teaches its followers to allow religion to per               meate all their daily acts and the great               majority of the population of zanzibar and               pemba are muslims          mtoto mchanga akiachwa peke yake atageuzwa             na shetani               if a baby is left alone in a room it will be               changed by the devil for his own at is firmly               believed that albinos are changelings          mwenye kufanya mazowea ya kukaa kizingitini             atakawia kuoa              he who develops a habit of sitting on a door              step will be late in getting married          kula wima kizingitini mtu atapigwa dafrau na             shetani               he who eats while standing on the doorstep               will be knocked down by a devil in tended to               discourage the habit of eating in such abnormal places          kula kitu kitamu kinjianjia mtu atasibiwa na shetani               he who eats sweet food while walking will be               possessed of a devil it is regarded as bad               manners to eat while walking          mwenye kumcheka mkwewe hupata maradhi             ya chokea               he who laughs at his father or motherinlaw               will develop a stye          kumchungulia mtu mzima aliyekaa uchi kunaleta upofu               looking at a grownup person naked will               bring blindness          kuzaliwa na vidole sita ni mabruki               to be born with six fingers is to have good               fortune          ukiuonyesha mwezi mchanga kidole basi utakatika kidole               if you point at the new moon with a finger it              will get cut          mwenye kula miguu ya kuku atakuwa daima             katika mwendo tu he who eats a fowls legs will become a wan               derer          inakatazwa kunywa maji ndani ya kata pasi na             kuikunguta               it is forbidden to drink water from a ladle               without vigorously shaking it first to ensure               that it is clean and free from insects          kupeana mkasi mikono kwa mkono kunasabibisha kuchukiana bure               handing over a pair of scissors to someone               directly causes hatred          kukaa juu ya mto kunaleta majipu matakoni               sitting on cushions causes boils on the but               tocks          kukutana na paka mweusi usiku ni nuksi               meeting a black cat at night means bad luck          kunywa maji ya chooni kunapeleka mtu kuwa             mwongo               drinking water from the lavatory makes a               man a liar intended to discourage so unwholesome a habit          kutema mate ndani ya lindi kunaleta kuumwa             na koo               spitting into the cesspit causes sore throat          kumbusu mtoto usingizini kunasabibisha mtoto               huyo kuwa na majivuno ukubwani mwake               kissing a sleeping child will make it grow up               conceited          mwenye kuchukua quran kichwani ataingiliwa             na wazimu               carrying the holy quran on the head will               cause madness          kukaa kitini na kupunga miguu mbele na nyuma m kufukuza riziki               to sit on a chair swinging ones legs backwards and forwards will drive away ones               daily bread               this is regarded as bad manners by arabs as               it is a sign of contempt          kupiga uluzi ni kuita shetani               to whistle is to call the devil          ukikanyaga chakula makusudi utasibika na             maradhi ya matende               if you tread on food deliberately you will get               elephantiasis this belief has a religious               background and is based on an abhorrence               of waste          mwenye kuzowea kula ndani ya chungu atapata             mvua kubwa siku ya harusi yake              one who eats straight from a cookingpot will              have heavy rain on his wedding day          mtoto mwenye kuchezea kivuli chake cha taa             atakojoa kitandani               a child who plays with his shadow cast by a               lamp will wet his bed          kuuza chumvi usiku ni nuksi kwa mwenye duka               selling salt at night brings ill luck to the               shopkeeper this belief is so deeprooted '"
      ]
     },
     "execution_count": 107,
     "metadata": {},
     "output_type": "execute_result"
    }
   ],
   "source": [
    "test_str"
   ]
  },
  {
   "cell_type": "code",
   "execution_count": 107,
   "id": "24f0a8e3855b509d",
   "metadata": {
    "ExecuteTime": {
     "end_time": "2024-05-21T03:36:24.215104Z",
     "start_time": "2024-05-21T03:36:24.212065Z"
    },
    "collapsed": false
   },
   "outputs": [],
   "source": []
  },
  {
   "cell_type": "markdown",
   "id": "8980f855330c1997",
   "metadata": {
    "collapsed": false
   },
   "source": [
    "### Remove numbers"
   ]
  },
  {
   "cell_type": "code",
   "execution_count": 108,
   "id": "4ef94945b6ff542d",
   "metadata": {
    "ExecuteTime": {
     "end_time": "2024-05-21T03:36:24.228110Z",
     "start_time": "2024-05-21T03:36:24.222861Z"
    },
    "collapsed": false
   },
   "outputs": [],
   "source": [
    "# Import regex\n",
    "import re"
   ]
  },
  {
   "cell_type": "code",
   "execution_count": 109,
   "id": "6524fe5126f95eb",
   "metadata": {
    "ExecuteTime": {
     "end_time": "2024-05-21T03:36:24.274634Z",
     "start_time": "2024-05-21T03:36:24.271341Z"
    },
    "collapsed": false
   },
   "outputs": [],
   "source": [
    "# string = \"\""
   ]
  },
  {
   "cell_type": "code",
   "execution_count": 110,
   "id": "d6f494958b742b7a",
   "metadata": {
    "ExecuteTime": {
     "end_time": "2024-05-21T03:36:24.387522Z",
     "start_time": "2024-05-21T03:36:24.383384Z"
    },
    "collapsed": false
   },
   "outputs": [],
   "source": [
    "lower_string = test_str.lower()"
   ]
  },
  {
   "cell_type": "code",
   "execution_count": 111,
   "id": "dea177575da8f388",
   "metadata": {
    "ExecuteTime": {
     "end_time": "2024-05-21T03:36:24.497982Z",
     "start_time": "2024-05-21T03:36:24.493667Z"
    },
    "collapsed": false
   },
   "outputs": [],
   "source": [
    "# Remove numbers\n",
    "no_number_str = re.sub(r'\\d+', '', lower_string)"
   ]
  },
  {
   "cell_type": "code",
   "execution_count": 112,
   "id": "cba148a7ce42c678",
   "metadata": {
    "ExecuteTime": {
     "end_time": "2024-05-21T03:36:24.534415Z",
     "start_time": "2024-05-21T03:36:24.529929Z"
    },
    "collapsed": false
   },
   "outputs": [],
   "source": [
    "# Remove all punctuation except words and space\n",
    "no_punctuation_str = re.sub(r'[^\\w\\s]', '', no_number_str)"
   ]
  },
  {
   "cell_type": "code",
   "execution_count": 113,
   "id": "e75edc2c888ad438",
   "metadata": {
    "ExecuteTime": {
     "end_time": "2024-05-21T03:36:24.572339Z",
     "start_time": "2024-05-21T03:36:24.566775Z"
    },
    "collapsed": false
   },
   "outputs": [
    {
     "data": {
      "text/plain": [
       "'superstitions          kula gizani ni kula na shetani              to eat in the dark is to eat with the devil              this belief discourages eating in the dark for              obvious reasons          kushona nguo mwilini kunaleta ufukara tabia            hii aidha inajongeza kifo maana inakuwa kama            mtu anajishonea sanda yake mwenyewe              to mend a garment which is on ones body              brings poverty it also suggests preparing              ones own shroud which betokens death          kufagia usiku kunakimbiza baraka              to sweep at night is to chase away blessings              this belief contains some truth in that one              may sweep up and throw away something of              value unwittinglykutembea hali ya kuwa mtu amevaa kiatu            kimoja tu kunavimbisha ziwa la mama yake            mtu              walking about with only one shoe on causes              ones mothers breast to swell i suppose this              is simply to discourage the stupidity of going              about with only one shoe on          mtu akinywa maji usiku pasi na kuufumka mtu            ngi usiku roho yake itaingia ndani ya mtungi na            akitokea mtu akaufunika huo mtungi wakati            huo huo basi atakufa papo hapo              if a man drinks water at night and leaves the              vessel uncovered his soul will plunge into it              during the night and if someone accidentally              puts the lid on he will die at once          mtu akiona chungu ya wadudu sisimizi ukutani             basi atafikiwa na wageni wa ghafla              if a man sees a swarm of ants on the wall it               means that unexpected guests will arrive          kwenda kulala pasi na kuosha miguu basi hiyo             miguu italazwa katika moto wa jahannam               if one goes to bed without washing ones feet               they will lie in the fires of hell          mtu akilala pasipo kuosha miguu nyayo zake             zitarambwa na shetani               if a man goes to bed without washing his feet               the soles of his feet will be licked by the devil          mtu akila bila ya kupiga bismillahi   basi             baraka itaondoka na mtu hataweza kushiba               if a man eats without saying grace there will               be no blessing so the food will not suffice               this belief has a religious background islam               teaches its followers to allow religion to per               meate all their daily acts and the great               majority of the population of zanzibar and               pemba are muslims          mtoto mchanga akiachwa peke yake atageuzwa             na shetani               if a baby is left alone in a room it will be               changed by the devil for his own at is firmly               believed that albinos are changelings          mwenye kufanya mazowea ya kukaa kizingitini             atakawia kuoa              he who develops a habit of sitting on a door              step will be late in getting married          kula wima kizingitini mtu atapigwa dafrau na             shetani               he who eats while standing on the doorstep               will be knocked down by a devil in tended to               discourage the habit of eating in such abnormal places          kula kitu kitamu kinjianjia mtu atasibiwa na shetani               he who eats sweet food while walking will be               possessed of a devil it is regarded as bad               manners to eat while walking          mwenye kumcheka mkwewe hupata maradhi             ya chokea               he who laughs at his father or motherinlaw               will develop a stye          kumchungulia mtu mzima aliyekaa uchi kunaleta upofu               looking at a grownup person naked will               bring blindness          kuzaliwa na vidole sita ni mabruki               to be born with six fingers is to have good               fortune          ukiuonyesha mwezi mchanga kidole basi utakatika kidole               if you point at the new moon with a finger it              will get cut          mwenye kula miguu ya kuku atakuwa daima             katika mwendo tu he who eats a fowls legs will become a wan               derer          inakatazwa kunywa maji ndani ya kata pasi na             kuikunguta               it is forbidden to drink water from a ladle               without vigorously shaking it first to ensure               that it is clean and free from insects          kupeana mkasi mikono kwa mkono kunasabibisha kuchukiana bure               handing over a pair of scissors to someone               directly causes hatred          kukaa juu ya mto kunaleta majipu matakoni               sitting on cushions causes boils on the but               tocks          kukutana na paka mweusi usiku ni nuksi               meeting a black cat at night means bad luck          kunywa maji ya chooni kunapeleka mtu kuwa             mwongo               drinking water from the lavatory makes a               man a liar intended to discourage so unwholesome a habit          kutema mate ndani ya lindi kunaleta kuumwa             na koo               spitting into the cesspit causes sore throat          kumbusu mtoto usingizini kunasabibisha mtoto               huyo kuwa na majivuno ukubwani mwake               kissing a sleeping child will make it grow up               conceited          mwenye kuchukua quran kichwani ataingiliwa             na wazimu               carrying the holy quran on the head will               cause madness          kukaa kitini na kupunga miguu mbele na nyuma m kufukuza riziki               to sit on a chair swinging ones legs backwards and forwards will drive away ones               daily bread               this is regarded as bad manners by arabs as               it is a sign of contempt          kupiga uluzi ni kuita shetani               to whistle is to call the devil          ukikanyaga chakula makusudi utasibika na             maradhi ya matende               if you tread on food deliberately you will get               elephantiasis this belief has a religious               background and is based on an abhorrence               of waste          mwenye kuzowea kula ndani ya chungu atapata             mvua kubwa siku ya harusi yake              one who eats straight from a cookingpot will              have heavy rain on his wedding day          mtoto mwenye kuchezea kivuli chake cha taa             atakojoa kitandani               a child who plays with his shadow cast by a               lamp will wet his bed          kuuza chumvi usiku ni nuksi kwa mwenye duka               selling salt at night brings ill luck to the               shopkeeper this belief is so deeprooted '"
      ]
     },
     "execution_count": 113,
     "metadata": {},
     "output_type": "execute_result"
    }
   ],
   "source": [
    "no_punctuation_str"
   ]
  },
  {
   "cell_type": "code",
   "execution_count": 114,
   "id": "2d4f2989a4bd4fb9",
   "metadata": {
    "ExecuteTime": {
     "end_time": "2024-05-21T03:36:24.624116Z",
     "start_time": "2024-05-21T03:36:24.620606Z"
    },
    "collapsed": false
   },
   "outputs": [],
   "source": [
    "# Remove white space\n",
    "no_white_space_str = no_punctuation_str.strip()"
   ]
  },
  {
   "cell_type": "code",
   "execution_count": 115,
   "id": "23f7289211354cf0",
   "metadata": {
    "ExecuteTime": {
     "end_time": "2024-05-21T03:36:24.660117Z",
     "start_time": "2024-05-21T03:36:24.654655Z"
    },
    "collapsed": false
   },
   "outputs": [
    {
     "data": {
      "text/plain": [
       "'superstitions          kula gizani ni kula na shetani              to eat in the dark is to eat with the devil              this belief discourages eating in the dark for              obvious reasons          kushona nguo mwilini kunaleta ufukara tabia            hii aidha inajongeza kifo maana inakuwa kama            mtu anajishonea sanda yake mwenyewe              to mend a garment which is on ones body              brings poverty it also suggests preparing              ones own shroud which betokens death          kufagia usiku kunakimbiza baraka              to sweep at night is to chase away blessings              this belief contains some truth in that one              may sweep up and throw away something of              value unwittinglykutembea hali ya kuwa mtu amevaa kiatu            kimoja tu kunavimbisha ziwa la mama yake            mtu              walking about with only one shoe on causes              ones mothers breast to swell i suppose this              is simply to discourage the stupidity of going              about with only one shoe on          mtu akinywa maji usiku pasi na kuufumka mtu            ngi usiku roho yake itaingia ndani ya mtungi na            akitokea mtu akaufunika huo mtungi wakati            huo huo basi atakufa papo hapo              if a man drinks water at night and leaves the              vessel uncovered his soul will plunge into it              during the night and if someone accidentally              puts the lid on he will die at once          mtu akiona chungu ya wadudu sisimizi ukutani             basi atafikiwa na wageni wa ghafla              if a man sees a swarm of ants on the wall it               means that unexpected guests will arrive          kwenda kulala pasi na kuosha miguu basi hiyo             miguu italazwa katika moto wa jahannam               if one goes to bed without washing ones feet               they will lie in the fires of hell          mtu akilala pasipo kuosha miguu nyayo zake             zitarambwa na shetani               if a man goes to bed without washing his feet               the soles of his feet will be licked by the devil          mtu akila bila ya kupiga bismillahi   basi             baraka itaondoka na mtu hataweza kushiba               if a man eats without saying grace there will               be no blessing so the food will not suffice               this belief has a religious background islam               teaches its followers to allow religion to per               meate all their daily acts and the great               majority of the population of zanzibar and               pemba are muslims          mtoto mchanga akiachwa peke yake atageuzwa             na shetani               if a baby is left alone in a room it will be               changed by the devil for his own at is firmly               believed that albinos are changelings          mwenye kufanya mazowea ya kukaa kizingitini             atakawia kuoa              he who develops a habit of sitting on a door              step will be late in getting married          kula wima kizingitini mtu atapigwa dafrau na             shetani               he who eats while standing on the doorstep               will be knocked down by a devil in tended to               discourage the habit of eating in such abnormal places          kula kitu kitamu kinjianjia mtu atasibiwa na shetani               he who eats sweet food while walking will be               possessed of a devil it is regarded as bad               manners to eat while walking          mwenye kumcheka mkwewe hupata maradhi             ya chokea               he who laughs at his father or motherinlaw               will develop a stye          kumchungulia mtu mzima aliyekaa uchi kunaleta upofu               looking at a grownup person naked will               bring blindness          kuzaliwa na vidole sita ni mabruki               to be born with six fingers is to have good               fortune          ukiuonyesha mwezi mchanga kidole basi utakatika kidole               if you point at the new moon with a finger it              will get cut          mwenye kula miguu ya kuku atakuwa daima             katika mwendo tu he who eats a fowls legs will become a wan               derer          inakatazwa kunywa maji ndani ya kata pasi na             kuikunguta               it is forbidden to drink water from a ladle               without vigorously shaking it first to ensure               that it is clean and free from insects          kupeana mkasi mikono kwa mkono kunasabibisha kuchukiana bure               handing over a pair of scissors to someone               directly causes hatred          kukaa juu ya mto kunaleta majipu matakoni               sitting on cushions causes boils on the but               tocks          kukutana na paka mweusi usiku ni nuksi               meeting a black cat at night means bad luck          kunywa maji ya chooni kunapeleka mtu kuwa             mwongo               drinking water from the lavatory makes a               man a liar intended to discourage so unwholesome a habit          kutema mate ndani ya lindi kunaleta kuumwa             na koo               spitting into the cesspit causes sore throat          kumbusu mtoto usingizini kunasabibisha mtoto               huyo kuwa na majivuno ukubwani mwake               kissing a sleeping child will make it grow up               conceited          mwenye kuchukua quran kichwani ataingiliwa             na wazimu               carrying the holy quran on the head will               cause madness          kukaa kitini na kupunga miguu mbele na nyuma m kufukuza riziki               to sit on a chair swinging ones legs backwards and forwards will drive away ones               daily bread               this is regarded as bad manners by arabs as               it is a sign of contempt          kupiga uluzi ni kuita shetani               to whistle is to call the devil          ukikanyaga chakula makusudi utasibika na             maradhi ya matende               if you tread on food deliberately you will get               elephantiasis this belief has a religious               background and is based on an abhorrence               of waste          mwenye kuzowea kula ndani ya chungu atapata             mvua kubwa siku ya harusi yake              one who eats straight from a cookingpot will              have heavy rain on his wedding day          mtoto mwenye kuchezea kivuli chake cha taa             atakojoa kitandani               a child who plays with his shadow cast by a               lamp will wet his bed          kuuza chumvi usiku ni nuksi kwa mwenye duka               selling salt at night brings ill luck to the               shopkeeper this belief is so deeprooted'"
      ]
     },
     "execution_count": 115,
     "metadata": {},
     "output_type": "execute_result"
    }
   ],
   "source": [
    "no_white_space_str"
   ]
  },
  {
   "cell_type": "markdown",
   "id": "9d5e98d142a65a85",
   "metadata": {
    "collapsed": false
   },
   "source": [
    "### Remove stop words"
   ]
  },
  {
   "cell_type": "code",
   "execution_count": 116,
   "id": "eea03d67be296c3e",
   "metadata": {
    "ExecuteTime": {
     "end_time": "2024-05-21T03:36:24.736944Z",
     "start_time": "2024-05-21T03:36:24.731468Z"
    },
    "collapsed": false
   },
   "outputs": [
    {
     "name": "stdout",
     "output_type": "stream",
     "text": [
      "{'there', 'which', 'wouldn', 'll', 'again', 'hasn', 'you', 'those', \"shan't\", 'being', \"you've\", 'my', 'all', 'd', 'didn', 'on', 't', 'only', 'then', \"needn't\", 'been', 'has', 'its', 'why', \"haven't\", \"couldn't\", 'where', 'that', 'he', 'doing', 'yours', 'mightn', 'mustn', 's', 'can', \"she's\", 'no', \"mustn't\", 'above', 'them', 'don', 'theirs', \"should've\", 'own', 'to', 'just', 'do', 'their', \"wouldn't\", 'before', 'i', 'any', 'into', 'so', \"didn't\", \"hasn't\", 'but', 'for', 'during', 'further', 'while', 'both', 'yourself', 'who', 'y', 'having', \"it's\", 'they', 'such', \"aren't\", 'your', 'the', 'few', \"won't\", 'she', 'hers', 'here', 'once', \"mightn't\", 'weren', 'some', 'more', 'his', 've', 'was', 'under', 'now', 'm', 'these', 'as', 'out', 'most', 'about', \"shouldn't\", 'until', 'this', 'are', 'not', 'below', 'it', 'ain', 'yourselves', \"weren't\", 'other', 'ourselves', 'up', 'were', 'because', \"hadn't\", 'does', 'wasn', 'over', 'nor', \"isn't\", 'will', 'we', 'same', 'or', 'haven', \"you'll\", 'how', 'have', 'myself', 'when', 're', 'down', 'at', 'aren', 'through', 'themselves', 'shan', 'if', 'by', 'after', 'too', 'itself', 'in', 'doesn', \"doesn't\", 'herself', \"that'll\", 'than', 'needn', 'ours', 'won', 'him', 'himself', 'an', 'from', 'o', 'be', 'couldn', 'whom', 'with', 'hadn', 'very', 'isn', \"wasn't\", 'should', 'each', \"you're\", 'between', 'had', 'shouldn', 'her', 'ma', \"you'd\", 'a', 'am', 'our', 'did', 'and', 'is', 'of', 'off', \"don't\", 'me', 'against', 'what'}\n"
     ]
    },
    {
     "name": "stderr",
     "output_type": "stream",
     "text": [
      "[nltk_data] Downloading package stopwords to /home/hilla/nltk_data...\n",
      "[nltk_data]   Package stopwords is already up-to-date!\n"
     ]
    }
   ],
   "source": [
    "# download stopwords\n",
    "import nltk\n",
    "nltk.download('stopwords')\n",
    "\n",
    "# import nltk stopwords\n",
    "from nltk.corpus import stopwords\n",
    "stopwords = set(stopwords.words('english'))\n",
    "print(stopwords)"
   ]
  },
  {
   "cell_type": "code",
   "execution_count": 117,
   "id": "a5d8bc73f4ebed20",
   "metadata": {
    "ExecuteTime": {
     "end_time": "2024-05-21T03:36:24.762578Z",
     "start_time": "2024-05-21T03:36:24.758532Z"
    },
    "collapsed": false
   },
   "outputs": [],
   "source": [
    "# convert string to list of words\n",
    "lst_string = [no_white_space_str][0].split()"
   ]
  },
  {
   "cell_type": "code",
   "execution_count": 118,
   "id": "81265adac81ff6d1",
   "metadata": {
    "ExecuteTime": {
     "end_time": "2024-05-21T03:36:24.843021Z",
     "start_time": "2024-05-21T03:36:24.821818Z"
    },
    "collapsed": false
   },
   "outputs": [
    {
     "data": {
      "text/plain": [
       "['superstitions',\n",
       " 'kula',\n",
       " 'gizani',\n",
       " 'ni',\n",
       " 'kula',\n",
       " 'na',\n",
       " 'shetani',\n",
       " 'to',\n",
       " 'eat',\n",
       " 'in',\n",
       " 'the',\n",
       " 'dark',\n",
       " 'is',\n",
       " 'to',\n",
       " 'eat',\n",
       " 'with',\n",
       " 'the',\n",
       " 'devil',\n",
       " 'this',\n",
       " 'belief',\n",
       " 'discourages',\n",
       " 'eating',\n",
       " 'in',\n",
       " 'the',\n",
       " 'dark',\n",
       " 'for',\n",
       " 'obvious',\n",
       " 'reasons',\n",
       " 'kushona',\n",
       " 'nguo',\n",
       " 'mwilini',\n",
       " 'kunaleta',\n",
       " 'ufukara',\n",
       " 'tabia',\n",
       " 'hii',\n",
       " 'aidha',\n",
       " 'inajongeza',\n",
       " 'kifo',\n",
       " 'maana',\n",
       " 'inakuwa',\n",
       " 'kama',\n",
       " 'mtu',\n",
       " 'anajishonea',\n",
       " 'sanda',\n",
       " 'yake',\n",
       " 'mwenyewe',\n",
       " 'to',\n",
       " 'mend',\n",
       " 'a',\n",
       " 'garment',\n",
       " 'which',\n",
       " 'is',\n",
       " 'on',\n",
       " 'ones',\n",
       " 'body',\n",
       " 'brings',\n",
       " 'poverty',\n",
       " 'it',\n",
       " 'also',\n",
       " 'suggests',\n",
       " 'preparing',\n",
       " 'ones',\n",
       " 'own',\n",
       " 'shroud',\n",
       " 'which',\n",
       " 'betokens',\n",
       " 'death',\n",
       " 'kufagia',\n",
       " 'usiku',\n",
       " 'kunakimbiza',\n",
       " 'baraka',\n",
       " 'to',\n",
       " 'sweep',\n",
       " 'at',\n",
       " 'night',\n",
       " 'is',\n",
       " 'to',\n",
       " 'chase',\n",
       " 'away',\n",
       " 'blessings',\n",
       " 'this',\n",
       " 'belief',\n",
       " 'contains',\n",
       " 'some',\n",
       " 'truth',\n",
       " 'in',\n",
       " 'that',\n",
       " 'one',\n",
       " 'may',\n",
       " 'sweep',\n",
       " 'up',\n",
       " 'and',\n",
       " 'throw',\n",
       " 'away',\n",
       " 'something',\n",
       " 'of',\n",
       " 'value',\n",
       " 'unwittinglykutembea',\n",
       " 'hali',\n",
       " 'ya',\n",
       " 'kuwa',\n",
       " 'mtu',\n",
       " 'amevaa',\n",
       " 'kiatu',\n",
       " 'kimoja',\n",
       " 'tu',\n",
       " 'kunavimbisha',\n",
       " 'ziwa',\n",
       " 'la',\n",
       " 'mama',\n",
       " 'yake',\n",
       " 'mtu',\n",
       " 'walking',\n",
       " 'about',\n",
       " 'with',\n",
       " 'only',\n",
       " 'one',\n",
       " 'shoe',\n",
       " 'on',\n",
       " 'causes',\n",
       " 'ones',\n",
       " 'mothers',\n",
       " 'breast',\n",
       " 'to',\n",
       " 'swell',\n",
       " 'i',\n",
       " 'suppose',\n",
       " 'this',\n",
       " 'is',\n",
       " 'simply',\n",
       " 'to',\n",
       " 'discourage',\n",
       " 'the',\n",
       " 'stupidity',\n",
       " 'of',\n",
       " 'going',\n",
       " 'about',\n",
       " 'with',\n",
       " 'only',\n",
       " 'one',\n",
       " 'shoe',\n",
       " 'on',\n",
       " 'mtu',\n",
       " 'akinywa',\n",
       " 'maji',\n",
       " 'usiku',\n",
       " 'pasi',\n",
       " 'na',\n",
       " 'kuufumka',\n",
       " 'mtu',\n",
       " 'ngi',\n",
       " 'usiku',\n",
       " 'roho',\n",
       " 'yake',\n",
       " 'itaingia',\n",
       " 'ndani',\n",
       " 'ya',\n",
       " 'mtungi',\n",
       " 'na',\n",
       " 'akitokea',\n",
       " 'mtu',\n",
       " 'akaufunika',\n",
       " 'huo',\n",
       " 'mtungi',\n",
       " 'wakati',\n",
       " 'huo',\n",
       " 'huo',\n",
       " 'basi',\n",
       " 'atakufa',\n",
       " 'papo',\n",
       " 'hapo',\n",
       " 'if',\n",
       " 'a',\n",
       " 'man',\n",
       " 'drinks',\n",
       " 'water',\n",
       " 'at',\n",
       " 'night',\n",
       " 'and',\n",
       " 'leaves',\n",
       " 'the',\n",
       " 'vessel',\n",
       " 'uncovered',\n",
       " 'his',\n",
       " 'soul',\n",
       " 'will',\n",
       " 'plunge',\n",
       " 'into',\n",
       " 'it',\n",
       " 'during',\n",
       " 'the',\n",
       " 'night',\n",
       " 'and',\n",
       " 'if',\n",
       " 'someone',\n",
       " 'accidentally',\n",
       " 'puts',\n",
       " 'the',\n",
       " 'lid',\n",
       " 'on',\n",
       " 'he',\n",
       " 'will',\n",
       " 'die',\n",
       " 'at',\n",
       " 'once',\n",
       " 'mtu',\n",
       " 'akiona',\n",
       " 'chungu',\n",
       " 'ya',\n",
       " 'wadudu',\n",
       " 'sisimizi',\n",
       " 'ukutani',\n",
       " 'basi',\n",
       " 'atafikiwa',\n",
       " 'na',\n",
       " 'wageni',\n",
       " 'wa',\n",
       " 'ghafla',\n",
       " 'if',\n",
       " 'a',\n",
       " 'man',\n",
       " 'sees',\n",
       " 'a',\n",
       " 'swarm',\n",
       " 'of',\n",
       " 'ants',\n",
       " 'on',\n",
       " 'the',\n",
       " 'wall',\n",
       " 'it',\n",
       " 'means',\n",
       " 'that',\n",
       " 'unexpected',\n",
       " 'guests',\n",
       " 'will',\n",
       " 'arrive',\n",
       " 'kwenda',\n",
       " 'kulala',\n",
       " 'pasi',\n",
       " 'na',\n",
       " 'kuosha',\n",
       " 'miguu',\n",
       " 'basi',\n",
       " 'hiyo',\n",
       " 'miguu',\n",
       " 'italazwa',\n",
       " 'katika',\n",
       " 'moto',\n",
       " 'wa',\n",
       " 'jahannam',\n",
       " 'if',\n",
       " 'one',\n",
       " 'goes',\n",
       " 'to',\n",
       " 'bed',\n",
       " 'without',\n",
       " 'washing',\n",
       " 'ones',\n",
       " 'feet',\n",
       " 'they',\n",
       " 'will',\n",
       " 'lie',\n",
       " 'in',\n",
       " 'the',\n",
       " 'fires',\n",
       " 'of',\n",
       " 'hell',\n",
       " 'mtu',\n",
       " 'akilala',\n",
       " 'pasipo',\n",
       " 'kuosha',\n",
       " 'miguu',\n",
       " 'nyayo',\n",
       " 'zake',\n",
       " 'zitarambwa',\n",
       " 'na',\n",
       " 'shetani',\n",
       " 'if',\n",
       " 'a',\n",
       " 'man',\n",
       " 'goes',\n",
       " 'to',\n",
       " 'bed',\n",
       " 'without',\n",
       " 'washing',\n",
       " 'his',\n",
       " 'feet',\n",
       " 'the',\n",
       " 'soles',\n",
       " 'of',\n",
       " 'his',\n",
       " 'feet',\n",
       " 'will',\n",
       " 'be',\n",
       " 'licked',\n",
       " 'by',\n",
       " 'the',\n",
       " 'devil',\n",
       " 'mtu',\n",
       " 'akila',\n",
       " 'bila',\n",
       " 'ya',\n",
       " 'kupiga',\n",
       " 'bismillahi',\n",
       " 'basi',\n",
       " 'baraka',\n",
       " 'itaondoka',\n",
       " 'na',\n",
       " 'mtu',\n",
       " 'hataweza',\n",
       " 'kushiba',\n",
       " 'if',\n",
       " 'a',\n",
       " 'man',\n",
       " 'eats',\n",
       " 'without',\n",
       " 'saying',\n",
       " 'grace',\n",
       " 'there',\n",
       " 'will',\n",
       " 'be',\n",
       " 'no',\n",
       " 'blessing',\n",
       " 'so',\n",
       " 'the',\n",
       " 'food',\n",
       " 'will',\n",
       " 'not',\n",
       " 'suffice',\n",
       " 'this',\n",
       " 'belief',\n",
       " 'has',\n",
       " 'a',\n",
       " 'religious',\n",
       " 'background',\n",
       " 'islam',\n",
       " 'teaches',\n",
       " 'its',\n",
       " 'followers',\n",
       " 'to',\n",
       " 'allow',\n",
       " 'religion',\n",
       " 'to',\n",
       " 'per',\n",
       " 'meate',\n",
       " 'all',\n",
       " 'their',\n",
       " 'daily',\n",
       " 'acts',\n",
       " 'and',\n",
       " 'the',\n",
       " 'great',\n",
       " 'majority',\n",
       " 'of',\n",
       " 'the',\n",
       " 'population',\n",
       " 'of',\n",
       " 'zanzibar',\n",
       " 'and',\n",
       " 'pemba',\n",
       " 'are',\n",
       " 'muslims',\n",
       " 'mtoto',\n",
       " 'mchanga',\n",
       " 'akiachwa',\n",
       " 'peke',\n",
       " 'yake',\n",
       " 'atageuzwa',\n",
       " 'na',\n",
       " 'shetani',\n",
       " 'if',\n",
       " 'a',\n",
       " 'baby',\n",
       " 'is',\n",
       " 'left',\n",
       " 'alone',\n",
       " 'in',\n",
       " 'a',\n",
       " 'room',\n",
       " 'it',\n",
       " 'will',\n",
       " 'be',\n",
       " 'changed',\n",
       " 'by',\n",
       " 'the',\n",
       " 'devil',\n",
       " 'for',\n",
       " 'his',\n",
       " 'own',\n",
       " 'at',\n",
       " 'is',\n",
       " 'firmly',\n",
       " 'believed',\n",
       " 'that',\n",
       " 'albinos',\n",
       " 'are',\n",
       " 'changelings',\n",
       " 'mwenye',\n",
       " 'kufanya',\n",
       " 'mazowea',\n",
       " 'ya',\n",
       " 'kukaa',\n",
       " 'kizingitini',\n",
       " 'atakawia',\n",
       " 'kuoa',\n",
       " 'he',\n",
       " 'who',\n",
       " 'develops',\n",
       " 'a',\n",
       " 'habit',\n",
       " 'of',\n",
       " 'sitting',\n",
       " 'on',\n",
       " 'a',\n",
       " 'door',\n",
       " 'step',\n",
       " 'will',\n",
       " 'be',\n",
       " 'late',\n",
       " 'in',\n",
       " 'getting',\n",
       " 'married',\n",
       " 'kula',\n",
       " 'wima',\n",
       " 'kizingitini',\n",
       " 'mtu',\n",
       " 'atapigwa',\n",
       " 'dafrau',\n",
       " 'na',\n",
       " 'shetani',\n",
       " 'he',\n",
       " 'who',\n",
       " 'eats',\n",
       " 'while',\n",
       " 'standing',\n",
       " 'on',\n",
       " 'the',\n",
       " 'doorstep',\n",
       " 'will',\n",
       " 'be',\n",
       " 'knocked',\n",
       " 'down',\n",
       " 'by',\n",
       " 'a',\n",
       " 'devil',\n",
       " 'in',\n",
       " 'tended',\n",
       " 'to',\n",
       " 'discourage',\n",
       " 'the',\n",
       " 'habit',\n",
       " 'of',\n",
       " 'eating',\n",
       " 'in',\n",
       " 'such',\n",
       " 'abnormal',\n",
       " 'places',\n",
       " 'kula',\n",
       " 'kitu',\n",
       " 'kitamu',\n",
       " 'kinjianjia',\n",
       " 'mtu',\n",
       " 'atasibiwa',\n",
       " 'na',\n",
       " 'shetani',\n",
       " 'he',\n",
       " 'who',\n",
       " 'eats',\n",
       " 'sweet',\n",
       " 'food',\n",
       " 'while',\n",
       " 'walking',\n",
       " 'will',\n",
       " 'be',\n",
       " 'possessed',\n",
       " 'of',\n",
       " 'a',\n",
       " 'devil',\n",
       " 'it',\n",
       " 'is',\n",
       " 'regarded',\n",
       " 'as',\n",
       " 'bad',\n",
       " 'manners',\n",
       " 'to',\n",
       " 'eat',\n",
       " 'while',\n",
       " 'walking',\n",
       " 'mwenye',\n",
       " 'kumcheka',\n",
       " 'mkwewe',\n",
       " 'hupata',\n",
       " 'maradhi',\n",
       " 'ya',\n",
       " 'chokea',\n",
       " 'he',\n",
       " 'who',\n",
       " 'laughs',\n",
       " 'at',\n",
       " 'his',\n",
       " 'father',\n",
       " 'or',\n",
       " 'motherinlaw',\n",
       " 'will',\n",
       " 'develop',\n",
       " 'a',\n",
       " 'stye',\n",
       " 'kumchungulia',\n",
       " 'mtu',\n",
       " 'mzima',\n",
       " 'aliyekaa',\n",
       " 'uchi',\n",
       " 'kunaleta',\n",
       " 'upofu',\n",
       " 'looking',\n",
       " 'at',\n",
       " 'a',\n",
       " 'grownup',\n",
       " 'person',\n",
       " 'naked',\n",
       " 'will',\n",
       " 'bring',\n",
       " 'blindness',\n",
       " 'kuzaliwa',\n",
       " 'na',\n",
       " 'vidole',\n",
       " 'sita',\n",
       " 'ni',\n",
       " 'mabruki',\n",
       " 'to',\n",
       " 'be',\n",
       " 'born',\n",
       " 'with',\n",
       " 'six',\n",
       " 'fingers',\n",
       " 'is',\n",
       " 'to',\n",
       " 'have',\n",
       " 'good',\n",
       " 'fortune',\n",
       " 'ukiuonyesha',\n",
       " 'mwezi',\n",
       " 'mchanga',\n",
       " 'kidole',\n",
       " 'basi',\n",
       " 'utakatika',\n",
       " 'kidole',\n",
       " 'if',\n",
       " 'you',\n",
       " 'point',\n",
       " 'at',\n",
       " 'the',\n",
       " 'new',\n",
       " 'moon',\n",
       " 'with',\n",
       " 'a',\n",
       " 'finger',\n",
       " 'it',\n",
       " 'will',\n",
       " 'get',\n",
       " 'cut',\n",
       " 'mwenye',\n",
       " 'kula',\n",
       " 'miguu',\n",
       " 'ya',\n",
       " 'kuku',\n",
       " 'atakuwa',\n",
       " 'daima',\n",
       " 'katika',\n",
       " 'mwendo',\n",
       " 'tu',\n",
       " 'he',\n",
       " 'who',\n",
       " 'eats',\n",
       " 'a',\n",
       " 'fowls',\n",
       " 'legs',\n",
       " 'will',\n",
       " 'become',\n",
       " 'a',\n",
       " 'wan',\n",
       " 'derer',\n",
       " 'inakatazwa',\n",
       " 'kunywa',\n",
       " 'maji',\n",
       " 'ndani',\n",
       " 'ya',\n",
       " 'kata',\n",
       " 'pasi',\n",
       " 'na',\n",
       " 'kuikunguta',\n",
       " 'it',\n",
       " 'is',\n",
       " 'forbidden',\n",
       " 'to',\n",
       " 'drink',\n",
       " 'water',\n",
       " 'from',\n",
       " 'a',\n",
       " 'ladle',\n",
       " 'without',\n",
       " 'vigorously',\n",
       " 'shaking',\n",
       " 'it',\n",
       " 'first',\n",
       " 'to',\n",
       " 'ensure',\n",
       " 'that',\n",
       " 'it',\n",
       " 'is',\n",
       " 'clean',\n",
       " 'and',\n",
       " 'free',\n",
       " 'from',\n",
       " 'insects',\n",
       " 'kupeana',\n",
       " 'mkasi',\n",
       " 'mikono',\n",
       " 'kwa',\n",
       " 'mkono',\n",
       " 'kunasabibisha',\n",
       " 'kuchukiana',\n",
       " 'bure',\n",
       " 'handing',\n",
       " 'over',\n",
       " 'a',\n",
       " 'pair',\n",
       " 'of',\n",
       " 'scissors',\n",
       " 'to',\n",
       " 'someone',\n",
       " 'directly',\n",
       " 'causes',\n",
       " 'hatred',\n",
       " 'kukaa',\n",
       " 'juu',\n",
       " 'ya',\n",
       " 'mto',\n",
       " 'kunaleta',\n",
       " 'majipu',\n",
       " 'matakoni',\n",
       " 'sitting',\n",
       " 'on',\n",
       " 'cushions',\n",
       " 'causes',\n",
       " 'boils',\n",
       " 'on',\n",
       " 'the',\n",
       " 'but',\n",
       " 'tocks',\n",
       " 'kukutana',\n",
       " 'na',\n",
       " 'paka',\n",
       " 'mweusi',\n",
       " 'usiku',\n",
       " 'ni',\n",
       " 'nuksi',\n",
       " 'meeting',\n",
       " 'a',\n",
       " 'black',\n",
       " 'cat',\n",
       " 'at',\n",
       " 'night',\n",
       " 'means',\n",
       " 'bad',\n",
       " 'luck',\n",
       " 'kunywa',\n",
       " 'maji',\n",
       " 'ya',\n",
       " 'chooni',\n",
       " 'kunapeleka',\n",
       " 'mtu',\n",
       " 'kuwa',\n",
       " 'mwongo',\n",
       " 'drinking',\n",
       " 'water',\n",
       " 'from',\n",
       " 'the',\n",
       " 'lavatory',\n",
       " 'makes',\n",
       " 'a',\n",
       " 'man',\n",
       " 'a',\n",
       " 'liar',\n",
       " 'intended',\n",
       " 'to',\n",
       " 'discourage',\n",
       " 'so',\n",
       " 'unwholesome',\n",
       " 'a',\n",
       " 'habit',\n",
       " 'kutema',\n",
       " 'mate',\n",
       " 'ndani',\n",
       " 'ya',\n",
       " 'lindi',\n",
       " 'kunaleta',\n",
       " 'kuumwa',\n",
       " 'na',\n",
       " 'koo',\n",
       " 'spitting',\n",
       " 'into',\n",
       " 'the',\n",
       " 'cesspit',\n",
       " 'causes',\n",
       " 'sore',\n",
       " 'throat',\n",
       " 'kumbusu',\n",
       " 'mtoto',\n",
       " 'usingizini',\n",
       " 'kunasabibisha',\n",
       " 'mtoto',\n",
       " 'huyo',\n",
       " 'kuwa',\n",
       " 'na',\n",
       " 'majivuno',\n",
       " 'ukubwani',\n",
       " 'mwake',\n",
       " 'kissing',\n",
       " 'a',\n",
       " 'sleeping',\n",
       " 'child',\n",
       " 'will',\n",
       " 'make',\n",
       " 'it',\n",
       " 'grow',\n",
       " 'up',\n",
       " 'conceited',\n",
       " 'mwenye',\n",
       " 'kuchukua',\n",
       " 'quran',\n",
       " 'kichwani',\n",
       " 'ataingiliwa',\n",
       " 'na',\n",
       " 'wazimu',\n",
       " 'carrying',\n",
       " 'the',\n",
       " 'holy',\n",
       " 'quran',\n",
       " 'on',\n",
       " 'the',\n",
       " 'head',\n",
       " 'will',\n",
       " 'cause',\n",
       " 'madness',\n",
       " 'kukaa',\n",
       " 'kitini',\n",
       " 'na',\n",
       " 'kupunga',\n",
       " 'miguu',\n",
       " 'mbele',\n",
       " 'na',\n",
       " 'nyuma',\n",
       " 'm',\n",
       " 'kufukuza',\n",
       " 'riziki',\n",
       " 'to',\n",
       " 'sit',\n",
       " 'on',\n",
       " 'a',\n",
       " 'chair',\n",
       " 'swinging',\n",
       " 'ones',\n",
       " 'legs',\n",
       " 'backwards',\n",
       " 'and',\n",
       " 'forwards',\n",
       " 'will',\n",
       " 'drive',\n",
       " 'away',\n",
       " 'ones',\n",
       " 'daily',\n",
       " 'bread',\n",
       " 'this',\n",
       " 'is',\n",
       " 'regarded',\n",
       " 'as',\n",
       " 'bad',\n",
       " 'manners',\n",
       " 'by',\n",
       " 'arabs',\n",
       " 'as',\n",
       " 'it',\n",
       " 'is',\n",
       " 'a',\n",
       " 'sign',\n",
       " 'of',\n",
       " 'contempt',\n",
       " 'kupiga',\n",
       " 'uluzi',\n",
       " 'ni',\n",
       " 'kuita',\n",
       " 'shetani',\n",
       " 'to',\n",
       " 'whistle',\n",
       " 'is',\n",
       " 'to',\n",
       " 'call',\n",
       " 'the',\n",
       " 'devil',\n",
       " 'ukikanyaga',\n",
       " 'chakula',\n",
       " 'makusudi',\n",
       " 'utasibika',\n",
       " 'na',\n",
       " 'maradhi',\n",
       " 'ya',\n",
       " 'matende',\n",
       " 'if',\n",
       " 'you',\n",
       " 'tread',\n",
       " 'on',\n",
       " 'food',\n",
       " 'deliberately',\n",
       " 'you',\n",
       " 'will',\n",
       " 'get',\n",
       " 'elephantiasis',\n",
       " 'this',\n",
       " 'belief',\n",
       " 'has',\n",
       " 'a',\n",
       " 'religious',\n",
       " 'background',\n",
       " 'and',\n",
       " 'is',\n",
       " 'based',\n",
       " 'on',\n",
       " 'an',\n",
       " 'abhorrence',\n",
       " 'of',\n",
       " 'waste',\n",
       " 'mwenye',\n",
       " 'kuzowea',\n",
       " 'kula',\n",
       " 'ndani',\n",
       " 'ya',\n",
       " 'chungu',\n",
       " 'atapata',\n",
       " 'mvua',\n",
       " 'kubwa',\n",
       " 'siku',\n",
       " 'ya',\n",
       " 'harusi',\n",
       " 'yake',\n",
       " 'one',\n",
       " 'who',\n",
       " 'eats',\n",
       " 'straight',\n",
       " 'from',\n",
       " 'a',\n",
       " 'cookingpot',\n",
       " 'will',\n",
       " 'have',\n",
       " 'heavy',\n",
       " 'rain',\n",
       " 'on',\n",
       " 'his',\n",
       " 'wedding',\n",
       " 'day',\n",
       " 'mtoto',\n",
       " 'mwenye',\n",
       " 'kuchezea',\n",
       " 'kivuli',\n",
       " 'chake',\n",
       " 'cha',\n",
       " 'taa',\n",
       " 'atakojoa',\n",
       " 'kitandani',\n",
       " 'a',\n",
       " 'child',\n",
       " 'who',\n",
       " 'plays',\n",
       " 'with',\n",
       " 'his',\n",
       " 'shadow',\n",
       " 'cast',\n",
       " 'by',\n",
       " 'a',\n",
       " 'lamp',\n",
       " 'will',\n",
       " 'wet',\n",
       " 'his',\n",
       " 'bed',\n",
       " 'kuuza',\n",
       " 'chumvi',\n",
       " 'usiku',\n",
       " 'ni',\n",
       " 'nuksi',\n",
       " 'kwa',\n",
       " 'mwenye',\n",
       " 'duka',\n",
       " 'selling',\n",
       " 'salt',\n",
       " 'at',\n",
       " 'night',\n",
       " 'brings',\n",
       " 'ill',\n",
       " 'luck',\n",
       " 'to',\n",
       " 'the',\n",
       " 'shopkeeper',\n",
       " 'this',\n",
       " 'belief',\n",
       " 'is',\n",
       " 'so',\n",
       " 'deeprooted']"
      ]
     },
     "execution_count": 118,
     "metadata": {},
     "output_type": "execute_result"
    }
   ],
   "source": [
    "lst_string"
   ]
  },
  {
   "cell_type": "code",
   "execution_count": 119,
   "id": "a377b8170b213045",
   "metadata": {
    "ExecuteTime": {
     "end_time": "2024-05-21T03:36:24.883308Z",
     "start_time": "2024-05-21T03:36:24.876022Z"
    },
    "collapsed": false
   },
   "outputs": [],
   "source": [
    "# remove stopwords\n",
    "no_stopwords_string = \"\"\n",
    "for word in lst_string:\n",
    "    if not word in stopwords:\n",
    "        no_stopwords_string += word + \" \""
   ]
  },
  {
   "cell_type": "code",
   "execution_count": 120,
   "id": "4803b4d5ebcf289a",
   "metadata": {
    "ExecuteTime": {
     "end_time": "2024-05-21T03:36:24.977902Z",
     "start_time": "2024-05-21T03:36:24.972585Z"
    },
    "collapsed": false
   },
   "outputs": [
    {
     "data": {
      "text/plain": [
       "'superstitions kula gizani ni kula na shetani eat dark eat devil belief discourages eating dark obvious reasons kushona nguo mwilini kunaleta ufukara tabia hii aidha inajongeza kifo maana inakuwa kama mtu anajishonea sanda yake mwenyewe mend garment ones body brings poverty also suggests preparing ones shroud betokens death kufagia usiku kunakimbiza baraka sweep night chase away blessings belief contains truth one may sweep throw away something value unwittinglykutembea hali ya kuwa mtu amevaa kiatu kimoja tu kunavimbisha ziwa la mama yake mtu walking one shoe causes ones mothers breast swell suppose simply discourage stupidity going one shoe mtu akinywa maji usiku pasi na kuufumka mtu ngi usiku roho yake itaingia ndani ya mtungi na akitokea mtu akaufunika huo mtungi wakati huo huo basi atakufa papo hapo man drinks water night leaves vessel uncovered soul plunge night someone accidentally puts lid die mtu akiona chungu ya wadudu sisimizi ukutani basi atafikiwa na wageni wa ghafla man sees swarm ants wall means unexpected guests arrive kwenda kulala pasi na kuosha miguu basi hiyo miguu italazwa katika moto wa jahannam one goes bed without washing ones feet lie fires hell mtu akilala pasipo kuosha miguu nyayo zake zitarambwa na shetani man goes bed without washing feet soles feet licked devil mtu akila bila ya kupiga bismillahi basi baraka itaondoka na mtu hataweza kushiba man eats without saying grace blessing food suffice belief religious background islam teaches followers allow religion per meate daily acts great majority population zanzibar pemba muslims mtoto mchanga akiachwa peke yake atageuzwa na shetani baby left alone room changed devil firmly believed albinos changelings mwenye kufanya mazowea ya kukaa kizingitini atakawia kuoa develops habit sitting door step late getting married kula wima kizingitini mtu atapigwa dafrau na shetani eats standing doorstep knocked devil tended discourage habit eating abnormal places kula kitu kitamu kinjianjia mtu atasibiwa na shetani eats sweet food walking possessed devil regarded bad manners eat walking mwenye kumcheka mkwewe hupata maradhi ya chokea laughs father motherinlaw develop stye kumchungulia mtu mzima aliyekaa uchi kunaleta upofu looking grownup person naked bring blindness kuzaliwa na vidole sita ni mabruki born six fingers good fortune ukiuonyesha mwezi mchanga kidole basi utakatika kidole point new moon finger get cut mwenye kula miguu ya kuku atakuwa daima katika mwendo tu eats fowls legs become wan derer inakatazwa kunywa maji ndani ya kata pasi na kuikunguta forbidden drink water ladle without vigorously shaking first ensure clean free insects kupeana mkasi mikono kwa mkono kunasabibisha kuchukiana bure handing pair scissors someone directly causes hatred kukaa juu ya mto kunaleta majipu matakoni sitting cushions causes boils tocks kukutana na paka mweusi usiku ni nuksi meeting black cat night means bad luck kunywa maji ya chooni kunapeleka mtu kuwa mwongo drinking water lavatory makes man liar intended discourage unwholesome habit kutema mate ndani ya lindi kunaleta kuumwa na koo spitting cesspit causes sore throat kumbusu mtoto usingizini kunasabibisha mtoto huyo kuwa na majivuno ukubwani mwake kissing sleeping child make grow conceited mwenye kuchukua quran kichwani ataingiliwa na wazimu carrying holy quran head cause madness kukaa kitini na kupunga miguu mbele na nyuma kufukuza riziki sit chair swinging ones legs backwards forwards drive away ones daily bread regarded bad manners arabs sign contempt kupiga uluzi ni kuita shetani whistle call devil ukikanyaga chakula makusudi utasibika na maradhi ya matende tread food deliberately get elephantiasis belief religious background based abhorrence waste mwenye kuzowea kula ndani ya chungu atapata mvua kubwa siku ya harusi yake one eats straight cookingpot heavy rain wedding day mtoto mwenye kuchezea kivuli chake cha taa atakojoa kitandani child plays shadow cast lamp wet bed kuuza chumvi usiku ni nuksi kwa mwenye duka selling salt night brings ill luck shopkeeper belief deeprooted '"
      ]
     },
     "execution_count": 120,
     "metadata": {},
     "output_type": "execute_result"
    }
   ],
   "source": [
    "no_stopwords_string"
   ]
  },
  {
   "cell_type": "code",
   "execution_count": 121,
   "id": "19b7015e79116896",
   "metadata": {
    "ExecuteTime": {
     "end_time": "2024-05-21T03:36:25.070287Z",
     "start_time": "2024-05-21T03:36:25.065448Z"
    },
    "collapsed": false
   },
   "outputs": [],
   "source": [
    "# remove stopwords\n",
    "no_stopwords_lst = \" \".join(word for word in lst_string if not word in stopwords)"
   ]
  },
  {
   "cell_type": "code",
   "execution_count": 122,
   "id": "c6f186c38dea9820",
   "metadata": {
    "ExecuteTime": {
     "end_time": "2024-05-21T03:36:25.141232Z",
     "start_time": "2024-05-21T03:36:25.135446Z"
    },
    "collapsed": false
   },
   "outputs": [
    {
     "data": {
      "text/plain": [
       "'superstitions kula gizani ni kula na shetani eat dark eat devil belief discourages eating dark obvious reasons kushona nguo mwilini kunaleta ufukara tabia hii aidha inajongeza kifo maana inakuwa kama mtu anajishonea sanda yake mwenyewe mend garment ones body brings poverty also suggests preparing ones shroud betokens death kufagia usiku kunakimbiza baraka sweep night chase away blessings belief contains truth one may sweep throw away something value unwittinglykutembea hali ya kuwa mtu amevaa kiatu kimoja tu kunavimbisha ziwa la mama yake mtu walking one shoe causes ones mothers breast swell suppose simply discourage stupidity going one shoe mtu akinywa maji usiku pasi na kuufumka mtu ngi usiku roho yake itaingia ndani ya mtungi na akitokea mtu akaufunika huo mtungi wakati huo huo basi atakufa papo hapo man drinks water night leaves vessel uncovered soul plunge night someone accidentally puts lid die mtu akiona chungu ya wadudu sisimizi ukutani basi atafikiwa na wageni wa ghafla man sees swarm ants wall means unexpected guests arrive kwenda kulala pasi na kuosha miguu basi hiyo miguu italazwa katika moto wa jahannam one goes bed without washing ones feet lie fires hell mtu akilala pasipo kuosha miguu nyayo zake zitarambwa na shetani man goes bed without washing feet soles feet licked devil mtu akila bila ya kupiga bismillahi basi baraka itaondoka na mtu hataweza kushiba man eats without saying grace blessing food suffice belief religious background islam teaches followers allow religion per meate daily acts great majority population zanzibar pemba muslims mtoto mchanga akiachwa peke yake atageuzwa na shetani baby left alone room changed devil firmly believed albinos changelings mwenye kufanya mazowea ya kukaa kizingitini atakawia kuoa develops habit sitting door step late getting married kula wima kizingitini mtu atapigwa dafrau na shetani eats standing doorstep knocked devil tended discourage habit eating abnormal places kula kitu kitamu kinjianjia mtu atasibiwa na shetani eats sweet food walking possessed devil regarded bad manners eat walking mwenye kumcheka mkwewe hupata maradhi ya chokea laughs father motherinlaw develop stye kumchungulia mtu mzima aliyekaa uchi kunaleta upofu looking grownup person naked bring blindness kuzaliwa na vidole sita ni mabruki born six fingers good fortune ukiuonyesha mwezi mchanga kidole basi utakatika kidole point new moon finger get cut mwenye kula miguu ya kuku atakuwa daima katika mwendo tu eats fowls legs become wan derer inakatazwa kunywa maji ndani ya kata pasi na kuikunguta forbidden drink water ladle without vigorously shaking first ensure clean free insects kupeana mkasi mikono kwa mkono kunasabibisha kuchukiana bure handing pair scissors someone directly causes hatred kukaa juu ya mto kunaleta majipu matakoni sitting cushions causes boils tocks kukutana na paka mweusi usiku ni nuksi meeting black cat night means bad luck kunywa maji ya chooni kunapeleka mtu kuwa mwongo drinking water lavatory makes man liar intended discourage unwholesome habit kutema mate ndani ya lindi kunaleta kuumwa na koo spitting cesspit causes sore throat kumbusu mtoto usingizini kunasabibisha mtoto huyo kuwa na majivuno ukubwani mwake kissing sleeping child make grow conceited mwenye kuchukua quran kichwani ataingiliwa na wazimu carrying holy quran head cause madness kukaa kitini na kupunga miguu mbele na nyuma kufukuza riziki sit chair swinging ones legs backwards forwards drive away ones daily bread regarded bad manners arabs sign contempt kupiga uluzi ni kuita shetani whistle call devil ukikanyaga chakula makusudi utasibika na maradhi ya matende tread food deliberately get elephantiasis belief religious background based abhorrence waste mwenye kuzowea kula ndani ya chungu atapata mvua kubwa siku ya harusi yake one eats straight cookingpot heavy rain wedding day mtoto mwenye kuchezea kivuli chake cha taa atakojoa kitandani child plays shadow cast lamp wet bed kuuza chumvi usiku ni nuksi kwa mwenye duka selling salt night brings ill luck shopkeeper belief deeprooted'"
      ]
     },
     "execution_count": 122,
     "metadata": {},
     "output_type": "execute_result"
    }
   ],
   "source": [
    "no_stopwords_lst"
   ]
  },
  {
   "cell_type": "code",
   "execution_count": 122,
   "id": "a5fca7f8dcf08f23",
   "metadata": {
    "ExecuteTime": {
     "end_time": "2024-05-21T03:36:25.171265Z",
     "start_time": "2024-05-21T03:36:25.167557Z"
    },
    "collapsed": false
   },
   "outputs": [],
   "source": []
  },
  {
   "cell_type": "code",
   "execution_count": null,
   "id": "fa109fe59b521962",
   "metadata": {
    "collapsed": false
   },
   "outputs": [],
   "source": []
  }
 ],
 "metadata": {
  "kernelspec": {
   "display_name": "Python 3",
   "language": "python",
   "name": "python3"
  },
  "language_info": {
   "codemirror_mode": {
    "name": "ipython",
    "version": 3
   },
   "file_extension": ".py",
   "mimetype": "text/x-python",
   "name": "python",
   "nbconvert_exporter": "python",
   "pygments_lexer": "ipython3",
   "version": "3.9.19"
  }
 },
 "nbformat": 4,
 "nbformat_minor": 5
}
