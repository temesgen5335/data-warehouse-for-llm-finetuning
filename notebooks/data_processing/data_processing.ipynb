{
 "cells": [
  {
   "cell_type": "code",
   "execution_count": 36,
   "metadata": {},
   "outputs": [],
   "source": [
    "import warnings\n",
    "warnings.filterwarnings(\"ignore\")"
   ]
  },
  {
   "cell_type": "markdown",
   "metadata": {},
   "source": [
    "# Text Preprocessing for Amharic Language"
   ]
  },
  {
   "cell_type": "markdown",
   "metadata": {},
   "source": [
    "Short Form Expansion"
   ]
  },
  {
   "cell_type": "code",
   "execution_count": 46,
   "metadata": {},
   "outputs": [],
   "source": [
    "import re\n",
    "def expand_short_form(short_form):\n",
    "    short_form = short_form.strip()\n",
    "    short_forms = {\n",
    "        \"ት/ቤት\": \"ትምህርት ቤት\",\n",
    "        # Add more short form expansions as needed\n",
    "    }\n",
    "    \n",
    "    if short_form in short_forms:\n",
    "        return short_forms[short_form]\n",
    "    else:\n",
    "        return short_form"
   ]
  },
  {
   "cell_type": "code",
   "execution_count": 47,
   "metadata": {},
   "outputs": [
    {
     "data": {
      "text/plain": [
       "'ትምህርት ቤት'"
      ]
     },
     "execution_count": 47,
     "metadata": {},
     "output_type": "execute_result"
    }
   ],
   "source": [
    "expand_short_form(\"ት/ቤት\")"
   ]
  },
  {
   "cell_type": "markdown",
   "metadata": {},
   "source": [
    " Character Normalization\n",
    " \n",
    " Amharic has different characters that are interchangeably used in writing and reading such as (ሀ, ኀ, ሐ, and ኸ), (ሰ and ሠ), (ጸ and ፀ), (ው and ዉ) and (አ and ዓ). For example, ጸሀይ to mean sun can also be written as ፀሐይ."
   ]
  },
  {
   "cell_type": "code",
   "execution_count": 38,
   "metadata": {},
   "outputs": [],
   "source": [
    "def normalize_char_level_missmatch(input_token):\n",
    "    rep1 = re.sub('ሃ|ኅ|ኃ|ሐ|ሓ|ኻ', 'ሀ', input_token)\n",
    "    rep2 = re.sub('ሑ|ኁ|ዅ', 'ሁ', rep1)\n",
    "    rep3 = re.sub('ኂ|ሒ|ኺ', 'ሂ', rep2)\n",
    "    rep4 = re.sub('ኌ|ሔ|ዄ', 'ሄ', rep3)\n",
    "    rep5 = re.sub('ሕ|ኅ', 'ህ', rep4)\n",
    "    rep6 = re.sub('ኆ|ሖ|ኾ', 'ሆ', rep5)\n",
    "    rep7 = re.sub('ሠ', 'ሰ', rep6)\n",
    "    rep8 = re.sub('ሡ', 'ሱ', rep7)\n",
    "    rep9 = re.sub('ሢ', 'ሲ', rep8)\n",
    "    rep10 = re.sub('ሣ', 'ሳ', rep9)\n",
    "    rep11 = re.sub('ሤ', 'ሴ', rep10)\n",
    "    rep12 = re.sub('ሥ', 'ስ', rep11)\n",
    "    rep13 = re.sub('ሦ', 'ሶ', rep12)\n",
    "    rep14 = re.sub('ዓ|ኣ|ዐ', 'አ', rep13)\n",
    "    rep15 = re.sub('ዑ', 'ኡ', rep14)\n",
    "    rep16 = re.sub('ዒ', 'ኢ', rep15)\n",
    "    rep17 = re.sub('ዔ', 'ኤ', rep16)\n",
    "    rep18 = re.sub('ዕ', 'እ', rep17)\n",
    "    rep19 = re.sub('ዖ', 'ኦ', rep18)\n",
    "    rep20 = re.sub('ጸ', 'ፀ', rep19)\n",
    "    rep21 = re.sub('ጹ', 'ፁ', rep20)\n",
    "    rep22 = re.sub('ጺ', 'ፂ', rep21)\n",
    "    rep23 = re.sub('ጻ', 'ፃ', rep22)\n",
    "    rep24 = re.sub('ጼ', 'ፄ', rep23)\n",
    "    rep25 = re.sub('ጽ', 'ፅ', rep24)\n",
    "    rep26 = re.sub('ጾ', 'ፆ', rep25)\n",
    "    rep27 = re.sub('(ሉ[ዋአ])', 'ሏ', rep26)\n",
    "    rep28 = re.sub('(ሙ[ዋአ])', 'ሟ', rep27)\n",
    "    rep29 = re.sub('(ቱ[ዋአ])', 'ቷ', rep28)\n",
    "    rep30 = re.sub('(ሩ[ዋአ])', 'ሯ', rep29)\n",
    "    rep31 = re.sub('(ሱ[ዋአ])', 'ሷ', rep30)\n",
    "    rep32 = re.sub('(ሹ[ዋአ])', 'ሿ', rep31)\n",
    "    rep33 = re.sub('(ቁ[ዋአ])', 'ቋ', rep32)\n",
    "    rep34 = re.sub('(ቡ[ዋአ])', 'ቧ', rep33)\n",
    "    rep35 = re.sub('(ቹ[ዋአ])', 'ቿ', rep34)\n",
    "    rep36 = re.sub('(ሁ[ዋአ])', 'ኋ', rep35)\n",
    "    rep37 = re.sub('(ኑ[ዋአ])', 'ኗ', rep36)\n",
    "    rep38 = re.sub('(ኙ[ዋአ])', 'ኟ', rep37)\n",
    "    rep39 = re.sub('(ኩ[ዋአ])', 'ኳ', rep38)\n",
    "    rep40 = re.sub('(ዙ[ዋአ])', 'ዟ', rep39)\n",
    "    rep41 = re.sub('(ጉ[ዋአ])', 'ጓ', rep40)\n",
    "    rep42=re.sub('(ደ[ዋአ])','ዷ',rep41)\n",
    "    rep43 = re.sub('(ጡ[ዋአ])', 'ጧ', rep42)\n",
    "    rep44 = re.sub('(ጩ[ዋአ])', 'ጯ', rep43)\n",
    "    rep45 = re.sub('(ጹ[ዋአ])', 'ጿ', rep44)\n",
    "    rep46 = re.sub('(ፉ[ዋአ])', 'ፏ', rep45)\n",
    "    rep47 = re.sub('ቊ', 'ቁ', rep46)  # ቁ can be written as ቊ\n",
    "    rep48 = re.sub('ኵ', 'ኩ', rep47)  # ኩ can be also written as ኵ\n",
    "\n",
    "    return rep48"
   ]
  },
  {
   "cell_type": "code",
   "execution_count": 39,
   "metadata": {},
   "outputs": [],
   "source": [
    "def remove_punc_and_special_chars(text): \n",
    "    normalized_text = re.sub('[\\!\\@\\#\\$\\%\\^\\«\\»\\&\\*\\(\\)\\…\\[\\]\\{\\}\\;\\“\\”\\›\\’\\‘\\\"\\'\\:\\,\\.\\‹\\/\\<\\>\\?\\\\\\\\|\\`\\´\\~\\-\\=\\+\\፡\\።\\፤\\;\\፦\\፥\\፧\\፨\\፠\\፣+=]', '',text) \n",
    "    return normalized_text\n",
    "\n",
    "#remove all ascii characters and Arabic and Amharic numbers\n",
    "def remove_ascii_and_numbers(text_input):\n",
    "    rm_num_and_ascii=re.sub('[A-Za-z0-9]','',text_input)\n",
    "    return re.sub('[\\'\\u1369-\\u137C\\']+','',rm_num_and_ascii)"
   ]
  },
  {
   "cell_type": "code",
   "execution_count": 40,
   "metadata": {},
   "outputs": [],
   "source": [
    "import pandas as pd"
   ]
  },
  {
   "cell_type": "code",
   "execution_count": 41,
   "metadata": {},
   "outputs": [],
   "source": [
    "df = pd.read_csv(\"./data/train.csv\")"
   ]
  },
  {
   "cell_type": "code",
   "execution_count": 42,
   "metadata": {},
   "outputs": [
    {
     "data": {
      "text/plain": [
       "'ታሪክ የሌለው ሕዝብ ታሪካዊ ስራ ለመስራት አይጓጓም። ነፃነትም የማያውቅ ሕዝብ ነፃነቱን ለማግኘት አይደክምም። ኢትዮጵያ የረጅም ዘመን ታሪክ ያላት ነፃ ሀገር ስለሆነች ልጆቿ ታሪኳን ዐውቀው የነፃነቷን ጉልላት ጠብቀው ከተፈፀሙ ሽተቶች ተምረው እንዲኖሩ ግዴታቸው ነው። አንድ ወጣት የሀገሩን ታሪክ ሳያውቅና ሳያጠናቕ የአውሮጳንና የአሜሪካንን ታሪክ ለማሳመር ቢሞክር  በቅሎ አባጥ ማነው ቢሉት ፈረስ አጎቴ ነው ይላል እንደሚባለው የሚያሳፍር ይሆናል።በሀገራችን ተስፋ አንቆርጥም'"
      ]
     },
     "execution_count": 42,
     "metadata": {},
     "output_type": "execute_result"
    }
   ],
   "source": [
    "df['text'][0] = 'ታሪክ የሌለው ሕዝብ ታሪካዊ ስራ ለመስራት አይጓጓም። ነፃነትም የማያውቅ ሕዝብ ነፃነቱን ለማግኘት አይደክምም። ኢትዮጵያ የረጅም ዘመን ታሪክ ያላት ነፃ ሀገር ስለሆነች ልጆቿ ታሪኳን ዐውቀው የነፃነቷን ጉልላት ጠብቀው ከተፈፀሙ ሽተቶች ተምረው እንዲኖሩ ግዴታቸው ነው። አንድ ወጣት የሀገሩን ታሪክ ሳያውቅና ሳያጠናቕ የአውሮጳንና የአሜሪካንን ታሪክ ለማሳመር ቢሞክር  በቅሎ አባጥ ማነው ቢሉት ፈረስ አጎቴ ነው ይላል እንደሚባለው የሚያሳፍር ይሆናል።በሀገራችን ተስፋ አንቆርጥም'\n",
    "df['text'][0]"
   ]
  },
  {
   "cell_type": "code",
   "execution_count": 43,
   "metadata": {},
   "outputs": [
    {
     "data": {
      "text/html": [
       "<div>\n",
       "<style scoped>\n",
       "    .dataframe tbody tr th:only-of-type {\n",
       "        vertical-align: middle;\n",
       "    }\n",
       "\n",
       "    .dataframe tbody tr th {\n",
       "        vertical-align: top;\n",
       "    }\n",
       "\n",
       "    .dataframe thead th {\n",
       "        text-align: right;\n",
       "    }\n",
       "</style>\n",
       "<table border=\"1\" class=\"dataframe\">\n",
       "  <thead>\n",
       "    <tr style=\"text-align: right;\">\n",
       "      <th></th>\n",
       "      <th>name</th>\n",
       "      <th>channel_Id</th>\n",
       "      <th>message_Id</th>\n",
       "      <th>text</th>\n",
       "    </tr>\n",
       "  </thead>\n",
       "  <tbody>\n",
       "    <tr>\n",
       "      <th>0</th>\n",
       "      <td>TIKVAH-ETHIOPIA</td>\n",
       "      <td>1130580549</td>\n",
       "      <td>12.0</td>\n",
       "      <td>ታሪክ የሌለው ሕዝብ ታሪካዊ ስራ ለመስራት አይጓጓም። ነፃነትም የማያውቅ ...</td>\n",
       "    </tr>\n",
       "    <tr>\n",
       "      <th>1</th>\n",
       "      <td>TIKVAH-ETHIOPIA</td>\n",
       "      <td>1130580549</td>\n",
       "      <td>14.0</td>\n",
       "      <td>ኢትዮጵያ ኣደይ</td>\n",
       "    </tr>\n",
       "    <tr>\n",
       "      <th>2</th>\n",
       "      <td>TIKVAH-ETHIOPIA</td>\n",
       "      <td>1130580549</td>\n",
       "      <td>15.0</td>\n",
       "      <td>አደራ ልጄ ገንዘብ ውርሴን አምጪ አትበይኝ አደራመኪና ቪላ ፎቅ አትበይኝ ...</td>\n",
       "    </tr>\n",
       "    <tr>\n",
       "      <th>3</th>\n",
       "      <td>TIKVAH-ETHIOPIA</td>\n",
       "      <td>1130580549</td>\n",
       "      <td>17.0</td>\n",
       "      <td>ኢትዮጵያ ሀገሬ መመኪያ ነሽ ክብሬ</td>\n",
       "    </tr>\n",
       "    <tr>\n",
       "      <th>4</th>\n",
       "      <td>TIKVAH-ETHIOPIA</td>\n",
       "      <td>1130580549</td>\n",
       "      <td>18.0</td>\n",
       "      <td>ኢትዮጵያዊነትኢትዮጵያዊነት ብዙ የተለያዩ ኅብረተሰቦች የተዋኅዱበት አካል ...</td>\n",
       "    </tr>\n",
       "  </tbody>\n",
       "</table>\n",
       "</div>"
      ],
      "text/plain": [
       "              name  channel_Id  message_Id  \\\n",
       "0  TIKVAH-ETHIOPIA  1130580549        12.0   \n",
       "1  TIKVAH-ETHIOPIA  1130580549        14.0   \n",
       "2  TIKVAH-ETHIOPIA  1130580549        15.0   \n",
       "3  TIKVAH-ETHIOPIA  1130580549        17.0   \n",
       "4  TIKVAH-ETHIOPIA  1130580549        18.0   \n",
       "\n",
       "                                                text  \n",
       "0  ታሪክ የሌለው ሕዝብ ታሪካዊ ስራ ለመስራት አይጓጓም። ነፃነትም የማያውቅ ...  \n",
       "1                                    ኢትዮጵያ ኣደይ        \n",
       "2  አደራ ልጄ ገንዘብ ውርሴን አምጪ አትበይኝ አደራመኪና ቪላ ፎቅ አትበይኝ ...  \n",
       "3                        ኢትዮጵያ ሀገሬ መመኪያ ነሽ ክብሬ        \n",
       "4  ኢትዮጵያዊነትኢትዮጵያዊነት ብዙ የተለያዩ ኅብረተሰቦች የተዋኅዱበት አካል ...  "
      ]
     },
     "execution_count": 43,
     "metadata": {},
     "output_type": "execute_result"
    }
   ],
   "source": [
    "df.head()"
   ]
  },
  {
   "cell_type": "code",
   "execution_count": 44,
   "metadata": {},
   "outputs": [
    {
     "data": {
      "text/plain": [
       "'ታሪክ የሌለው ህዝብ ታሪካዊ ስራ ለመስራት አይጓጓም። ነፃነትም የማያውቅ ህዝብ ነፃነቱን ለማግኘት አይደክምም። ኢትዮጵያ የረጅም ዘመን ታሪክ ያላት ነፃ ሀገር ስለሆነች ልጆቿ ታሪኳን አውቀው የነፃነቷን ጉልላት ጠብቀው ከተፈፀሙ ሽተቶች ተምረው እንዲኖሩ ግዴታቸው ነው። አንድ ወጣት የሀገሩን ታሪክ ሳያውቅና ሳያጠናቕ የአውሮጳንና የአሜሪካንን ታሪክ ለማሳመር ቢሞክር  በቅሎ አባጥ ማነው ቢሉት ፈረስ አጎቴ ነው ይላል እንደሚባለው የሚያሳፍር ይሆናል።በሀገራችን ተስፋ አንቆርጥም'"
      ]
     },
     "execution_count": 44,
     "metadata": {},
     "output_type": "execute_result"
    }
   ],
   "source": [
    "normal = normalize_char_level_missmatch(df[\"text\"][0])\n",
    "normal"
   ]
  },
  {
   "cell_type": "markdown",
   "metadata": {},
   "source": [
    "Multi-word detection using with collocation finder\n",
    "\n",
    "In Amharic, the individual words in a sentence are separated by two dots (: ሁለትነጥብ). The end of a sentence is marked by Amharic full stop (። አራት ነጥብ). The symbol (፣ ነጠላ ሰረዝ) represents a comma, while (፤ ድርብ ሰረዝ) correspond to a semicolon. ‘!’ and ‘?’ punctuations are used to end exclamatory and interogative sentence respectively.\n",
    "\n"
   ]
  },
  {
   "cell_type": "code",
   "execution_count": 100,
   "metadata": {},
   "outputs": [],
   "source": [
    "from nltk import BigramCollocationFinder\n",
    "import nltk.collocations \n",
    "import io\n",
    "import re\n",
    "import os\n",
    "\n",
    "class normalize(object):\n",
    "    def tokenize(self, corpus):\n",
    "        print('Tokenization ...')\n",
    "        all_tokens = []\n",
    "        sentences = re.compile('[!?።(\\፡\\፡)]+').split(corpus)\n",
    "        for sentence in sentences:\n",
    "            tokens = re.split(r'\\s+|:', sentence)\n",
    "            tokens = [token for token in tokens if token]  \n",
    "            all_tokens.extend(tokens)\n",
    "\n",
    "        return all_tokens\n",
    "\n",
    "    def collocation_finder(self,tokens,bigram_dir):\n",
    "   \n",
    "        bigram_measures = nltk.collocations.BigramAssocMeasures()\n",
    "        \n",
    "        #Search for bigrams with in a corpus\n",
    "        finder = BigramCollocationFinder.from_words(tokens)\n",
    "        \n",
    "        #filter only Ngram appears morethan 3+ times\n",
    "        finder.apply_freq_filter(2)\n",
    "        \n",
    "        frequent_bigrams = finder.nbest(bigram_measures.chi_sq,5) # chi square computer \n",
    "        print(frequent_bigrams)\n",
    "        PhraseWriter = io.open(bigram_dir, \"w\", encoding=\"utf8\")\n",
    "        \n",
    "        for bigram in frequent_bigrams:\n",
    "            PhraseWriter.write(bigram[0]+' '+bigram[1] + \"\\n\")\n",
    "   \n",
    "    def normalize_multi_words(self,tokenized_sentence,bigram_dir,corpus):\n",
    "      #bigram_dir: is the directory to store multi-words\n",
    "        bigram=set()\n",
    "        sent_with_bigrams=[]\n",
    "        index=0\n",
    "        if not os.path.exists(bigram_dir):\n",
    "            self.collocation_finder(self.tokenize(corpus),bigram_dir)\n",
    "            #calling itsef\n",
    "            self.normalize_multi_words(tokenized_sentence,bigram_dir,corpus)\n",
    "        else:\n",
    "            text=open(bigram_dir,encoding='utf8')\n",
    "            for line in iter(text):\n",
    "               line=line.strip()\n",
    "               if not line:  # line is blank\n",
    "                   continue\n",
    "               else:\n",
    "                   bigram.add(line)\n",
    "            if len(tokenized_sentence)==1:\n",
    "                sent_with_bigrams=tokenized_sentence\n",
    "            else:\n",
    "                while index <=len(tokenized_sentence)-2:\n",
    "                    mword=tokenized_sentence[index]+' '+tokenized_sentence[index+1]\n",
    "                    if mword in bigram:\n",
    "                        sent_with_bigrams.append(tokenized_sentence[index]+''+tokenized_sentence[index+1])\n",
    "                        index+=1\n",
    "                    else:\n",
    "                        sent_with_bigrams.append(tokenized_sentence[index])\n",
    "                    index+=1\n",
    "                    if index==len(tokenized_sentence)-1:\n",
    "                        sent_with_bigrams.append(tokenized_sentence[index])\n",
    "                \n",
    "            return sent_with_bigrams"
   ]
  },
  {
   "cell_type": "code",
   "execution_count": 101,
   "metadata": {},
   "outputs": [
    {
     "name": "stdout",
     "output_type": "stream",
     "text": [
      "Tokenization ...\n",
      "Tokens: ['ታሪክ', 'የሌለው', 'ሕዝብ', 'ታሪካዊ', 'ስራ', 'ለመስራት', 'አይጓጓም', 'ነፃነትም', 'የማያውቅ', 'ሕዝብ', 'ነፃነቱን', 'ለማግኘት', 'አይደክምም', 'ታሪክ', 'የሌለው', 'ሕዝብ', 'ታሪካዊ', 'ስራ', 'ለመስራት', 'አይጓጓም', 'ነፃነትም', 'የማያውቅ', 'ሕዝብ', 'ነፃነቱን', 'ለማግኘት', 'አይደክምም']\n",
      "[('ለመስራት', 'አይጓጓም'), ('ለማግኘት', 'አይደክምም'), ('ስራ', 'ለመስራት'), ('ታሪካዊ', 'ስራ'), ('ታሪክ', 'የሌለው')]\n",
      "Normalized Sentence: ['ታሪክየሌለው', 'ሕዝብ', 'ታሪካዊስራ', 'ለመስራትአይጓጓም', 'ነፃነትም', 'የማያውቅ', 'ሕዝብ', 'ነፃነቱን', 'ለማግኘትአይደክምም', 'ታሪክየሌለው', 'ሕዝብ', 'ታሪካዊስራ', 'ለመስራትአይጓጓም', 'ነፃነትም', 'የማያውቅ', 'ሕዝብ', 'ነፃነቱን', 'ለማግኘትአይደክምም']\n"
     ]
    }
   ],
   "source": [
    "normalizer = normalize()\n",
    "\n",
    "# corpus = \"ታሪክ : ታሪክ : ሕዝብ : ታሪካዊ : ስራ : ታሪክ : አይጓጓም። ነፃነትም: የማያውቅ: ሕዝብ: ነፃነቱን: ለማግኘት: አይደክምም።\"\n",
    "corpus = \"ታሪክ:የሌለው:ሕዝብ:ታሪካዊ:ስራ:ለመስራት:አይጓጓም። ነፃነትም:የማያውቅ:ሕዝብ:ነፃነቱን:ለማግኘት:አይደክምም። ታሪክ:የሌለው:ሕዝብ:ታሪካዊ:ስራ:ለመስራት:አይጓጓም። ነፃነትም:የማያውቅ:ሕዝብ:ነፃነቱን:ለማግኘት:አይደክምም። \"\n",
    "# corpus = \"You be a lot sharper if you did not sleep on the couch, You be a lot sharper if you did not sleep on the couch\"\n",
    "bigram_dir = \"bigrams.txt\"\n",
    "\n",
    "# Tokenization\n",
    "tokens = normalizer.tokenize(corpus)\n",
    "print(\"Tokens:\", tokens)\n",
    "\n",
    "# Collocation finder\n",
    "finder = normalizer.collocation_finder(tokens, bigram_dir)\n",
    "\n",
    "# Normalize multi-words\n",
    "normalized_sentence = normalizer.normalize_multi_words(tokens, bigram_dir, corpus)\n",
    "print(\"Normalized Sentence:\", normalized_sentence)"
   ]
  },
  {
   "cell_type": "code",
   "execution_count": 103,
   "metadata": {},
   "outputs": [
    {
     "name": "stdout",
     "output_type": "stream",
     "text": [
      "(('ለመስራት', 'አይጓጓም'), 3.7004397181410917)\n",
      "(('ለማግኘት', 'አይደክምም'), 3.7004397181410917)\n",
      "(('ስራ', 'ለመስራት'), 3.7004397181410917)\n",
      "(('ታሪካዊ', 'ስራ'), 3.7004397181410917)\n",
      "(('ታሪክ', 'የሌለው'), 3.7004397181410917)\n",
      "(('ነፃነቱን', 'ለማግኘት'), 3.7004397181410917)\n",
      "(('ነፃነትም', 'የማያውቅ'), 3.7004397181410917)\n",
      "(('አይጓጓም', 'ነፃነትም'), 3.7004397181410917)\n",
      "(('ሕዝብ', 'ታሪካዊ'), 2.7004397181410917)\n",
      "(('ሕዝብ', 'ነፃነቱን'), 2.7004397181410917)\n",
      "(('አይደክምም', 'ታሪክ'), 2.7004397181410917)\n",
      "(('የሌለው', 'ሕዝብ'), 2.7004397181410917)\n",
      "(('የማያውቅ', 'ሕዝብ'), 2.7004397181410917)\n"
     ]
    }
   ],
   "source": [
    "# Scoring the bigram perfomance\n",
    "bigram_measures = nltk.collocations.BigramAssocMeasures()\n",
    "bigram_collocation = BigramCollocationFinder.from_words(tokens)\n",
    "for i in bigram_collocation.score_ngrams(bigram_measures.pmi):\n",
    "    print(i)"
   ]
  },
  {
   "cell_type": "markdown",
   "metadata": {},
   "source": [
    "Normalize Geez and Arabic Number Mismatch\n",
    "\n",
    "normalize arabic numbers to Geez form. For example, 1=፩, 2=፪, etc."
   ]
  },
  {
   "cell_type": "code",
   "execution_count": 72,
   "metadata": {},
   "outputs": [],
   "source": [
    "def arabic2geez(arabicNumber):\n",
    "        ETHIOPIC_ONE= 0x1369\n",
    "        ETHIOPIC_TEN= 0x1372\n",
    "        ETHIOPIC_HUNDRED= 0x137B\n",
    "        ETHIOPIC_TEN_THOUSAND = 0x137C\n",
    "        arabicNumber=str(arabicNumber)\n",
    "        n = len(arabicNumber)-1 #length of arabic number\n",
    "        if n%2 == 0:\n",
    "            arabicNumber = \"0\" + arabicNumber\n",
    "            n+=1\n",
    "        arabicBigrams=[arabicNumber[i:i+2] for i in range(0,n,2)] #spliting bigrams\n",
    "        reversedArabic=arabicBigrams[::-1] #reversing list content\n",
    "        geez=[]\n",
    "        for index,pair in enumerate(reversedArabic):\n",
    "            curr_geez=''\n",
    "            artens=pair[0]#arrabic tens\n",
    "            arones=pair[1]#arrabic ones\n",
    "            amtens=''\n",
    "            amones=''\n",
    "            if artens!='0':\n",
    "                amtens=str(chr((int(artens) + (ETHIOPIC_TEN - 1)))) #replacing with Geez 10s [፲,፳,፴, ...]\n",
    "            else:\n",
    "                if arones=='0': #for 00 cases\n",
    "                    continue\n",
    "            if arones!='0':       \n",
    "                    amones=str(chr((int(arones) + (ETHIOPIC_ONE - 1)))) #replacing with Geez Ones [፩,፪,፫, ...]\n",
    "            if index>0:\n",
    "                if index%2!= 0: #odd index\n",
    "                    curr_geez=amtens+amones+ str(chr(ETHIOPIC_HUNDRED)) #appending ፻\n",
    "                else: #even index\n",
    "                    curr_geez=amtens+amones+ str(chr(ETHIOPIC_TEN_THOUSAND)) # appending ፼\n",
    "            else: #last bigram (right most part)\n",
    "                curr_geez=amtens+amones\n",
    "            \n",
    "            geez.append(curr_geez)\n",
    "        \n",
    "        geez=''.join(geez[::-1])\n",
    "        if geez.startswith('፩፻') or geez.startswith('፩፼'):\n",
    "            geez=geez[1:]\n",
    "        \n",
    "        if len(arabicNumber)>=7:\n",
    "            end_zeros=''.join(re.findall('([0]+)$',arabicNumber)[0:])\n",
    "            i=int(len(end_zeros)/3)\n",
    "            if len(end_zeros)>=(3*i):\n",
    "                if i>=3:\n",
    "                    i-=1\n",
    "                for thoushand in range(i-1):\n",
    "                    print(thoushand)                \n",
    "                    geez+='፼'\n",
    "        return geez\n",
    "\n",
    "def getExpandedNumber(number):\n",
    "    if '.' not in str(number):\n",
    "        return arabic2geez(number)\n",
    "    else:\n",
    "        num,decimal=str(number).split('.')\n",
    "        if decimal.startswith('0'):\n",
    "            decimal=decimal[1:]\n",
    "            dot=' ነጥብ ዜሮ '\n",
    "        else:\n",
    "            dot=' ነጥብ '\n",
    "        return arabic2geez(num) + dot + arabic2geez(decimal)"
   ]
  },
  {
   "cell_type": "code",
   "execution_count": 70,
   "metadata": {},
   "outputs": [
    {
     "data": {
      "text/plain": [
       "'፲፪'"
      ]
     },
     "execution_count": 70,
     "metadata": {},
     "output_type": "execute_result"
    }
   ],
   "source": [
    "arabic2geez(arabicNumber = 12)"
   ]
  },
  {
   "cell_type": "code",
   "execution_count": 78,
   "metadata": {},
   "outputs": [
    {
     "data": {
      "text/plain": [
       "'፲ ነጥብ ፭'"
      ]
     },
     "execution_count": 78,
     "metadata": {},
     "output_type": "execute_result"
    }
   ],
   "source": [
    "getExpandedNumber(number = 10.5)"
   ]
  },
  {
   "cell_type": "markdown",
   "metadata": {},
   "source": [
    "# Text Preprocessing for Swahili Language"
   ]
  },
  {
   "cell_type": "code",
   "execution_count": 82,
   "metadata": {},
   "outputs": [
    {
     "name": "stdout",
     "output_type": "stream",
     "text": [
      "['Hakuna', 'elimu', 'ya', 'kutosha;', 'kujifunza', 'ni', 'safari', 'ya', 'maisha.']\n"
     ]
    }
   ],
   "source": [
    "def preprocess_swahili_text(text):\n",
    "    # Tokenization\n",
    "    tokens = text.split()  # Split text into individual words\n",
    "    return tokens\n",
    "\n",
    "# Example usage\n",
    "swahili_text = \"Hakuna elimu ya kutosha; kujifunza ni safari ya maisha.\"\n",
    "preprocessed_text = preprocess_swahili_text(swahili_text)\n",
    "print(preprocessed_text)"
   ]
  }
 ],
 "metadata": {
  "kernelspec": {
   "display_name": "Python 3",
   "language": "python",
   "name": "python3"
  },
  "language_info": {
   "codemirror_mode": {
    "name": "ipython",
    "version": 3
   },
   "file_extension": ".py",
   "mimetype": "text/x-python",
   "name": "python",
   "nbconvert_exporter": "python",
   "pygments_lexer": "ipython3",
   "version": "3.10.12"
  }
 },
 "nbformat": 4,
 "nbformat_minor": 2
}
